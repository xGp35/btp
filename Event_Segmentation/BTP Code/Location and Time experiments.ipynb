{
 "cells": [
  {
   "cell_type": "code",
   "execution_count": 1,
   "metadata": {},
   "outputs": [],
   "source": [
    "from empath import Empath\n",
    "lexicon = Empath()"
   ]
  },
  {
   "cell_type": "code",
   "execution_count": 18,
   "metadata": {},
   "outputs": [],
   "source": [
    "from stanza.server import CoreNLPClient"
   ]
  },
  {
   "cell_type": "code",
   "execution_count": 9,
   "metadata": {
    "collapsed": true
   },
   "outputs": [
    {
     "data": {
      "text/plain": [
       "{'help': 0.0,\n",
       " 'office': 0.0,\n",
       " 'dance': 0.0,\n",
       " 'money': 0.0,\n",
       " 'wedding': 0.25,\n",
       " 'domestic_work': 0.0,\n",
       " 'sleep': 0.0,\n",
       " 'medical_emergency': 0.0,\n",
       " 'cold': 0.0,\n",
       " 'hate': 0.0,\n",
       " 'cheerfulness': 0.0,\n",
       " 'aggression': 0.0,\n",
       " 'occupation': 0.0,\n",
       " 'envy': 0.0,\n",
       " 'anticipation': 0.0,\n",
       " 'family': 0.0,\n",
       " 'vacation': 0.0,\n",
       " 'crime': 0.0,\n",
       " 'attractive': 0.0,\n",
       " 'masculine': 0.0,\n",
       " 'prison': 0.0,\n",
       " 'health': 0.0,\n",
       " 'pride': 0.0,\n",
       " 'dispute': 0.0,\n",
       " 'nervousness': 0.0,\n",
       " 'government': 0.0,\n",
       " 'weakness': 0.0,\n",
       " 'horror': 0.0,\n",
       " 'swearing_terms': 0.0,\n",
       " 'leisure': 0.0,\n",
       " 'suffering': 0.0,\n",
       " 'royalty': 0.0,\n",
       " 'wealthy': 0.0,\n",
       " 'tourism': 0.0,\n",
       " 'furniture': 0.0,\n",
       " 'school': 0.0,\n",
       " 'magic': 0.0,\n",
       " 'beach': 0.0,\n",
       " 'journalism': 0.0,\n",
       " 'morning': 0.0,\n",
       " 'banking': 0.0,\n",
       " 'social_media': 0.0,\n",
       " 'exercise': 0.0,\n",
       " 'night': 0.0,\n",
       " 'kill': 0.0,\n",
       " 'blue_collar_job': 0.0,\n",
       " 'art': 0.0,\n",
       " 'ridicule': 0.0,\n",
       " 'play': 0.0,\n",
       " 'computer': 0.0,\n",
       " 'college': 0.0,\n",
       " 'optimism': 0.0,\n",
       " 'stealing': 0.0,\n",
       " 'real_estate': 0.0,\n",
       " 'home': 0.0,\n",
       " 'divine': 0.0,\n",
       " 'sexual': 0.0,\n",
       " 'fear': 0.0,\n",
       " 'irritability': 0.0,\n",
       " 'superhero': 0.0,\n",
       " 'business': 0.0,\n",
       " 'driving': 0.0,\n",
       " 'pet': 0.0,\n",
       " 'childish': 0.0,\n",
       " 'cooking': 0.0,\n",
       " 'exasperation': 0.0,\n",
       " 'religion': 0.25,\n",
       " 'hipster': 0.0,\n",
       " 'internet': 0.0,\n",
       " 'surprise': 0.0,\n",
       " 'reading': 0.0,\n",
       " 'worship': 0.25,\n",
       " 'leader': 0.0,\n",
       " 'independence': 0.0,\n",
       " 'movement': 0.0,\n",
       " 'body': 0.0,\n",
       " 'noise': 0.0,\n",
       " 'eating': 0.0,\n",
       " 'medieval': 0.0,\n",
       " 'zest': 0.0,\n",
       " 'confusion': 0.0,\n",
       " 'water': 0.0,\n",
       " 'sports': 0.0,\n",
       " 'death': 0.0,\n",
       " 'healing': 0.0,\n",
       " 'legend': 0.0,\n",
       " 'heroic': 0.0,\n",
       " 'celebration': 0.0,\n",
       " 'restaurant': 0.0,\n",
       " 'violence': 0.0,\n",
       " 'programming': 0.0,\n",
       " 'dominant_heirarchical': 0.0,\n",
       " 'military': 0.0,\n",
       " 'neglect': 0.0,\n",
       " 'swimming': 0.0,\n",
       " 'exotic': 0.0,\n",
       " 'love': 0.0,\n",
       " 'hiking': 0.0,\n",
       " 'communication': 0.0,\n",
       " 'hearing': 0.0,\n",
       " 'order': 0.0,\n",
       " 'sympathy': 0.0,\n",
       " 'hygiene': 0.0,\n",
       " 'weather': 0.0,\n",
       " 'anonymity': 0.0,\n",
       " 'trust': 0.0,\n",
       " 'ancient': 0.0,\n",
       " 'deception': 0.0,\n",
       " 'fabric': 0.0,\n",
       " 'air_travel': 0.0,\n",
       " 'fight': 0.0,\n",
       " 'dominant_personality': 0.0,\n",
       " 'music': 0.0,\n",
       " 'vehicle': 0.0,\n",
       " 'politeness': 0.0,\n",
       " 'toy': 0.0,\n",
       " 'farming': 0.0,\n",
       " 'meeting': 0.0,\n",
       " 'war': 0.0,\n",
       " 'speaking': 0.0,\n",
       " 'listen': 0.0,\n",
       " 'urban': 0.0,\n",
       " 'shopping': 0.0,\n",
       " 'disgust': 0.0,\n",
       " 'fire': 0.0,\n",
       " 'tool': 0.0,\n",
       " 'phone': 0.0,\n",
       " 'gain': 0.0,\n",
       " 'sound': 0.0,\n",
       " 'injury': 0.0,\n",
       " 'sailing': 0.0,\n",
       " 'rage': 0.0,\n",
       " 'science': 0.0,\n",
       " 'work': 0.0,\n",
       " 'appearance': 0.0,\n",
       " 'valuable': 0.0,\n",
       " 'warmth': 0.0,\n",
       " 'youth': 0.0,\n",
       " 'sadness': 0.0,\n",
       " 'fun': 0.0,\n",
       " 'emotional': 0.0,\n",
       " 'joy': 0.0,\n",
       " 'affection': 0.0,\n",
       " 'traveling': 0.0,\n",
       " 'fashion': 0.0,\n",
       " 'ugliness': 0.0,\n",
       " 'lust': 0.0,\n",
       " 'shame': 0.0,\n",
       " 'torment': 0.0,\n",
       " 'economics': 0.0,\n",
       " 'anger': 0.0,\n",
       " 'politics': 0.0,\n",
       " 'ship': 0.0,\n",
       " 'clothing': 0.0,\n",
       " 'car': 0.0,\n",
       " 'strength': 0.0,\n",
       " 'technology': 0.0,\n",
       " 'breaking': 0.0,\n",
       " 'shape_and_size': 0.0,\n",
       " 'power': 0.0,\n",
       " 'white_collar_job': 0.0,\n",
       " 'animal': 0.0,\n",
       " 'party': 0.0,\n",
       " 'terrorism': 0.0,\n",
       " 'smell': 0.0,\n",
       " 'disappointment': 0.0,\n",
       " 'poor': 0.0,\n",
       " 'plant': 0.0,\n",
       " 'pain': 0.0,\n",
       " 'beauty': 0.0,\n",
       " 'timidity': 0.0,\n",
       " 'philosophy': 0.0,\n",
       " 'negotiate': 0.0,\n",
       " 'negative_emotion': 0.0,\n",
       " 'cleaning': 0.0,\n",
       " 'messaging': 0.0,\n",
       " 'competing': 0.0,\n",
       " 'law': 0.0,\n",
       " 'friends': 0.0,\n",
       " 'payment': 0.0,\n",
       " 'achievement': 0.0,\n",
       " 'alcohol': 0.0,\n",
       " 'liquid': 0.0,\n",
       " 'feminine': 0.0,\n",
       " 'weapon': 0.0,\n",
       " 'children': 0.0,\n",
       " 'monster': 0.0,\n",
       " 'ocean': 0.0,\n",
       " 'giving': 0.0,\n",
       " 'contentment': 0.0,\n",
       " 'writing': 0.0,\n",
       " 'rural': 0.0,\n",
       " 'positive_emotion': 0.0,\n",
       " 'musical': 0.0}"
      ]
     },
     "execution_count": 9,
     "metadata": {},
     "output_type": "execute_result"
    }
   ],
   "source": [
    "lexicon.analyze(\"I go to church\", normalize = True)"
   ]
  },
  {
   "cell_type": "code",
   "execution_count": 6,
   "metadata": {},
   "outputs": [
    {
     "name": "stdout",
     "output_type": "stream",
     "text": [
      "[\"places\", \"areas\", \"different_places\", \"other_places\", \"place\", \"many_places\", \"locations\", \"cities\", \"different_parts\", \"other_parts\", \"towns\", \"parts\", \"different_areas\", \"spots\", \"certain_places\", \"few_places\", \"houses\", \"area\", \"businesses\", \"ones\", \"photographs\", \"spaces\", \"churches\", \"other_areas\", \"objects\", \"islands\", \"routes\", \"sections\", \"grid\", \"regions\", \"dimensions\", \"hotels\", \"cases\", \"markets\", \"landmarks\", \"continents\", \"countries\", \"maps\", \"farms\", \"museums\", \"records\", \"restaurants\", \"occasions\", \"homes\", \"villages\", \"artifacts\", \"structures\", \"things\", \"factories\", \"planes\", \"buildings\", \"city\", \"vehicles\", \"planets\", \"banks\", \"globe\", \"facilities\", \"caves\", \"people\", \"designs\", \"roads\", \"bases\", \"various_places\", \"different_countries\", \"properties\", \"types\", \"region\", \"trains\", \"tombs\", \"locals\", \"stores\", \"different_houses\", \"mansions\", \"big_ones\", \"devices\", \"products\", \"residents\", \"wherever\", \"warehouses\", \"body_parts\", \"sites\", \"others\", \"centers\", \"pods\", \"malls\", \"trips\", \"tapes\", \"companies\", \"stations\", \"certain_parts\", \"tourists\", \"destinations\", \"zones\", \"paintings\"]\n"
     ]
    }
   ],
   "source": [
    "lexicon.create_category(\"fictional_places\", [\"places\"], model =\"fiction\")"
   ]
  },
  {
   "cell_type": "code",
   "execution_count": 8,
   "metadata": {},
   "outputs": [
    {
     "name": "stdout",
     "output_type": "stream",
     "text": [
      "[\"church\", \"temple\", \"chapel\", \"altar\", \"palace\", \"base\", \"manor\", \"castle\", \"cathedral\", \"graveyard\", \"cemetery\", \"chamber\", \"chambers\", \"gardens\", \"tower\", \"estate\", \"garden\", \"greenhouse\", \"tomb\", \"building\", \"valley\", \"Church\", \"shrine\", \"forge\", \"caravan\", \"alter\", \"city\", \"fortress\", \"keep\", \"place\", \"throne_room\", \"town_square\", \"compound\", \"longhouse\", \"tavern\", \"cottage\", \"priest\", \"rear\", \"coffin\", \"ballroom\", \"bedchamber\", \"village\", \"arch\", \"barracks\", \"square\", \"workshop\", \"ward\", \"monument\", \"sanctuary\", \"monastery\", \"citadel\", \"grave\", \"graves\", \"column\", \"grounds\", \"staff\", \"carriage\", \"museum\", \"dome\", \"hut\", \"Church\", \"procession\", \"courtyard\", \"north\", \"casket\", \"orchard\", \"Rivendell\", \"memorial\", \"warehouse\", \"marketplace\"]\n"
     ]
    }
   ],
   "source": [
    "lexicon.create_category(\"religious_buildings\", [\"church\", \"mosque\", \"temple\"], model=\"fiction\")"
   ]
  },
  {
   "cell_type": "code",
   "execution_count": 9,
   "metadata": {},
   "outputs": [
    {
     "name": "stdout",
     "output_type": "stream",
     "text": [
      "[\"arriving\", \"return\", \"departed\", \"left\", \"visiting\", \"arrived\", \"travelling\", \"traveling\", \"arrive\", \"visit\", \"returned\", \"heading\", \"visited\", \"departing\", \"depart\", \"travel\", \"staying\", \"leaving\", \"ventured\", \"returning\", \"coming\", \"accompanying\", \"short_walk\", \"trip\", \"passed\", \"home\", \"exited\", \"escorting\", \"retired\", \"meeting_place\", \"gone\", \"head\", \"travel\", \"transported\", \"retiring\", \"migrated\", \"leave\", \"flown\", \"wandering\", \"relocated\", \"stationed\", \"strolling\", \"walking\", \"venturing\", \"walk\", \"booked\", \"long_journey\", \"entered\", \"scouted\", \"scouting\", \"Richmond\", \"main_house\", \"whisked\", \"headed\", \"London\", \"caravan\", \"journey\", \"stayed\", \"toured\", \"accompany\", \"precinct\", \"outside\", \"wandered\", \"scout\", \"stroll\", \"home\", \"entering\", \"brought\", \"passing\", \"train_station\", \"next_town\", \"meeting\", \"settled\", \"escorted\", \"travelled\", \"after\", \"visit\", \"stroll\", \"trek\", \"attending\", \"drove\", \"long_walk\", \"boarded\", \"conference\", \"gathering\", \"journeyed\", \"moved\", \"residence\", \"relocate\", \"next_destination\"]\n"
     ]
    }
   ],
   "source": [
    "lexicon.create_category(\"loc_verbs\", [\"arriving\", \"walk\", \"visit\", \"travelling\", \"returned\"], model= \"fiction\")"
   ]
  },
  {
   "cell_type": "code",
   "execution_count": 6,
   "metadata": {},
   "outputs": [
    {
     "name": "stdout",
     "output_type": "stream",
     "text": [
      "[\"next_day\", \"Sunday_morning\", \"next_morning\", \"the_next_day\", \"9_am\", \"9am\", \"6am\", \"Friday_morning\", \"next_day\", \"Saturday_morning\", \"Sunday_night\", \"five_o'clock\", \"5_o'clock\", \"8am\", \"following\", \"usual_time\", \"6_am\", \"nine_o'clock\", \"7am\", \"three_o'clock\", \"morning-\", \"8_am\", \"Sunday_night\", \"sunday\", \"five_in_the_morning\", \"8_o'clock\", \"earliest\", \"early_morning\", \"8:00_am\", \"normal_time\", \"Tuesday_morning\", \"around_noon\", \"5am\", \"7:00_pm\", \"Saturday\", \"6_in_the_morning\", \"Saturday\", \"6am\", \"6:00_am\", \"Monday_morning\", \"Sunday_morning\", \"3pm\", \"5_am\", \"around_three\", \"only_day\", \"saturday\", \"10am\", \"day-\", \"6_a.m.\", \"4:00\", \"6:00_in_the_morning\", \"4pm\", \"six_in_the_morning\", \"four_o'clock\", \"11_o'clock\", \"Thursday_morning\", \"2:00\", \"Sunday\", \"Monday_night\", \"ten_o'clock\", \"4_am\", \"Thursday\", \"Wednesday_night\", \"6_o'clock\", \"sunday\", \"4_o'clock\", \"10am\", \"the_morning\", \"9:00\", \"3:00_am\", \"11:30\", \"seven_in_the_morning\", \"10_am\", \"8_in_the_morning\", \"the_day_after\", \"12:00\", \"morning\", \"Friday_afternoon\", \"8:00am\", \"Tuesday_night\", \"7_in_the_morning\", \"5:00\", \"5:00_pm\", \"one_morning\", \"afternoon\", \"10_o'clock\", \"9pm\", \"9_in_the_morning\", \"Tuesday\", \"9_o'clock\", \"six_thirty\", \"5_in_the_morning\", \"same_routine\", \"4am\", \"7:00am\", \"thursday\", \"seven_o'clock\", \"monday\", \"eleven_thirty\", \"Thursday_night\", \"Next_day\", \"Monday\", \"Saturday_afternoon\", \"7:00_am\", \"1pm\", \"5pm\", \"10:00_pm\", \"Friday\", \"2:00_am\", \"4_in_the_morning\", \"7_am\", \"6:30am\", \"six_o'clock\", \"saturday\", \"1:30\", \"around_eight\", \"Wednesday\", \"nights\", \"5:30\", \"10_a.m.\", \"wednesday\", \"eight_o'clock\", \"10pm\", \"next_night\", \"about_noon\", \"Friday\", \"10:00\", \"3_am\", \"friday\", \"noon\", \"4_pm\", \"last_Friday\", \"New_Year's_Eve\", \"Christmas_eve\", \"three_in_the_afternoon\", \"5:00_am\", \"3pm\", \"11pm\", \"3am\", \"Christmas_Eve\", \"3_in_the_morning\", \"1:00\", \"tuesday\", \"2:00\", \"5:30_am\", \"5:30_in_the_morning\", \"6_am\", \"3:30\", \"That_morning\", \"long_weekend\", \"4_a.m.\", \"13th\", \"5pm\", \"8pm\", \"Sometime\", \"regular_day\", \"9:00\", \"evening\", \"Wednesday_morning\", \"12:30\", \"next_morning\", \"3:00\", \"That_day\", \"6:30_am\", \"3:00\", \"3:30\", \"12:00_pm\", \"10:00\", \"10_am\", \"11:00\", \"moring\", \"10:30\", \"1:30\", \"7_a.m.\", \"9_pm\", \"eight_thirty\", \"nine_in_the_morning\", \"9:00am\", \"2:30\", \"3_o'clock\", \"friday\", \"favorite_day\", \"3:00\", \"8_pm\", \"Monday\", \"the_next_morning\", \"11am\", \"10pm\", \"nine\", \"3:30\", \"6_pm\", \"2:00\", \"Tomorrow\", \"first_morning\", \"Sunday\", \"1:00\", \"morning\", \"11:00_am\", \"eleven\", \"4:00\", \"afternoon\", \"10:00_am\", \"11_pm\", \"12:00\", \"1_a.m.\", \"three_in_the_morning\", \"school_days\", \"9:00_am\", \"mornings\", \"9:00\", \"9:00_pm\", \"2:30\", \"11:00_pm\", \"5:00\", \"7_o'clock\", \"6:00\", \"about_midnight\", \"last_week\", \"6pm\", \"10_in_the_morning\", \"8_a.m.\", \"weekday\", \"3_a.m.\", \"9:30\", \"4:30\", \"Early\", \"Christmas_Eve\", \"12pm\", \"Yesterday\", \"6:30\", \"Todays\", \"8:30\", \"Tommorow\", \"8:00_pm\", \"2:30\", \"a_half_day\", \"second_day\", \"6:00_pm\", \"the_whole_day\", \"8:30_am\", \"7_pm\", \"my_day\", \"10:30_am\", \"6:00\", \"12:30\", \"10:00\", \"dance_practice\", \"12:30\", \"following_morning\", \"durring\", \"four_in_the_morning\", \"long_nap\", \"monday\", \"One_week\", \"6:30\", \"school_time\", \"8:00\", \"four_thirty\", \"6:00_a.m.\", \"4:00\", \"4:00_am\", \"6_hours\", \"summer_holidays\", \"late_night\", \"about_11\", \"todays\", \"tomorrows\", \"12:00\", \"5.30\", \"Earlier\", \"about_5_hours\", \"6:00\", \"9:30\", \"10_pm\", \"Graduation\", \"The_next_day\", \"a_big_day\", \"Remembering\", \"7:30_am\", \"4:30\", \"cheer_practice\", \"7.30\", \"New_Years_Eve\", \"10:00\", \"11:30\", \"This_morning\", \"Christmas_vacation\", \"3am\", \"the_following_day\", \"Sunday_afternoon\", \"New_Year's\", \"One_month\", \"untill\"]\n"
     ]
    }
   ],
   "source": [
    "lexicon.create_category(\"custom_times\", [\"once_upon_a_time\", \"next_day\",\"that_evening\"], size = 300)"
   ]
  },
  {
   "cell_type": "code",
   "execution_count": 91,
   "metadata": {},
   "outputs": [
    {
     "name": "stdout",
     "output_type": "stream",
     "text": [
      "[\"next_day\", \"Sunday_morning\", \"next_morning\", \"the_next_day\", \"9_am\", \"9am\", \"6am\", \"Friday_morning\", \"next_day\", \"Saturday_morning\", \"Sunday_night\", \"five_o'clock\", \"5_o'clock\", \"8am\", \"following\", \"usual_time\", \"6_am\", \"nine_o'clock\", \"7am\", \"three_o'clock\", \"morning-\", \"8_am\", \"Sunday_night\", \"sunday\", \"five_in_the_morning\", \"8_o'clock\", \"earliest\", \"early_morning\", \"8:00_am\", \"normal_time\", \"Tuesday_morning\", \"around_noon\", \"5am\", \"7:00_pm\", \"Saturday\", \"6_in_the_morning\", \"Saturday\", \"6am\", \"6:00_am\", \"Monday_morning\", \"Sunday_morning\", \"3pm\", \"5_am\", \"around_three\", \"only_day\", \"saturday\", \"10am\", \"day-\", \"6_a.m.\", \"4:00\", \"6:00_in_the_morning\", \"4pm\", \"six_in_the_morning\", \"four_o'clock\", \"11_o'clock\", \"Thursday_morning\", \"2:00\", \"Sunday\", \"Monday_night\", \"ten_o'clock\", \"4_am\", \"Thursday\", \"Wednesday_night\", \"6_o'clock\", \"sunday\", \"4_o'clock\", \"10am\", \"the_morning\", \"9:00\", \"3:00_am\", \"11:30\", \"seven_in_the_morning\", \"10_am\", \"8_in_the_morning\", \"the_day_after\", \"12:00\", \"morning\", \"Friday_afternoon\", \"8:00am\", \"Tuesday_night\", \"7_in_the_morning\", \"5:00\", \"5:00_pm\", \"one_morning\", \"afternoon\", \"10_o'clock\", \"9pm\", \"9_in_the_morning\", \"Tuesday\", \"9_o'clock\", \"six_thirty\", \"5_in_the_morning\", \"same_routine\", \"4am\", \"7:00am\", \"thursday\", \"seven_o'clock\", \"monday\", \"eleven_thirty\", \"Thursday_night\", \"Next_day\", \"Monday\", \"Saturday_afternoon\", \"7:00_am\", \"1pm\", \"5pm\", \"10:00_pm\", \"Friday\", \"2:00_am\", \"4_in_the_morning\", \"7_am\", \"6:30am\", \"six_o'clock\", \"saturday\", \"1:30\", \"around_eight\", \"Wednesday\", \"nights\", \"5:30\", \"10_a.m.\", \"wednesday\", \"eight_o'clock\", \"10pm\", \"next_night\", \"about_noon\", \"Friday\", \"10:00\", \"3_am\", \"friday\", \"noon\", \"4_pm\", \"last_Friday\", \"New_Year's_Eve\", \"Christmas_eve\", \"three_in_the_afternoon\", \"5:00_am\", \"3pm\", \"11pm\", \"3am\", \"Christmas_Eve\", \"3_in_the_morning\", \"1:00\", \"tuesday\", \"2:00\", \"5:30_am\", \"5:30_in_the_morning\", \"6_am\", \"3:30\", \"That_morning\", \"long_weekend\", \"4_a.m.\", \"13th\", \"5pm\", \"8pm\", \"Sometime\", \"regular_day\", \"9:00\", \"evening\", \"Wednesday_morning\", \"12:30\", \"next_morning\", \"3:00\", \"That_day\", \"6:30_am\", \"3:00\", \"3:30\", \"12:00_pm\", \"10:00\", \"10_am\", \"11:00\", \"moring\", \"10:30\", \"1:30\", \"7_a.m.\", \"9_pm\", \"eight_thirty\", \"nine_in_the_morning\", \"9:00am\", \"2:30\", \"3_o'clock\", \"friday\", \"favorite_day\", \"3:00\", \"8_pm\", \"Monday\", \"the_next_morning\", \"11am\", \"10pm\", \"nine\", \"3:30\", \"6_pm\", \"2:00\", \"Tomorrow\", \"first_morning\", \"Sunday\", \"1:00\", \"morning\", \"11:00_am\", \"eleven\", \"4:00\", \"afternoon\", \"10:00_am\", \"11_pm\", \"12:00\", \"1_a.m.\", \"three_in_the_morning\", \"school_days\", \"9:00_am\", \"mornings\", \"9:00\", \"9:00_pm\", \"2:30\", \"11:00_pm\", \"5:00\", \"7_o'clock\", \"6:00\", \"about_midnight\", \"last_week\", \"6pm\", \"10_in_the_morning\", \"8_a.m.\", \"weekday\", \"3_a.m.\", \"9:30\", \"4:30\", \"Early\", \"Christmas_Eve\", \"12pm\", \"Yesterday\", \"6:30\", \"Todays\", \"8:30\", \"Tommorow\", \"8:00_pm\", \"2:30\", \"a_half_day\", \"second_day\", \"6:00_pm\", \"the_whole_day\", \"8:30_am\", \"7_pm\", \"my_day\", \"10:30_am\", \"6:00\", \"12:30\", \"10:00\", \"dance_practice\", \"12:30\", \"following_morning\", \"durring\", \"four_in_the_morning\", \"long_nap\", \"monday\", \"One_week\", \"6:30\", \"school_time\", \"8:00\", \"four_thirty\", \"6:00_a.m.\", \"4:00\", \"4:00_am\", \"6_hours\", \"summer_holidays\", \"late_night\", \"about_11\", \"todays\", \"tomorrows\", \"12:00\", \"5.30\", \"Earlier\", \"about_5_hours\", \"6:00\", \"9:30\", \"10_pm\", \"Graduation\", \"The_next_day\", \"a_big_day\", \"Remembering\", \"7:30_am\", \"4:30\", \"cheer_practice\", \"7.30\", \"New_Years_Eve\", \"10:00\", \"11:30\", \"This_morning\", \"Christmas_vacation\", \"3am\", \"the_following_day\", \"Sunday_afternoon\", \"New_Year's\", \"One_month\", \"untill\"]\n"
     ]
    }
   ],
   "source": [
    "lexicon.create_category(\"custom_times_3\", [\"when\", \"next_day\",\"one_time\"], size = 300)"
   ]
  },
  {
   "cell_type": "code",
   "execution_count": 87,
   "metadata": {},
   "outputs": [
    {
     "name": "stdout",
     "output_type": "stream",
     "text": [
      "[\"sundown\", \"midday\", \"next_day\", \"ten_o'clock\", \"noon\", \"Sunday_night\", \"3pm\", \"mid-day\", \"eight_o'clock\", \"mid_day\", \"seven_o'clock\", \"10pm\", \"about_noon\", \"midday\", \"8_o'clock\", \"6_pm\", \"eleven\", \"early_morning\", \"nine_o'clock\", \"5pm\", \"4pm\", \"5:00_pm\", \"five_o'clock\", \"midnight\", \"earliest\", \"six_o'clock\", \"6pm\", \"9pm\", \"four_o'clock\", \"nightfall\", \"Thursday_night\", \"8pm\", \"Monday_night\", \"late_afternoon\", \"around_eight\", \"4:00\", \"next_night\", \"ten_thirty\", \"noon\", \"11_o'clock\", \"10_o'clock\", \"7pm\", \"Sunday_morning\", \"daybreak\", \"dusk\", \"9_o'clock\", \"around_noon\", \"7:00_pm\", \"night_fall\", \"final_day\", \"5_o'clock\", \"Saturday_afternoon\", \"5_p.m.\", \"Sunday_night\", \"six_thirty\", \"nine_o'clock\", \"three_o'clock\", \"following_day\", \"nine\", \"11:30\", \"the_day_after\", \"Wednesday_night\", \"tomorrow_morning\", \"tomorrow_morning\", \"11pm\", \"4_o'clock\", \"around_three\", \"10am\", \"two_more_days\", \"9am\", \"late_evening\", \"8am\", \"6:00_pm\", \"12:00\", \"following\", \"the_third_day\", \"normal_time\", \"8_pm\", \"10am\", \"eleven_o'clock\", \"eight_thirty\", \"10_pm\", \"10:00\", \"6_o'clock\", \"7_o'clock\", \"9_pm\", \"Tomorrow\", \"reasonable_time\", \"12:00_pm\", \"four_thirty\", \"afternoon\", \"3:30\", \"11_pm\", \"eight_days\", \"next_full_moon\", \"seven_thirty\", \"Tuesday_night\", \"late_night\", \"5pm\", \"3:30\", \"3:00\", \"the_morning\", \"Sunday\", \"4_pm\", \"9_am\", \"3:00\", \"3pm\", \"the_next_days\", \"9:00_pm\", \"about_midnight\", \"evening\", \"5:00\", \"one_hour\", \"dinnertime\", \"Christmas_Eve\", \"New_Year's_Eve\", \"eight\", \"1_a.m.\", \"eleven_thirty\", \"10:00\", \"following_morning\", \"9:00\", \"forty-five_minutes\", \"time_school\", \"the_following_day\", \"the_day_after_tomorrow\", \"10_a.m.\", \"only_a_few_hours\", \"work_day\", \"Sunday_afternoon\", \"five_thirty\", \"1:30\", \"9:30\", \"12:00\", \"the_New_Year\", \"1pm\", \"a_few_hours\", \"5:00\", \"Sometime\", \"7_pm\", \"2:00\", \"4:00\", \"10pm\", \"2:00\", \"10:30\", \"4:00_pm\", \"10_pm\", \"five_in_the_morning\", \"the_fourth_day\", \"seven_in_the_morning\", \"late_afternoon\", \"sunday\", \"next_Monday\", \"next_Saturday\", \"nighttime\", \"only_two_days\", \"school_time\", \"eight_hours\", \"late_morning\", \"three_more_days\", \"Saturday\", \"8:00_pm\", \"Christmas_Eve\", \"school_starts\", \"8_a.m.\", \"11:00\", \"11:00_pm\", \"12:30\", \"certain_time\", \"10_am\", \"festival\", \"til\", \"first_light\", \"9_a.m.\", \"tomorrow_afternoon\", \"Tuesday_morning\", \"9:00pm\", \"4:30\", \"Thursday\", \"about_5_hours\", \"rest_day\", \"1:00\", \"dinner_time\", \"Christmas_eve\", \"long_weekend\", \"8:00_am\", \"late_at_night\", \"the_end_of_the_summer\", \"6:00\", \"9:00\", \"five-thirty\", \"the_big_day\", \"late_that_night\", \"camping_trip\", \"Friday_afternoon\", \"nine-thirty\", \"next_Thursday\", \"Saturday_morning\", \"Spring_Break\", \"the_fifth_day\", \"Winter_Break\", \"4:30\", \"9:30\", \"5_pm\", \"2pm\", \"2:30\", \"dawn\", \"4:00\", \"Christmas_vacation\", \"New_Year's\", \"six_hours\", \"forty_five_minutes\", \"Friday_morning\", \"8:30\", \"only_an_hour\", \"10:00_pm\", \"Wednesday\", \"weekday\", \"Christmas_break\", \"Spring_break\", \"Saturday\", \"nights\", \"next_shift\", \"3:30\", \"busiest\", \"winter_solstice\", \"rendezvous\", \"Tommorow\", \"the_next_day\", \"usual_time\", \"10:00\", \"sunrise\", \"closing_time\", \"New_Year\\u2019s_Eve\", \"6:00\", \"next_Sunday\", \"9:00am\", \"7.30\", \"New_Years\", \"new_moon\", \"training_session\", \"next_morning\", \"ten_days\", \"another_few_hours\", \"3:00_pm\", \"afternoon\", \"cheer_practice\", \"12:00_am\", \"2:00\", \"about_four_hours\", \"6:00pm\", \"solstice\", \"1:30\", \"12pm\", \"Reaping\", \"3_o'clock\", \"Wednesday_morning\", \"6:30\", \"night_time\", \"1:00\", \"til\", \"11:30\", \"morrow\", \"summer_holiday\", \"supper_time\", \"Tomorrow\", \"9:00\", \"6am\", \"the_next_two_days\", \"this_Sunday\", \"six_days\", \"5:30\", \"training_camp\", \"the_next_month\", \"5:30\", \"last_Friday\", \"12:00\", \"two_days_time\", \"2_more_days\", \"only_day\", \"4:30\", \"12:30\", \"luncheon\", \"8_p.m.\", \"Christmas_holidays\", \"tomorrow_evening\", \"10:30\", \"another_three_hours\", \"6_am\", \"about_six_hours\", \"a_half_day\", \"11:00\", \"later_tonight\", \"2:00_pm\", \"another_half_hour\", \"less_than_an_hour\", \"tomorrow\", \"tommorow\", \"next_week\", \"summer_holidays\", \"tomorrow\", \"ten\", \"5am\", \"afterschool\", \"Five_hours\", \"11:00\", \"about_one_hour\", \"Tuesday\", \"sunday\", \"pack_meeting\", \"three_in_the_afternoon\", \"2:00_am\", \"8:00\", \"the_month\", \"8:45\", \"Halloween\", \"the_new_year\", \"Friday\", \"about_4_hours\", \"tomorrow_night\", \"2:30\", \"big_night\", \"a_busy_day\", \"8:00pm\", \"Christmas\", \"exact_time\", \"a_big_day\", \"our_day\", \"monday\", \"next_Friday\", \"that_hour\", \"six_in_the_morning\", \"youth_group\", \"couple_hours\", \"almost_midnight\", \"6pm\", \"30_minutes\", \"Summer_break\", \"only_an_hour\", \"seven_hours\", \"New_Years_Eve\", \"2_hours\", \"Thanksgiving_break\", \"5:30_pm\", \"nine_in_the_morning\", \"11:00_am\", \"Sunday\", \"1pm\", \"camp\", \"night\", \"Curfew\", \"decent_time\", \"12:30\", \"regular_day\", \"saturday\", \"dusk\", \"full_day\", \"four_hours\", \"the_day\", \"big_meeting\", \"Friday\", \"third_day\", \"3:00\", \"postponed\", \"six_thirty\", \"midnight\", \"another_week\", \"8_am\", \"Graduation\", \"Thursday_morning\", \"the_next_couple_of_weeks\", \"Gathering\", \"early_morning\", \"early_start\", \"next_Wednesday\", \"tommorrow\", \"evening\", \"the_wee_hours_of_the_morning\", \"Christmas_time\", \"next_summer\", \"last_Sunday\", \"reaping\", \"football_season\", \"school_week\", \"8:00\", \"dreadful_day\", \"7:00\", \"5.30\", \"Easter\", \"a_weekend\", \"6am\", \"reaping\", \"6:30\", \"11:30_pm\", \"1am\", \"7:00\", \"Thanksgiving\", \"1:00_pm\", \"graduation_ceremony\", \"tuesday\", \"2:30\", \"lunchtime\", \"less_than_an_hour\", \"scheduled\", \"7:00pm\", \"Graduation\", \"early_hours\", \"cookout\", \"main_event\", \"Christmas_Eve\", \"6_a.m.\", \"6:00\", \"seven_days\", \"morn\", \"tutoring_session\", \"date_night\", \"council_meeting\", \"New_Years\", \"Monday_morning\", \"5:00\", \"8:00\", \"3:00_am\", \"winter_break\", \"Port_Angeles\", \"twenty_five_minutes\", \"the_end_of_summer\", \"12:00\", \"7:45\", \"school_days\", \"forty_minutes\", \"September_1st\", \"about_11\", \"Thanksgiving\", \"A.M.\", \"only_three_days\", \"another_month\", \"Monday\", \"2pm\", \"the_next_week\", \"only_two_hours\", \"7:30_pm\", \"wednesday\", \"8:00am\", \"school_ends\", \"long_trip\", \"underway\", \"3_a.m.\", \"1:30\", \"10:30_pm\", \"Saturday_night\", \"five_weeks\", \"8:15\", \"specific_time\", \"just_a_few_hours\", \"1:00\", \"ten_minutes\", \"purge\", \"6:30_pm\", \"many_days\", \"Friday_evening\", \"Early\", \"9_days\", \"last_week\", \"good_nights_sleep\", \"an_hour_and_a_half\", \"7:30\", \"One_week\", \"P.M.\", \"thanksgiving\", \"dance_practice\", \"6:30pm\", \"8:30\", \"6:00pm\", \"7:30\", \"nine_thirty\", \"two_weeks_time\", \"tomarrow\", \"10:30\", \"morning_shift\", \"10_days\", \"6_hours\", \"only_three_hours\", \"December\", \"7:00am\", \"second_day\", \"eight_in_the_morning\", \"only_2_days\", \"5:00\", \"Christmas_party\", \"11am\", \"only_twenty_minutes\", \"eleven_at_night\", \"13_minutes\", \"their_day\", \"twenty_minutes\", \"Spring_Break\", \"thursday\", \"a_day\", \"Prom\", \"retire\", \"boat_ride\", \"coronation\", \"just_a_normal_day\", \"7am\", \"only_2_hours\", \"the_end_of_our\", \"next_Tuesday\", \"another_day\", \"each_morning\", \"9:30\", \"September\", \"few_hours\", \"five_hours\", \"sixteenth\", \"Hyde_Park\", \"A_day\", \"7_a.m.\", \"only_20_minutes\", \"free_day\", \"dinner_party\", \"the_third_week\", \"March\", \"Sundays\", \"grand_opening\", \"march\", \"til\", \"9_hours\", \"spring_break\", \"late_tonight\", \"the_last_days\", \"weeks_time\", \"6:30am\", \"friday\", \"about_five_hours\", \"4_in_the_morning\", \"about_a_half_hour\", \"8_days\", \"each_night\", \"morning_walk\", \"New_Year\", \"a_few_hours_before\", \"September\", \"almost_time\", \"6_am\", \"five\", \"12_hours\", \"Every_day\", \"the_next_three_weeks\", \"choosing_ceremony\", \"two_nights\", \"most_nights\", \"four_in_the_morning\", \"about_the_time\", \"the_next_three_days\", \"5_am\", \"5:45\", \"Christmas_Break\", \"early\", \"Tomorrow_night\", \"rush_hour\", \"art_show\", \"lunch_hour\", \"busy_day\", \"2:45\", \"7:00\", \"only_five_minutes\", \"fieldtrip\", \"big_game\", \"One_month\", \"half_a_day\", \"10_am\", \"volleyball_practice\", \"five_minutes\", \"another_2_hours\", \"about_3\", \"one_week\", \"this_Friday\", \"5:30_in_the_morning\", \"Supper\", \"Remembering\", \"summer_break\", \"nine_hours\", \"arriving\", \"field_trip\", \"all_week\", \"charity_event\", \"night\", \"the_next_two_weeks\", \"four_minutes\", \"January_1st\", \"one_morning\", \"daytime\", \"three_day\", \"9_in_the_morning\", \"the_end_of_the\", \"retiring\", \"18th\", \"summer_vacation\", \"about_2_days\", \"three_weeks_later\", \"long_car_ride\", \"Training\", \"6:00_am\", \"we\\u2019d\", \"12:30\", \"another_two_days\", \"five_days\", \"2:15\", \"still\", \"6.30\", \"6:45\", \"first_practice\", \"family_day\", \"9:45\", \"job_hunting\", \"7_hours\", \"15th\", \"friday\", \"second_task\", \"eight_minutes\", \"daylight_hours\", \"preparations\", \"7_days\", \"christmas\", \"day_time\", \"10:30_am\", \"10_in_the_morning\", \"fourteenth\", \"Two_weeks\", \"dinner_reservations\", \"13th\", \"saturday\", \"2_hours\", \"pm\", \"February\", \"7:40\", \"Every_morning\", \"thanksgiving\", \"four_days\", \"10:45\", \"boring_day\", \"resort\", \"premiere\", \"Camp\", \"very_important_day\", \"later_tonight\", \"long_journey\", \"deadline\", \"Saturday_night\", \"curfew\", \"til\", \"6:30\", \"prepare\", \"7:45\", \"next_town\", \"11:30\", \"nigh\", \"5_days\", \"very_long_day\", \"4:45\", \"Tonight\", \"band_camp\", \"7_am\", \"home\", \"35_minutes\", \"train_ride\", \"at_least_two_hours\", \"Tryouts\", \"Saturdays\", \"twelve_hours\", \"eighteenth\", \"the_following_week\", \"every_year\", \"first_session\", \"the_first_week\", \"untill\", \"second_week\", \"3:00pm\", \"8:30\", \"opening_ceremony\", \"day\", \"morning-\", \"4_am\", \"excursion\", \"Rehearsals\", \"5:30\", \"eleven\", \"4:00_am\", \"Universal_Studios\", \"morning\", \"first_month\", \"Monday_afternoon\", \"Homecoming\", \"new_day\", \"nighttime\", \"3:15\", \"8:00_a.m.\", \"Finals\", \"last_day\", \"November\", \"family_dinner\", \"October\", \"Todays\", \"half_an_hour_ago\", \"brunch\", \"10:00\", \"tea_time\", \"soccer_practice\", \"next_city\", \"o\\u2019clock\", \"new_years\", \"thirty_minutes\", \"10:00_am\", \"11:30\", \"three_in_the_morning\", \"same_routine\", \"Monday\", \"long_hours\", \"3am\", \"filming\", \"orientation\", \"late_hours\", \"26th\", \"the_early_hours_of_the_morning\", \"tomorrows\", \"just_a_day\", \"10_at_night\", \"about_three_hours\", \"morning\", \"more_hour\", \"day_trip\", \"the_next_two_months\", \"Noon\", \"14_days\", \"the_school_year\", \"another_night\", \"5:30\", \"radio_interview\", \"ten_hours\", \"the_whole_day\", \"8:30pm\", \"this_afternoon\", \"a_half_hour\", \"theme_park\", \"school_night\", \"8:30_pm\", \"good_night's_rest\", \"4am\", \"only_a_week\", \"new_year\", \"expedition\", \"12:15\", \"three_days_later\", \"just_another_day\", \"weekdays\", \"two_week\", \"the_spring\", \"monday\", \"final_test\", \"three_more_hours\", \"Christmas_shopping\", \"the_next_few_days\"]\n"
     ]
    }
   ],
   "source": [
    "lexicon.create_category(\"custom_times_2\",\n",
    "                        [\"next_day\",\"nex_month\",\"next_year\",\"one_day\",\"once_upon_a_time\",\"that_evening\",\"sundown\",\"later_that_day\",\n",
    "                         \"two_hours_later\"],\n",
    "                        size =1000)"
   ]
  },
  {
   "cell_type": "code",
   "execution_count": 103,
   "metadata": {},
   "outputs": [
    {
     "name": "stdout",
     "output_type": "stream",
     "text": [
      "[\"church\", \"temple\", \"chapel\", \"altar\", \"palace\", \"base\", \"manor\", \"castle\", \"cathedral\", \"graveyard\", \"cemetery\", \"chamber\", \"chambers\", \"gardens\", \"tower\", \"estate\", \"garden\", \"greenhouse\", \"tomb\", \"building\", \"valley\", \"Church\", \"shrine\", \"forge\", \"caravan\", \"alter\", \"city\", \"fortress\", \"keep\"]\n",
      "[\"return\", \"visit\", \"travel\", \"arrive\", \"depart\", \"leave\", \"relocate\", \"visiting\", \"accompany\", \"retire\", \"travel\", \"arriving\"]\n",
      "[\"buildings\", \"city\", \"houses\", \"other_buildings\", \"place\", \"tall_buildings\", \"huts\", \"structures\", \"cities\", \"other_houses\", \"ruins\", \"warehouses\", \"roads\", \"area\", \"vehicles\", \"skyscrapers\", \"tunnels\", \"mountains\", \"landscape\", \"areas\", \"pathways\", \"fences\", \"roofs\", \"towns\", \"building\", \"entire_place\", \"banks\", \"caves\", \"farms\", \"forests\", \"cottages\", \"countryside\", \"entire_city\", \"mansions\", \"factories\", \"tombs\", \"hills\", \"statues\", \"grid\", \"surrounding_area\", \"dome\", \"whole_city\", \"small_area\", \"whole_area\", \"alleyways\", \"cathedral\", \"homes\", \"trees\", \"plains\", \"greenery\", \"fields\", \"towers\", \"grounds\", \"residents\", \"entrances\", \"marketplace\", \"sidewalks\", \"borders\", \"places\", \"tourists\", \"perimeter\", \"gardens\", \"civilization\", \"entire_area\", \"doorways\", \"globe\", \"bridges\", \"factory\", \"terrain\", \"villages\", \"large_area\", \"few_places\", \"compound\", \"markets\", \"canyon\", \"shack\", \"farmland\", \"pillars\", \"Buildings\", \"palm_trees\", \"stone_walls\", \"pods\", \"rooftops\", \"structure\", \"alleys\", \"tower\", \"neighborhoods\", \"hillside\", \"cars\", \"cliffs\", \"columns\", \"small_village\", \"town\", \"wasteland\", \"warehouse\", \"vegetation\", \"windows\", \"white_house\", \"streets\", \"cavern\", \"open_space\", \"fortress\", \"tombstones\", \"Houses\", \"marsh\", \"whole_building\", \"hedges\", \"rubble\", \"sewers\", \"old_buildings\", \"boats\", \"turrets\", \"swamp\", \"small_houses\", \"landmarks\", \"grove\", \"farmhouse\", \"wreckage\", \"boulders\", \"tall_trees\", \"shrubbery\", \"apartments\", \"complex\", \"museum\", \"inhabitants\", \"underground\", \"enclosure\", \"domes\", \"harbor\", \"orchard\", \"ships\", \"acres\", \"wildlife\", \"underground\", \"brick_walls\", \"tents\", \"apartment_buildings\", \"jungle\", \"thick_trees\", \"many_places\", \"aircraft\", \"Trees\", \"graveyard\", \"outskirts\", \"wagons\", \"interior\", \"locals\", \"cluster\", \"plaza\", \"slopes\", \"slums\", \"city_streets\", \"walkways\", \"sights\", \"old_building\", \"dense_forest\", \"moat\", \"caravan\", \"shrubs\", \"shelters\", \"islands\", \"quarry\", \"small_building\", \"occupants\", \"trains\", \"constructed\", \"small_cabin\", \"walls\", \"mountain_range\", \"mountain\", \"valley\", \"masses\", \"corpses\", \"whole_place\", \"shacks\", \"civilisation\", \"maze\", \"different_parts\", \"different_areas\", \"rolling_hills\", \"castles\", \"many_trees\", \"torches\", \"land\", \"objects\", \"broken_windows\", \"fountains\", \"canals\", \"town_hall\", \"roof\", \"many_buildings\", \"castle\", \"wilderness\", \"entire_town\", \"caverns\", \"east\", \"large_city\", \"trucks\", \"small_shops\", \"exterior\", \"monument\", \"town_square\", \"village\", \"fenced\", \"lawns\", \"openings\", \"different_places\", \"balconies\", \"lighthouse\", \"bases\", \"neighbourhood\", \"facility\", \"small_cottage\", \"north\", \"castle_walls\", \"skyline\", \"other_areas\", \"tunnel\", \"glass_windows\", \"foothills\", \"shops\", \"planes\", \"outer_walls\", \"spaces\", \"docks\", \"woodland\", \"cottage\", \"small_island\", \"large_house\", \"routes\", \"lower_levels\", \"region\", \"boundary\", \"forest\", \"spaceship\", \"high_walls\", \"mirrors\", \"south\", \"businesses\", \"Manhattan\", \"distances\", \"glass_walls\", \"large_building\", \"other_trees\", \"neighborhood\", \"clusters\", \"coastline\", \"city_walls\", \"branching\", \"cabins\", \"planets\", \"port\", \"citadel\", \"settlement\", \"path\", \"mansion\", \"passageways\", \"debris\", \"other_building\", \"helicopters\", \"decks\", \"small_house\", \"dirt_roads\", \"large_field\", \"small_place\", \"expanse\", \"labyrinth\", \"churches\", \"graves\", \"craft\", \"footprints\", \"pines\", \"dead_bodies\", \"foliage\", \"air_vents\", \"ponds\", \"greenhouse\", \"restaurants\", \"sanctuary\", \"mainland\", \"layout\", \"gravestones\", \"bunker\", \"carriages\", \"lakes\", \"continent\", \"huge_wall\", \"abandoned_building\", \"stores\", \"caravans\", \"barns\", \"highways\", \"canopy\", \"railroad_tracks\", \"safe_zone\", \"ceilings\", \"bars\"]\n"
     ]
    }
   ],
   "source": [
    "#Lemmatization of this is heavily required\n",
    "lexicon.create_category(\"religious_buildings\", [\"church\",\"mosque\", \"temple\"], model=\"fiction\", size = 30)\n",
    "lexicon.create_category(\"loc_verbs\", [\"arrive\", \"visit\", \"travel\", \"return\"], model = \"fiction\", size= 14)\n",
    "lexicon.create_category(\"fictional_places\", [\"place\",\"buildings\"], model =\"fiction\", size =300)"
   ]
  },
  {
   "cell_type": "code",
   "execution_count": 12,
   "metadata": {},
   "outputs": [],
   "source": [
    "import nltk\n",
    "#nltk.download()\n",
    "from nltk.corpus import wordnet"
   ]
  },
  {
   "cell_type": "code",
   "execution_count": 7,
   "metadata": {},
   "outputs": [],
   "source": [
    "from nltk.stem import WordNetLemmatizer\n",
    "lemmatizer = WordNetLemmatizer()"
   ]
  },
  {
   "cell_type": "code",
   "execution_count": 8,
   "metadata": {},
   "outputs": [
    {
     "data": {
      "text/plain": [
       "'loving'"
      ]
     },
     "execution_count": 8,
     "metadata": {},
     "output_type": "execute_result"
    }
   ],
   "source": [
    "lemmatizer.lemmatize(\"loving\")"
   ]
  },
  {
   "cell_type": "code",
   "execution_count": 9,
   "metadata": {},
   "outputs": [],
   "source": [
    "def nltk_tag_to_wordnet_tag(nltk_tag):\n",
    "    if nltk_tag.startswith('J'):\n",
    "        return wordnet.ADJ\n",
    "    elif nltk_tag.startswith('V'):\n",
    "        return wordnet.VERB\n",
    "    elif nltk_tag.startswith('N'):\n",
    "        return wordnet.NOUN\n",
    "    elif nltk_tag.startswith('R'):\n",
    "        return wordnet.ADV\n",
    "    else:          \n",
    "        return None"
   ]
  },
  {
   "cell_type": "code",
   "execution_count": 10,
   "metadata": {},
   "outputs": [],
   "source": [
    "def lemmatize_sentence(sentence):\n",
    "    #tokenize the sentence and find the POS tag for each token\n",
    "    nltk_tagged = nltk.pos_tag(nltk.word_tokenize(sentence))  \n",
    "    #tuple of (token, wordnet_tag)\n",
    "    wordnet_tagged = map(lambda x: (x[0], nltk_tag_to_wordnet_tag(x[1])), nltk_tagged)\n",
    "    lemmatized_sentence = []\n",
    "    for word, tag in wordnet_tagged:\n",
    "        if tag is None:\n",
    "            #if there is no available tag, append the token as is\n",
    "            lemmatized_sentence.append(word)\n",
    "        else:        \n",
    "            #else use the tag to lemmatize the token\n",
    "            lemmatized_sentence.append(lemmatizer.lemmatize(word, tag))\n",
    "    return \" \".join(lemmatized_sentence)"
   ]
  },
  {
   "cell_type": "code",
   "execution_count": 13,
   "metadata": {},
   "outputs": [
    {
     "data": {
      "text/plain": [
       "\"I be go to the temple . I will be in the temple till the morning.Please do n't disturb me .\""
      ]
     },
     "execution_count": 13,
     "metadata": {},
     "output_type": "execute_result"
    }
   ],
   "source": [
    "lemmatize_sentence(\"I am going to the temple. I will be in the temple till the morning.Please don't disturb me.\")"
   ]
  },
  {
   "cell_type": "code",
   "execution_count": 49,
   "metadata": {},
   "outputs": [],
   "source": [
    "def open_story(Storyname):\n",
    "    file = open(\"D:\\Jupyter\\BTP\\Panchatantra\\\\\"+Storyname+'.txt')\n",
    "    text = file.read()\n",
    "    file.close()\n",
    "    return text\n",
    "def annotate_story(text):\n",
    "    with CoreNLPClient(annotators = ['tokenize','ssplit'],\n",
    "        memory='5G', be_quiet=True, outputFormat = 'json', max_char_length=500000, timeout=36000000) as client:\n",
    "        annotated_story = client.annotate(text)\n",
    "    return annotated_story\n",
    "def open_and_annotate(Storyname):\n",
    "    text = open_story(Storyname)\n",
    "    annotated_story = annotate_story(text)\n",
    "    return text, annotated_story"
   ]
  },
  {
   "cell_type": "code",
   "execution_count": 82,
   "metadata": {},
   "outputs": [
    {
     "name": "stderr",
     "output_type": "stream",
     "text": [
      "2021-03-14 18:03:22 INFO: Writing properties to tmp file: corenlp_server-2ffa7a1fffc5440c.props\n",
      "2021-03-14 18:03:22 INFO: Starting server with command: java -Xmx5G -cp C:\\Users\\Giri\\stanza_corenlp\\* edu.stanford.nlp.pipeline.StanfordCoreNLPServer -port 9000 -timeout 36000000 -threads 5 -maxCharLength 500000 -quiet True -serverProperties corenlp_server-2ffa7a1fffc5440c.props -annotators tokenize,ssplit -preload -outputFormat serialized\n"
     ]
    }
   ],
   "source": [
    "text , annotated_story = open_and_annotate('the_monkey_the_wedge')"
   ]
  },
  {
   "cell_type": "code",
   "execution_count": 83,
   "metadata": {},
   "outputs": [],
   "source": [
    "def events_by_location_and_time(text,ann):\n",
    "    \"\"\"\n",
    "    Non-hierarchy model\n",
    "    \"\"\"\n",
    "    #This function finds sum of dictionary returned by lexicon.analyze i.e., it finds the presence of location words.\n",
    "    def sum_of_locs_dict(dictionary):\n",
    "        sum_ = 0\n",
    "        for key in dictionary.keys():\n",
    "            sum_ = sum_ + dictionary[key]\n",
    "        return sum_\n",
    "       \n",
    "    lexicon = Empath()   #Part of code used to bring Empath in\n",
    "    locations_dict = dict()     #Dictionary that holds\n",
    "    location = \"Unknown\"    #The variable place will hold latest location word.\n",
    "                            #It is initilized to \"unknown\" beacuse till now we haven't encountered any location word.\n",
    "    loaction_by_sentence = []\n",
    "    location_to_number = dict() # Convert location words to numbers for better representation\n",
    "    loc_num = 0 # Will be used to put location words as numbers in the location_to_number dict\n",
    "    total_sentences = 0\n",
    "    \n",
    "    #Take each sentence of the story one by one (ann.sentence returns individual sentences of the story as objects)\n",
    "    for i, sentence in enumerate(ann.sentence):\n",
    "        # Remove comma and fullstop beacuse lexicon.analyze cannot identify words if they are followd by a fullstop or comma.\n",
    "        # text[characterOffsetBegin:characterOffserEnd] is the actual sentence (as a string) of the sentence object returned\n",
    "        sentence_for_empath = text[sentence.characterOffsetBegin:sentence.characterOffsetEnd].replace(\", \",\" \").replace(\".\",\"\").replace(\"-\",\" \").replace(\"?\",\"\").replace(\"!\",\"\").replace(\":\",\" \")\n",
    "        #Lemmatize the words you encounter for better identification when being analysed by lexicon.analyze\n",
    "        #May be commented out because lexicon.create_category does not give good words when singular words are used\n",
    "        sentence_for_empath = lemmatize_sentence(sentence_for_empath) # Sentences are all lemmatized now\n",
    "        # Analyze the things\n",
    "        lexicon_locations_dict = lexicon.analyze(sentence_for_empath,categories = [\"custom_times_2\"])\n",
    "        #                                         categories=[\"religious_buildings\", \"loc_verbs\", \"fictional_places\",\"custom_times\"])\n",
    "        \n",
    "        s = sum_of_locs_dict(lexicon_locations_dict)\n",
    "        if s>0:\n",
    "            words = sentence_for_empath.split(\" \")\n",
    "            # Find if place is same as previous\n",
    "            for word in words:\n",
    "                # If the word is a location word\n",
    "                if sum_of_locs_dict(lexicon.analyze(word,categories = ['custom_times_2']))>0:\n",
    "                    #                                categories=[\"religious_buildings\", \"loc_verbs\", \"fictional_places\", \"custom_times\"]))>0:\n",
    "                    #if new location word encountered is the same as the last location word encountered\n",
    "                    if word == location:\n",
    "                        break\n",
    "                    else:\n",
    "                        location = word\n",
    "                        if location in locations_dict:\n",
    "                            location+=\"1\"\n",
    "                        locations_dict[location]=[i]\n",
    "                        location_to_number[location] = loc_num\n",
    "                        loc_num += 1\n",
    "        else: \n",
    "            if location not in locations_dict:\n",
    "                locations_dict[location] = list()\n",
    "            locations_dict[location].append(i)\n",
    "        total_sentences = i\n",
    "    return locations_dict, location_to_number, total_sentences"
   ]
  },
  {
   "cell_type": "code",
   "execution_count": 84,
   "metadata": {},
   "outputs": [
    {
     "data": {
      "text/plain": [
       "{'Unknown': [0], 'morning': [1], 'day': [1, 3, 4, 5, 6, 7, 8, 9, 10, 11]}"
      ]
     },
     "execution_count": 84,
     "metadata": {},
     "output_type": "execute_result"
    }
   ],
   "source": [
    "locations_dict, location_number_map, total_sentences = events_by_location_and_time(text, annotated_story)\n",
    "locations_dict"
   ]
  },
  {
   "cell_type": "code",
   "execution_count": 85,
   "metadata": {},
   "outputs": [
    {
     "data": {
      "text/plain": [
       "11"
      ]
     },
     "execution_count": 85,
     "metadata": {},
     "output_type": "execute_result"
    }
   ],
   "source": [
    "total_sentences"
   ]
  },
  {
   "cell_type": "code",
   "execution_count": 86,
   "metadata": {},
   "outputs": [
    {
     "data": {
      "text/plain": [
       "{1, 11}"
      ]
     },
     "execution_count": 86,
     "metadata": {},
     "output_type": "execute_result"
    }
   ],
   "source": [
    "def construct_event_list(locations_dict):\n",
    "    events= []\n",
    "    for location in locations_dict:\n",
    "        events.append(locations_dict[location][0])\n",
    "    events.sort()\n",
    "    events.append(total_sentences)\n",
    "    while events[0] == 0:\n",
    "        del events[0]\n",
    "    return set(events)\n",
    "construct_event_list(locations_dict)"
   ]
  },
  {
   "cell_type": "code",
   "execution_count": null,
   "metadata": {},
   "outputs": [],
   "source": []
  }
 ],
 "metadata": {
  "kernelspec": {
   "display_name": "Python 3",
   "language": "python",
   "name": "python3"
  },
  "language_info": {
   "codemirror_mode": {
    "name": "ipython",
    "version": 3
   },
   "file_extension": ".py",
   "mimetype": "text/x-python",
   "name": "python",
   "nbconvert_exporter": "python",
   "pygments_lexer": "ipython3",
   "version": "3.6.12"
  }
 },
 "nbformat": 4,
 "nbformat_minor": 4
}
