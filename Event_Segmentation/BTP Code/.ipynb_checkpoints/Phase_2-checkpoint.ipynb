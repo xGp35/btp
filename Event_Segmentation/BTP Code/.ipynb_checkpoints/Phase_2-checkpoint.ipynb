{
 "cells": [
  {
   "cell_type": "code",
   "execution_count": 7,
   "metadata": {},
   "outputs": [],
   "source": [
    "def dict_create(dictionary):\n",
    "    #stores which characters appear in a given sentence\n",
    "    sen_char = dict()\n",
    "    for char in dictionary.keys():\n",
    "        for i in dictionary[char][\"sentences\"]:\n",
    "            if i not in sen_char:\n",
    "                sen_char[i] = []\n",
    "            sen_char[i].append(char)\n",
    "    return sen_char"
   ]
  },
  {
   "cell_type": "code",
   "execution_count": 16,
   "metadata": {},
   "outputs": [],
   "source": [
    "def events(sen_char, total_sentences,retention=0.5, threshold=0.9, penalty=0.5):\n",
    "    \n",
    "    def f1(idx=0):\n",
    "        event = [idx]\n",
    "        chars = set(sen_char[idx])\n",
    "        l = len(chars)\n",
    "        mov_avg = 0\n",
    "        while True:\n",
    "            idx += 1 \n",
    "            if idx not in sen_char:\n",
    "                continue\n",
    "            chars_nxt = set(sen_char[idx])\n",
    "            p = len(chars.intersection(chars_nxt)) #common characters in both sentences\n",
    "            n = len(chars_nxt) - p #new characters\n",
    "            m = l - p #missing characers\n",
    "            #Calculate the moving average mov_avg\n",
    "#             mov_avg+=(1-retention)*(p -  penalty*(n+m)/l) + retention*mov_avg\n",
    "            mov_avg+=((p -  penalty*(n+m)/l) + retention*mov_avg)*0.5\n",
    "            print(mov_avg,p,n,m,l, idx)\n",
    "            if mov_avg>=threshold:\n",
    "                event.append(idx)\n",
    "            else:\n",
    "                break\n",
    "        return event, idx\n",
    "    \n",
    "    idx = 0\n",
    "    events = []\n",
    "    while idx<total_sentences:\n",
    "        if idx in sen_char:\n",
    "            event, idx = f1(idx)\n",
    "            events.append(event)\n",
    "        idx+=1\n",
    "    return events"
   ]
  },
  {
   "cell_type": "code",
   "execution_count": 5,
   "metadata": {},
   "outputs": [],
   "source": [
    "import pickle\n",
    "file = open(r'C:\\Users\\Sourav\\Desktop\\BTP\\btp-1\\Event_Segmentation\\BTP Code\\Red_Riding_Hood_ann.gpickle', 'rb')\n",
    "grps = pickle.load(file)\n",
    "file.close()"
   ]
  },
  {
   "cell_type": "code",
   "execution_count": 9,
   "metadata": {},
   "outputs": [],
   "source": [
    "sen_char = dict_create(grps)"
   ]
  },
  {
   "cell_type": "code",
   "execution_count": 17,
   "metadata": {},
   "outputs": [
    {
     "name": "stdout",
     "output_type": "stream",
     "text": [
      "1.75 1 0 0 1 1\n",
      "1.4375 0 2 1 1 2\n",
      "1.296875 0 1 1 1 3\n",
      "1.12109375 0 1 1 1 4\n",
      "1.9013671875 1 0 0 1 5\n",
      "1.626708984375 0 2 1 1 6\n",
      "1.53338623046875 0 1 1 1 10\n",
      "1.4167327880859375 0 1 1 1 12\n",
      "1.2709159851074219 0 1 1 1 14\n",
      "1.0886449813842773 0 1 1 1 15\n",
      "0.8608062267303467 0 1 1 1 16\n",
      "2.25 2 0 0 2 20\n",
      "3.1875 1 0 1 2 21\n",
      "4.234375 1 1 1 2 22\n",
      "5.54296875 1 1 1 2 23\n",
      "7.1787109375 1 1 1 2 24\n",
      "9.348388671875 1 0 1 2 26\n",
      "12.06048583984375 1 0 1 2 28\n",
      "15.450607299804688 1 0 1 2 29\n",
      "19.68825912475586 1 0 1 2 31\n",
      "24.235323905944824 0 1 2 2 32\n",
      "30.66915488243103 1 0 1 2 37\n",
      "37.96144360303879 0 1 2 2 38\n",
      "47.826804503798485 1 0 1 2 40\n",
      "59.408505629748106 0 1 2 2 41\n",
      "74.63563203718513 1 0 1 2 43\n",
      "92.91954004648142 0 1 2 2 44\n",
      "115.77442505810177 0 1 2 2 45\n",
      "144.9680313226272 1 1 1 2 46\n",
      "181.46003915328401 1 1 1 2 47\n",
      "227.20004894160502 1 0 1 2 49\n",
      "283.6250611770063 0 1 2 2 51\n",
      "354.65632647125784 1 2 1 2 52\n",
      "442.9454080890723 0 1 2 2 53\n",
      "553.3067601113404 0 1 2 2 54\n",
      "691.2584501391755 0 1 2 2 57\n",
      "864.3230626739694 1 1 1 2 58\n",
      "1080.0288283424618 0 1 2 2 59\n"
     ]
    },
    {
     "ename": "KeyboardInterrupt",
     "evalue": "",
     "output_type": "error",
     "traceback": [
      "\u001b[1;31m---------------------------------------------------------------------------\u001b[0m",
      "\u001b[1;31mKeyboardInterrupt\u001b[0m                         Traceback (most recent call last)",
      "\u001b[1;32m<ipython-input-17-161161abe8d2>\u001b[0m in \u001b[0;36m<module>\u001b[1;34m\u001b[0m\n\u001b[1;32m----> 1\u001b[1;33m \u001b[0mevents\u001b[0m \u001b[1;33m=\u001b[0m \u001b[0mevents\u001b[0m\u001b[1;33m(\u001b[0m\u001b[0msen_char\u001b[0m\u001b[1;33m,\u001b[0m\u001b[1;36m60\u001b[0m\u001b[1;33m)\u001b[0m\u001b[1;33m\u001b[0m\u001b[1;33m\u001b[0m\u001b[0m\n\u001b[0m",
      "\u001b[1;32m<ipython-input-16-2452dda5dac9>\u001b[0m in \u001b[0;36mevents\u001b[1;34m(sen_char, total_sentences, retention, threshold, penalty)\u001b[0m\n\u001b[0;32m     28\u001b[0m     \u001b[1;32mwhile\u001b[0m \u001b[0midx\u001b[0m\u001b[1;33m<\u001b[0m\u001b[0mtotal_sentences\u001b[0m\u001b[1;33m:\u001b[0m\u001b[1;33m\u001b[0m\u001b[1;33m\u001b[0m\u001b[0m\n\u001b[0;32m     29\u001b[0m         \u001b[1;32mif\u001b[0m \u001b[0midx\u001b[0m \u001b[1;32min\u001b[0m \u001b[0msen_char\u001b[0m\u001b[1;33m:\u001b[0m\u001b[1;33m\u001b[0m\u001b[1;33m\u001b[0m\u001b[0m\n\u001b[1;32m---> 30\u001b[1;33m             \u001b[0mevent\u001b[0m\u001b[1;33m,\u001b[0m \u001b[0midx\u001b[0m \u001b[1;33m=\u001b[0m \u001b[0mf1\u001b[0m\u001b[1;33m(\u001b[0m\u001b[0midx\u001b[0m\u001b[1;33m)\u001b[0m\u001b[1;33m\u001b[0m\u001b[1;33m\u001b[0m\u001b[0m\n\u001b[0m\u001b[0;32m     31\u001b[0m             \u001b[0mevents\u001b[0m\u001b[1;33m.\u001b[0m\u001b[0mappend\u001b[0m\u001b[1;33m(\u001b[0m\u001b[0mevent\u001b[0m\u001b[1;33m)\u001b[0m\u001b[1;33m\u001b[0m\u001b[1;33m\u001b[0m\u001b[0m\n\u001b[0;32m     32\u001b[0m         \u001b[0midx\u001b[0m\u001b[1;33m+=\u001b[0m\u001b[1;36m1\u001b[0m\u001b[1;33m\u001b[0m\u001b[1;33m\u001b[0m\u001b[0m\n",
      "\u001b[1;32m<ipython-input-16-2452dda5dac9>\u001b[0m in \u001b[0;36mf1\u001b[1;34m(idx)\u001b[0m\n\u001b[0;32m      8\u001b[0m         \u001b[1;32mwhile\u001b[0m \u001b[1;32mTrue\u001b[0m\u001b[1;33m:\u001b[0m\u001b[1;33m\u001b[0m\u001b[1;33m\u001b[0m\u001b[0m\n\u001b[0;32m      9\u001b[0m             \u001b[0midx\u001b[0m \u001b[1;33m+=\u001b[0m \u001b[1;36m1\u001b[0m\u001b[1;33m\u001b[0m\u001b[1;33m\u001b[0m\u001b[0m\n\u001b[1;32m---> 10\u001b[1;33m             \u001b[1;32mif\u001b[0m \u001b[0midx\u001b[0m \u001b[1;32mnot\u001b[0m \u001b[1;32min\u001b[0m \u001b[0msen_char\u001b[0m\u001b[1;33m:\u001b[0m\u001b[1;33m\u001b[0m\u001b[1;33m\u001b[0m\u001b[0m\n\u001b[0m\u001b[0;32m     11\u001b[0m                 \u001b[1;32mcontinue\u001b[0m\u001b[1;33m\u001b[0m\u001b[1;33m\u001b[0m\u001b[0m\n\u001b[0;32m     12\u001b[0m             \u001b[0mchars_nxt\u001b[0m \u001b[1;33m=\u001b[0m \u001b[0mset\u001b[0m\u001b[1;33m(\u001b[0m\u001b[0msen_char\u001b[0m\u001b[1;33m[\u001b[0m\u001b[0midx\u001b[0m\u001b[1;33m]\u001b[0m\u001b[1;33m)\u001b[0m\u001b[1;33m\u001b[0m\u001b[1;33m\u001b[0m\u001b[0m\n",
      "\u001b[1;31mKeyboardInterrupt\u001b[0m: "
     ]
    }
   ],
   "source": [
    "events = events(sen_char,60)"
   ]
  },
  {
   "cell_type": "code",
   "execution_count": null,
   "metadata": {},
   "outputs": [],
   "source": []
  }
 ],
 "metadata": {
  "kernelspec": {
   "display_name": "Python 3",
   "language": "python",
   "name": "python3"
  },
  "language_info": {
   "codemirror_mode": {
    "name": "ipython",
    "version": 3
   },
   "file_extension": ".py",
   "mimetype": "text/x-python",
   "name": "python",
   "nbconvert_exporter": "python",
   "pygments_lexer": "ipython3",
   "version": "3.8.5"
  }
 },
 "nbformat": 4,
 "nbformat_minor": 4
}
