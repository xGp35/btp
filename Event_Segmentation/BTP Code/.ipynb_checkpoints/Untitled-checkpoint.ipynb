{
 "cells": [
  {
   "cell_type": "code",
   "execution_count": 1,
   "metadata": {},
   "outputs": [],
   "source": [
    "import stanza"
   ]
  },
  {
   "cell_type": "code",
   "execution_count": 16,
   "metadata": {},
   "outputs": [
    {
     "name": "stderr",
     "output_type": "stream",
     "text": [
      "2020-11-16 09:46:31 INFO: Loading these models for language: en (English):\n",
      "=========================\n",
      "| Processor | Package   |\n",
      "-------------------------\n",
      "| tokenize  | ewt       |\n",
      "| pos       | ewt       |\n",
      "| lemma     | ewt       |\n",
      "| depparse  | ewt       |\n",
      "| sentiment | sstplus   |\n",
      "| ner       | ontonotes |\n",
      "=========================\n",
      "\n",
      "2020-11-16 09:46:31 INFO: Use device: gpu\n",
      "2020-11-16 09:46:31 INFO: Loading: tokenize\n",
      "2020-11-16 09:46:37 INFO: Loading: pos\n",
      "2020-11-16 09:46:39 INFO: Loading: lemma\n",
      "2020-11-16 09:46:39 INFO: Loading: depparse\n",
      "2020-11-16 09:46:41 INFO: Loading: sentiment\n",
      "2020-11-16 09:46:42 INFO: Loading: ner\n",
      "2020-11-16 09:46:43 INFO: Done loading processors!\n"
     ]
    }
   ],
   "source": [
    "nlp = stanza.Pipeline('en', use_gpu=True)"
   ]
  },
  {
   "cell_type": "code",
   "execution_count": 1,
   "metadata": {},
   "outputs": [],
   "source": [
    "from stanza.server import CoreNLPClient"
   ]
  },
  {
   "cell_type": "code",
   "execution_count": 49,
   "metadata": {},
   "outputs": [],
   "source": [
    "f = open(r'C:\\Users\\Sourav\\BTP Code\\Harry_Potter\\v1c6.txt', encoding='utf8', errors='ignore')"
   ]
  },
  {
   "cell_type": "code",
   "execution_count": 50,
   "metadata": {},
   "outputs": [],
   "source": [
    "text = f.read()"
   ]
  },
  {
   "cell_type": "code",
   "execution_count": 51,
   "metadata": {},
   "outputs": [
    {
     "name": "stderr",
     "output_type": "stream",
     "text": [
      "2020-12-15 23:44:39 INFO: Writing properties to tmp file: corenlp_server-543d421476534a55.props\n",
      "2020-12-15 23:44:39 INFO: Starting server with command: java -Xmx5G -cp C:\\Users\\Sourav\\stanza_corenlp\\* edu.stanford.nlp.pipeline.StanfordCoreNLPServer -port 9000 -timeout 36000000 -threads 5 -maxCharLength 500000 -quiet True -serverProperties corenlp_server-543d421476534a55.props -annotators tokenize,ssplit,pos,lemma,ner,parse,depparse,dcoref -preload -outputFormat serialized\n"
     ]
    }
   ],
   "source": [
    "with CoreNLPClient(annotators = ['tokenize','ssplit','pos','lemma','ner', 'parse', 'depparse','dcoref'],\n",
    "        memory='5G', be_quiet=True, outputFormat = 'json', max_char_length=500000, timeout=36000000) as client:\n",
    "    ann = client.annotate(text)"
   ]
  },
  {
   "cell_type": "code",
   "execution_count": 18,
   "metadata": {},
   "outputs": [],
   "source": [
    "def sentence_selection(text, annotations):\n",
    "    \n",
    "    sentence_groups = dict()\n",
    "    for chain in ann.corefChain:\n",
    "        sentences = set()\n",
    "        idx = None\n",
    "        if chain.mention[0].animacy == \"INANIMATE\":\n",
    "            continue\n",
    "        for mention in chain.mention:\n",
    "            sentence = ann.sentence[mention.sentenceIndex]\n",
    "            sentence_string = text[sentence.characterOffsetBegin : sentence.characterOffsetEnd] \n",
    "            sentences.add(sentence_string)\n",
    "            if idx is None:\n",
    "                if mention.mentionType == \"PROPER\":\n",
    "                    for i in range(mention.beginIndex, mention.endIndex):\n",
    "                        idx = sentence.token[i].word\n",
    "        if idx is not None:\n",
    "            sentence_groups[idx] = list(sentences).copy()\n",
    "    return sentence_groups"
   ]
  },
  {
   "cell_type": "code",
   "execution_count": 52,
   "metadata": {},
   "outputs": [],
   "source": [
    "grp = sentence_selection(text, ann)"
   ]
  },
  {
   "cell_type": "code",
   "execution_count": null,
   "metadata": {},
   "outputs": [],
   "source": []
  },
  {
   "cell_type": "code",
   "execution_count": 37,
   "metadata": {},
   "outputs": [
    {
     "data": {
      "text/plain": [
       "[\"Harry didn't move.\",\n",
       " 'He shivered and turned over, trying to get comfortable, his stomach rumbling with hunger.',\n",
       " \"When September came he would be going off to secondary school and, for the first time in his life, he wouldn't be with Dudley.\",\n",
       " '\" \\n\\nHarry was on the point of unfolding his letter, which was written on the same heavy parchment as the envelope, when it was jerked sharply out of his hand by Uncle Vernon. \\n\\n\"',\n",
       " '\"Go to your cupboard -- I mean, your bedroom,\" he wheezed at Harry.',\n",
       " 'He chuckled at his own joke.',\n",
       " 'The Dursleys ducked, but Harry leapt into the air trying to catch one.',\n",
       " \"The rest of them were all quite happy to join in Dudley's favorite sport: Harry Hunting.\",\n",
       " 'THE LETTERS FROM NO ONE \\n\\nThe escape of the Brazilian boa constrictor earned Harry his longest-ever punishment.',\n",
       " '\"Oh,\" he said, \"I didn\\'t realize it had to be so wet.\"',\n",
       " \"Maybe the house in Privet Drive would be so full of letters when they got back that he'd be able to steal one somehow.\",\n",
       " \"'Mr. H. Potter, The Smallest Bedroom, 4 Privet Drive --'“ \\n\\nWith a strangled cry, Uncle Vernon leapt from his seat and ran down the hall, Harry right behind him.\",\n",
       " \"Uncle Vernon had been lying at the foot of the front door in a sleeping bag, clearly making sure that Harry didn't do exactly what he'd been trying to do.\",\n",
       " '\" \\n\\n\"It was not a mistake,\" said Harry angrily, \"it had my cupboard on it.',\n",
       " \"He had no friends, no other relatives -- he didn't belong to the library, so he'd never even got rude notes asking for books back.\",\n",
       " \"If it was Monday -- and you could usually count on Dudley to know the days the week, because of television -- then tomorrow, Tuesday, was Harry's eleventh birthday.\",\n",
       " 'He shouted at Harry for about half an hour and then told him to go and make a cup of tea.',\n",
       " \"He hoped the roof wasn't going to fall in, although he might be warmer if it did.\",\n",
       " \"Who'd be writing to you?\",\n",
       " 'he asked Aunt Petunia.',\n",
       " 'Harry picked it up and stared at it, his heart twanging like a giant elastic band.',\n",
       " 'I want --\" he began, but Uncle Vernon was tearing the letters into pieces before his eyes.',\n",
       " 'Tell them we don\\'t want --\" \\n\\nHarry could see Uncle Vernon\\'s shiny black shoes pacing up and down the kitchen. \\n\\n\"',\n",
       " \"The lighted dial of Dudley's watch, which was dangling over the edge of the sofa on his fat wrist, told Harry he'd be eleven in ten minutes' time.\",\n",
       " 'He had a plan.',\n",
       " '\"Make Harry get it.\"',\n",
       " \"One day in July, Aunt Petunia took Dudley to London to buy his Smeltings uniform, leaving Harry at Mrs. Figg's.\",\n",
       " '\"What are you doing, checking for letter bombs?\"',\n",
       " \"Harry was thinking about this time yesterday and bitterly wishing he'd opened the letter in the hall.\",\n",
       " 'No,\" he said finally. \"',\n",
       " 'There was a horrible smell in the kitchen the next morning when Harry went in for breakfast.',\n",
       " 'Her lips tightened as they always did if he dared to ask a question.',\n",
       " \"And this time he'd make sure they didn't fail.\",\n",
       " '\" roared Uncle Vernon, and he took both Harry and Dudley by the scruffs of their necks and threw them into the hall, slamming the kitchen door behind them.',\n",
       " 'want to read it,\" said Harry furiously, \"as it\\'s mine.',\n",
       " 'On Friday, no less than twelve letters arrived for Harry.',\n",
       " \"After a minute of confused fighting, in which everyone got hit a lot by the Smelting stick, Uncle Vernon straightened up, gasping for breath, with Harry's letter clutched in his hand.\",\n",
       " '\"Vernon,\" Aunt Petunia was saying in a quivering voice, \"look at the address -- how could they possibly know where he sleeps?',\n",
       " \"It'll look just like everyone else's when I've finished.\",\n",
       " \"As they couldn't go through the mail slot they had been pushed under the door, slotted through the sides, and a few even forced through the small window in the downstairs bathroom.\",\n",
       " 'She and Uncle Vernon went off to the lumpy bed next door, and Harry was left to find the softest bit of floor he could and to curl up under the thinnest, most ragged blanket.',\n",
       " \"You don't think they're watching the house?\",\n",
       " 'Harry could see three letters addressed in green ink.',\n",
       " 'This reminded Harry of something.',\n",
       " \"Didn't we swear when we took him in we'd stamp out that dangerous nonsense?\",\n",
       " \"Lights clicked on upstairs and to his horror Harry realized that the big, squashy something had been his uncle's face.\",\n",
       " \"Harry privately agreed, though the thought didn't cheer him up at all.\",\n",
       " 'Turning the envelope over, his hand trembling, Harry saw a purple wax seal bearing a coat of arms; a lion, an eagle, a badger, and a snake surrounding a large letter H. \\n\\n\"Hurry up, boy!\"',\n",
       " \"Dudley and Uncle Vernon came in, both with wrinkled noses because of the smell from Harry's new uniform.\",\n",
       " \"Harry didn't trust himself to speak.\",\n",
       " 'Harry walked round and round his new room.',\n",
       " 'Dudley asked Harry in amazement.',\n",
       " \"Three things lay on the doormat: a postcard from Uncle Vernon's sister Marge, who was vacationing on the Isle of Wight, a brown envelope that looked like a bill, and -- a letter for Harry.\",\n",
       " '\" \\n\\nHarry seriously doubted this, but thought it best not to argue.',\n",
       " 'He sat down on the bed and stared around him.',\n",
       " 'He went to have a look.',\n",
       " 'When the mail arrived, Uncle Vernon, who seemed to be trying to be nice to Harry, made Dudley go and get it.',\n",
       " \"Harry couldn't sleep.\",\n",
       " '\" \\n\\nThat evening when he got back from work, Uncle Vernon did something he\\'d never done before; he visited Harry in his cupboard. \\n\\n\"',\n",
       " 'He sat down at the table and tried not to think about how he was going to look on his first day at Stonewall High -- like he was wearing bits of old elephant skin, probably.',\n",
       " '\"No post on Sundays,\" he reminded them cheerfully as he spread marmalade on his newspapers, \"no damn letters today --\" \\n\\nSomething came whizzing down the kitchen chimney as he spoke and caught him sharply on the back of the head.',\n",
       " 'By the time he was allowed out of his cupboard again, the summer holidays had started and Dudley had already broken his new video camera, crashed his remote control airplane, and, first time out on his racing bike, knocked down old Mrs. Figg as she crossed Privet Drive on her crutches.',\n",
       " '\" \\n\\nShe held up a letter so they could read the green ink address: Mr. H. Potter Room 17 Railview Hotel Cokeworth Harry made a grab for the letter but Uncle Vernon knocked his hand out of the way.',\n",
       " 'said Harry.',\n",
       " 'Harry turned it off quickly and dressed silently.',\n",
       " '\"Er -- yes, Harry -- about this cupboard.',\n",
       " \"Someone knew he had moved out of his cupboard and they seemed to know he hadn't received his first letter.\",\n",
       " \"He mustn't wake the Dursleys.\",\n",
       " 'This was why Harry spent as much time as possible out of the house, wandering around and thinking about the end of the holidays, where he could see a tiny ray of hope.',\n",
       " \"She let Harry watch television and gave him a bit of chocolate cake that tasted as though she'd had it for several years.\",\n",
       " '\" \\n\\nUncle Vernon seized Harry around the waist and threw him into the hall.',\n",
       " 'Harry went back to the kitchen, still staring at his letter.',\n",
       " 'Harry and Dudley promptly had a furious but silent fight over who would listen at the keyhole; Dudley won, so Harry, his glasses dangling from one ear, lay flat on his stomach to listen at the crack between door and floor.',\n",
       " 'He thought two of his ribs might already have cracked from trying not to laugh.',\n",
       " '\" \\n\\nThey stared at each other, seeming to have forgotten that Harry and Dudley were still in the room.',\n",
       " 'From downstairs came the sound of Dudley bawling at his mother, I don\\'t want him in there... I need that room... make him get out....\" \\n\\nHarry sighed and stretched out on the bed.',\n",
       " '\" said Harry, the moment Uncle Vernon had squeezed through the door. \"',\n",
       " 'snapped his uncle.',\n",
       " 'Uncle Vernon had to wrestle Dudley to the ground to get the letter from him, which was made difficult by the fact that Harry had grabbed Uncle Vernon around the neck from behind.',\n",
       " '\"They stuff people\\'s heads down the toilet the first day at Stonewall,\" \\n\\nhe told Harry.',\n",
       " '\"Get the mail, Harry.\"',\n",
       " 'Twenty-four letters to Harry found their way into the house, rolled up and hidden inside each of the two dozen eggs that their very confused milkman had handed Aunt Petunia through the living room window.',\n",
       " 'He stole downstairs without turning on any of the lights.',\n",
       " 'Harry dodged the Smelting stick and went to get the mail.',\n",
       " \"Harry was glad school was over, but there was no escaping Dudley's gang, who visited the house every single day.\",\n",
       " 'Harry heard something creak outside.',\n",
       " 'No one, ever, in his whole life, had written to him.',\n",
       " 'He handed Uncle Vernon the bill and the postcard, sat down, and slowly began to open the yellow envelope.',\n",
       " 'It only took Harry one trip upstairs to move everything he owned from the cupboard to this room.',\n",
       " 'Dudley and Harry shared a room with twin beds and damp, musty sheets.',\n",
       " 'Dudley snored but Harry stayed awake, sitting on the windowsill, staring down at the lights of passing cars and wondering....',\n",
       " '\"No, thanks,\" said Harry.',\n",
       " 'Harry, on the other hand, was going to Stonewall High, the local public school.',\n",
       " 'The whole shack shivered and Harry sat bolt upright, staring at the door.',\n",
       " '\" said Harry, trying to snatch it back. \\n\\n\"',\n",
       " \"Harry shuffled miserably off into the kitchen and by the time he got back, the mail had arrived, right into Uncle Vernon's lap.\",\n",
       " 'Harry looked in the bowl again.',\n",
       " '\"I\\'m dyeing some of Dudley\\'s old things gray for you.',\n",
       " \"His heart hammered as he crept across the dark hall toward the front door -- Harry leapt into the air; he'd trodden on something big and squashy on the doormat -- something alive!\",\n",
       " \"Dad, Harry's got something!\",\n",
       " \"That's mine!\",\n",
       " 'He was going to wait for the postman on the corner of Privet Drive and get the letters for number four first.']"
      ]
     },
     "execution_count": 37,
     "metadata": {},
     "output_type": "execute_result"
    }
   ],
   "source": [
    "grp['Harry']"
   ]
  },
  {
   "cell_type": "code",
   "execution_count": 24,
   "metadata": {},
   "outputs": [],
   "source": [
    "import pickle"
   ]
  },
  {
   "cell_type": "code",
   "execution_count": 53,
   "metadata": {},
   "outputs": [],
   "source": [
    "file = open(r'C:\\Users\\Sourav\\BTP Code\\Harry_Potter\\v1c6grp', 'wb')\n",
    "pickle.dump(grp,file)\n",
    "file.close()"
   ]
  },
  {
   "cell_type": "code",
   "execution_count": null,
   "metadata": {},
   "outputs": [],
   "source": []
  }
 ],
 "metadata": {
  "kernelspec": {
   "display_name": "Python 3",
   "language": "python",
   "name": "python3"
  },
  "language_info": {
   "codemirror_mode": {
    "name": "ipython",
    "version": 3
   },
   "file_extension": ".py",
   "mimetype": "text/x-python",
   "name": "python",
   "nbconvert_exporter": "python",
   "pygments_lexer": "ipython3",
   "version": "3.8.5"
  }
 },
 "nbformat": 4,
 "nbformat_minor": 4
}
