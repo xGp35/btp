{
 "cells": [
  {
   "cell_type": "code",
   "execution_count": 1,
   "metadata": {},
   "outputs": [],
   "source": [
    "from nltk.corpus import wordnet as wn"
   ]
  },
  {
   "cell_type": "code",
   "execution_count": 4,
   "metadata": {},
   "outputs": [
    {
     "name": "stdout",
     "output_type": "stream",
     "text": [
      "WORD: happy\n",
      "SENTENCE: ['I', 'am', 'glad', 'it', 'was', 'felicitous', '.']\n",
      "SYNONYMS FOR 'HAPPY' FOUND IN THE SENTENCE: felicitous, glad\n"
     ]
    }
   ],
   "source": [
    "def get_word_synonyms_from_sent(word, sent):\n",
    "    word_synonyms = []\n",
    "    for word in words:\n",
    "        for synset in wn.synsets(word):\n",
    "            for lemma in synset.lemma_names():\n",
    "                if lemma in sent and lemma != word:\n",
    "                    word_synonyms.append(lemma)\n",
    "    return word_synonyms\n",
    "\n",
    "words = []\n",
    "sent = ['ask']\n",
    "word_synonyms = get_word_synonyms_from_sent(word, sent)\n",
    "print (\"WORD:\", word)\n",
    "print (\"SENTENCE:\", sent)\n",
    "print (\"SYNONYMS FOR '\" + word.upper() + \"' FOUND IN THE SENTENCE: \" + \", \".join(word_synonyms))"
   ]
  },
  {
   "cell_type": "code",
   "execution_count": null,
   "metadata": {},
   "outputs": [],
   "source": []
  }
 ],
 "metadata": {
  "kernelspec": {
   "display_name": "Python 3",
   "language": "python",
   "name": "python3"
  },
  "language_info": {
   "codemirror_mode": {
    "name": "ipython",
    "version": 3
   },
   "file_extension": ".py",
   "mimetype": "text/x-python",
   "name": "python",
   "nbconvert_exporter": "python",
   "pygments_lexer": "ipython3",
   "version": "3.8.5"
  }
 },
 "nbformat": 4,
 "nbformat_minor": 4
}
