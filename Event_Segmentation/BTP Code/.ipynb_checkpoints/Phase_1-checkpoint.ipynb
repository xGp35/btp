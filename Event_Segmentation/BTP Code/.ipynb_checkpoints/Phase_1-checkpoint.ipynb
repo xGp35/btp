{
 "cells": [
  {
   "cell_type": "code",
   "execution_count": 1,
   "metadata": {},
   "outputs": [],
   "source": [
    "from stanza.server import CoreNLPClient"
   ]
  },
  {
   "cell_type": "code",
   "execution_count": 59,
   "metadata": {},
   "outputs": [],
   "source": [
    "def gender_processing(sentence_groups):\n",
    "    def gender(tag):\n",
    "        gender_sum = sentence_groups[tag]['gender']\n",
    "        number = sentence_groups[tag]['number']\n",
    "        if number == 0:\n",
    "            return \"UNKNOWN\"\n",
    "        print(tag, gender_sum, number)\n",
    "        gender = gender_sum/number\n",
    "        if gender<-(1/3):\n",
    "            return \"FEMALE\"\n",
    "        elif gender>(1/3):\n",
    "            return \"MALE\"\n",
    "        else:\n",
    "            return \"UNKNOWN\"\n",
    "    for tag in sentence_groups.keys():\n",
    "        sentence_groups[tag]['gender'] = gender(tag)"
   ]
  },
  {
   "cell_type": "code",
   "execution_count": 61,
   "metadata": {},
   "outputs": [],
   "source": [
    "def sentence_selection_mod(text, annotations):\n",
    "    \"\"\"Groups the sentences based on animate entities\n",
    "    \n",
    "    Input:\n",
    "        text : the story\n",
    "        annotations : annotators of text\n",
    "        \n",
    "    Output:\n",
    "        sentence_groups : dictionary containing sentences belonging to different animate entities    \n",
    "    \"\"\"    \n",
    "    \n",
    "    sentence_groups = dict()\n",
    "    tag_dict = dict()\n",
    "    for chain in ann.corefChain:\n",
    "        sentences = set()\n",
    "        rep_mention = chain.mention[chain.representative]\n",
    "        if rep_mention.animacy == \"INANIMATE\" or rep_mention.mentionType == \"PRONOMINAL\":\n",
    "            continue\n",
    "        sI = rep_mention.sentenceIndex\n",
    "        hI = rep_mention.headIndex\n",
    "        if (sI, hI) not in tag_dict:\n",
    "            tag_dict[(sI, hI)] = ann.sentence[sI].token[hI].word\n",
    "        tag = tag_dict[(sI, hI)].lower()\n",
    "        print(tag, rep_mention.mentionType, chain.chainID)\n",
    "        if tag not in sentence_groups:\n",
    "            sentence_groups[tag] = dict()\n",
    "            sentence_groups[tag]['gender'] = 0\n",
    "            sentence_groups[tag]['number'] = 0\n",
    "            sentence_groups[tag]['sentences'] = set()\n",
    "        for mention in chain.mention:\n",
    "            if mention.mentionType == \"PRONOMINAL\" and mention.number == \"SINGULAR\":\n",
    "                sentence_groups[tag]['gender'] += (0 if mention.gender == \"UNKNOWN\" else (1 if mention.gender == \"MALE\" else -1))\n",
    "                sentence_groups[tag]['number'] +=1\n",
    "            sentence_groups[tag]['sentences'].add(mention.sentenceIndex)\n",
    "#         sentence_groups[tag]['sentences'] = sentence_groups[tag]['sentences'].union(sentences.copy())\n",
    "    gender_processing(sentence_groups)\n",
    "    return sentence_groups"
   ]
  },
  {
   "cell_type": "code",
   "execution_count": 49,
   "metadata": {},
   "outputs": [],
   "source": [
    "file = open(r'C:\\Users\\Sourav\\BTP Code\\Panchatantra\\the_monkey_the_wedge.txt', errors='ignore')\n",
    "text = file.read()\n",
    "file.close()"
   ]
  },
  {
   "cell_type": "code",
   "execution_count": 34,
   "metadata": {},
   "outputs": [
    {
     "name": "stderr",
     "output_type": "stream",
     "text": [
      "2021-02-10 00:09:20 INFO: Writing properties to tmp file: corenlp_server-b6f88ff190f54392.props\n",
      "2021-02-10 00:09:20 INFO: Starting server with command: java -Xmx5G -cp C:\\Users\\Sourav\\stanza_corenlp\\* edu.stanford.nlp.pipeline.StanfordCoreNLPServer -port 9000 -timeout 36000000 -threads 5 -maxCharLength 500000 -quiet True -serverProperties corenlp_server-b6f88ff190f54392.props -annotators tokenize,ssplit,pos,lemma,ner,parse,depparse,coref -preload -outputFormat serialized\n"
     ]
    },
    {
     "name": "stdout",
     "output_type": "stream",
     "text": [
      "33.27117896080017\n"
     ]
    }
   ],
   "source": [
    "import time\n",
    "t1 = time.time()\n",
    "with CoreNLPClient(annotators = ['tokenize','ssplit','pos','lemma','ner', 'parse', 'depparse','coref'],\n",
    "    properties={'annotators': 'coref', 'coref.algorithm' : 'neural'},\n",
    "    memory='5G', be_quiet=True, outputFormat = 'json', max_char_length=500000, timeout=36000000) as client:\n",
    "    ann = client.annotate(text)\n",
    "t2 = time.time()\n",
    "print(t2-t1)"
   ]
  },
  {
   "cell_type": "code",
   "execution_count": 62,
   "metadata": {},
   "outputs": [
    {
     "name": "stdout",
     "output_type": "stream",
     "text": [
      "merchant NOMINAL 5\n",
      "monkey NOMINAL 56\n",
      "workers NOMINAL 29\n",
      "MALE merchant\n",
      "MALE monkey\n"
     ]
    },
    {
     "ename": "ZeroDivisionError",
     "evalue": "division by zero",
     "output_type": "error",
     "traceback": [
      "\u001b[1;31m---------------------------------------------------------------------------\u001b[0m",
      "\u001b[1;31mZeroDivisionError\u001b[0m                         Traceback (most recent call last)",
      "\u001b[1;32m<ipython-input-62-6c014dfb4d6d>\u001b[0m in \u001b[0;36m<module>\u001b[1;34m\u001b[0m\n\u001b[1;32m----> 1\u001b[1;33m \u001b[0mgrps\u001b[0m \u001b[1;33m=\u001b[0m \u001b[0msentence_selection_mod\u001b[0m\u001b[1;33m(\u001b[0m\u001b[0mtext\u001b[0m\u001b[1;33m,\u001b[0m \u001b[0mann\u001b[0m\u001b[1;33m)\u001b[0m\u001b[1;33m\u001b[0m\u001b[1;33m\u001b[0m\u001b[0m\n\u001b[0m",
      "\u001b[1;32m<ipython-input-61-b7c9187c6160>\u001b[0m in \u001b[0;36msentence_selection_mod\u001b[1;34m(text, annotations)\u001b[0m\n\u001b[0;32m     34\u001b[0m             \u001b[0msentence_groups\u001b[0m\u001b[1;33m[\u001b[0m\u001b[0mtag\u001b[0m\u001b[1;33m]\u001b[0m\u001b[1;33m[\u001b[0m\u001b[1;34m'sentences'\u001b[0m\u001b[1;33m]\u001b[0m\u001b[1;33m.\u001b[0m\u001b[0madd\u001b[0m\u001b[1;33m(\u001b[0m\u001b[0mmention\u001b[0m\u001b[1;33m.\u001b[0m\u001b[0msentenceIndex\u001b[0m\u001b[1;33m)\u001b[0m\u001b[1;33m\u001b[0m\u001b[1;33m\u001b[0m\u001b[0m\n\u001b[0;32m     35\u001b[0m \u001b[1;31m#         sentence_groups[tag]['sentences'] = sentence_groups[tag]['sentences'].union(sentences.copy())\u001b[0m\u001b[1;33m\u001b[0m\u001b[1;33m\u001b[0m\u001b[1;33m\u001b[0m\u001b[0m\n\u001b[1;32m---> 36\u001b[1;33m     \u001b[0mgender_processing\u001b[0m\u001b[1;33m(\u001b[0m\u001b[0msentence_groups\u001b[0m\u001b[1;33m)\u001b[0m\u001b[1;33m\u001b[0m\u001b[1;33m\u001b[0m\u001b[0m\n\u001b[0m\u001b[0;32m     37\u001b[0m     \u001b[1;32mreturn\u001b[0m \u001b[0msentence_groups\u001b[0m\u001b[1;33m\u001b[0m\u001b[1;33m\u001b[0m\u001b[0m\n",
      "\u001b[1;32m<ipython-input-59-7522463ef959>\u001b[0m in \u001b[0;36mgender_processing\u001b[1;34m(sentence_groups)\u001b[0m\n\u001b[0;32m     12\u001b[0m             \u001b[1;32mreturn\u001b[0m \u001b[1;34m\"UNKNOWN\"\u001b[0m\u001b[1;33m\u001b[0m\u001b[1;33m\u001b[0m\u001b[0m\n\u001b[0;32m     13\u001b[0m     \u001b[1;32mfor\u001b[0m \u001b[0mtag\u001b[0m \u001b[1;32min\u001b[0m \u001b[0msentence_groups\u001b[0m\u001b[1;33m.\u001b[0m\u001b[0mkeys\u001b[0m\u001b[1;33m(\u001b[0m\u001b[1;33m)\u001b[0m\u001b[1;33m:\u001b[0m\u001b[1;33m\u001b[0m\u001b[1;33m\u001b[0m\u001b[0m\n\u001b[1;32m---> 14\u001b[1;33m         \u001b[0mprint\u001b[0m\u001b[1;33m(\u001b[0m\u001b[0mgender\u001b[0m\u001b[1;33m(\u001b[0m\u001b[0mtag\u001b[0m\u001b[1;33m)\u001b[0m\u001b[1;33m,\u001b[0m \u001b[0mtag\u001b[0m\u001b[1;33m)\u001b[0m\u001b[1;33m\u001b[0m\u001b[1;33m\u001b[0m\u001b[0m\n\u001b[0m\u001b[0;32m     15\u001b[0m         \u001b[0msentence_groups\u001b[0m\u001b[1;33m[\u001b[0m\u001b[0mtag\u001b[0m\u001b[1;33m]\u001b[0m\u001b[1;33m[\u001b[0m\u001b[1;34m'gender'\u001b[0m\u001b[1;33m]\u001b[0m \u001b[1;33m=\u001b[0m \u001b[0mgender\u001b[0m\u001b[1;33m(\u001b[0m\u001b[0mtag\u001b[0m\u001b[1;33m)\u001b[0m\u001b[1;33m\u001b[0m\u001b[1;33m\u001b[0m\u001b[0m\n",
      "\u001b[1;32m<ipython-input-59-7522463ef959>\u001b[0m in \u001b[0;36mgender\u001b[1;34m(tag)\u001b[0m\n\u001b[0;32m      4\u001b[0m         \u001b[0mnumber\u001b[0m \u001b[1;33m=\u001b[0m \u001b[0msentence_groups\u001b[0m\u001b[1;33m[\u001b[0m\u001b[0mtag\u001b[0m\u001b[1;33m]\u001b[0m\u001b[1;33m[\u001b[0m\u001b[1;34m'number'\u001b[0m\u001b[1;33m]\u001b[0m\u001b[1;33m\u001b[0m\u001b[1;33m\u001b[0m\u001b[0m\n\u001b[0;32m      5\u001b[0m \u001b[1;31m#         print(tag, gender_sum, number)\u001b[0m\u001b[1;33m\u001b[0m\u001b[1;33m\u001b[0m\u001b[1;33m\u001b[0m\u001b[0m\n\u001b[1;32m----> 6\u001b[1;33m         \u001b[0mgender\u001b[0m \u001b[1;33m=\u001b[0m \u001b[0mgender_sum\u001b[0m\u001b[1;33m/\u001b[0m\u001b[0mnumber\u001b[0m\u001b[1;33m\u001b[0m\u001b[1;33m\u001b[0m\u001b[0m\n\u001b[0m\u001b[0;32m      7\u001b[0m         \u001b[1;32mif\u001b[0m \u001b[0mgender\u001b[0m\u001b[1;33m<\u001b[0m\u001b[1;33m-\u001b[0m\u001b[1;33m(\u001b[0m\u001b[1;36m1\u001b[0m\u001b[1;33m/\u001b[0m\u001b[1;36m3\u001b[0m\u001b[1;33m)\u001b[0m\u001b[1;33m:\u001b[0m\u001b[1;33m\u001b[0m\u001b[1;33m\u001b[0m\u001b[0m\n\u001b[0;32m      8\u001b[0m             \u001b[1;32mreturn\u001b[0m \u001b[1;34m\"FEMALE\"\u001b[0m\u001b[1;33m\u001b[0m\u001b[1;33m\u001b[0m\u001b[0m\n",
      "\u001b[1;31mZeroDivisionError\u001b[0m: division by zero"
     ]
    }
   ],
   "source": [
    "grps = sentence_selection_mod(text, ann)"
   ]
  },
  {
   "cell_type": "code",
   "execution_count": 56,
   "metadata": {},
   "outputs": [
    {
     "data": {
      "text/plain": [
       "[chainID: 32\n",
       "mention {\n",
       "  mentionID: 32\n",
       "  mentionType: \"NOMINAL\"\n",
       "  number: \"SINGULAR\"\n",
       "  gender: \"NEUTRAL\"\n",
       "  animacy: \"INANIMATE\"\n",
       "  beginIndex: 18\n",
       "  endIndex: 20\n",
       "  headIndex: 19\n",
       "  sentenceIndex: 6\n",
       "  position: 4\n",
       "}\n",
       "mention {\n",
       "  mentionID: 12\n",
       "  mentionType: \"NOMINAL\"\n",
       "  number: \"SINGULAR\"\n",
       "  gender: \"NEUTRAL\"\n",
       "  animacy: \"INANIMATE\"\n",
       "  beginIndex: 9\n",
       "  endIndex: 14\n",
       "  headIndex: 10\n",
       "  sentenceIndex: 2\n",
       "  position: 3\n",
       "}\n",
       "representative: 1\n",
       ", chainID: 48\n",
       "mention {\n",
       "  mentionID: 45\n",
       "  mentionType: \"NOMINAL\"\n",
       "  number: \"SINGULAR\"\n",
       "  gender: \"MALE\"\n",
       "  animacy: \"INANIMATE\"\n",
       "  beginIndex: 22\n",
       "  endIndex: 24\n",
       "  headIndex: 23\n",
       "  sentenceIndex: 8\n",
       "  position: 7\n",
       "}\n",
       "mention {\n",
       "  mentionID: 48\n",
       "  mentionType: \"NOMINAL\"\n",
       "  number: \"SINGULAR\"\n",
       "  gender: \"MALE\"\n",
       "  animacy: \"INANIMATE\"\n",
       "  beginIndex: 5\n",
       "  endIndex: 7\n",
       "  headIndex: 6\n",
       "  sentenceIndex: 9\n",
       "  position: 2\n",
       "}\n",
       "mention {\n",
       "  mentionID: 46\n",
       "  mentionType: \"PRONOMINAL\"\n",
       "  number: \"SINGULAR\"\n",
       "  gender: \"NEUTRAL\"\n",
       "  animacy: \"INANIMATE\"\n",
       "  beginIndex: 28\n",
       "  endIndex: 29\n",
       "  headIndex: 28\n",
       "  sentenceIndex: 8\n",
       "  position: 8\n",
       "}\n",
       "representative: 0\n",
       ", chainID: 5\n",
       "mention {\n",
       "  mentionID: 4\n",
       "  mentionType: \"PRONOMINAL\"\n",
       "  number: \"SINGULAR\"\n",
       "  gender: \"MALE\"\n",
       "  animacy: \"ANIMATE\"\n",
       "  beginIndex: 16\n",
       "  endIndex: 17\n",
       "  headIndex: 16\n",
       "  sentenceIndex: 0\n",
       "  position: 5\n",
       "}\n",
       "mention {\n",
       "  mentionID: 5\n",
       "  mentionType: \"PRONOMINAL\"\n",
       "  number: \"PLURAL\"\n",
       "  gender: \"UNKNOWN\"\n",
       "  animacy: \"ANIMATE\"\n",
       "  beginIndex: 2\n",
       "  endIndex: 3\n",
       "  headIndex: 2\n",
       "  sentenceIndex: 1\n",
       "  position: 1\n",
       "}\n",
       "mention {\n",
       "  mentionID: 0\n",
       "  mentionType: \"NOMINAL\"\n",
       "  number: \"SINGULAR\"\n",
       "  gender: \"UNKNOWN\"\n",
       "  animacy: \"ANIMATE\"\n",
       "  beginIndex: 3\n",
       "  endIndex: 18\n",
       "  headIndex: 4\n",
       "  sentenceIndex: 0\n",
       "  position: 1\n",
       "}\n",
       "representative: 2\n",
       ", chainID: 53\n",
       "mention {\n",
       "  mentionID: 53\n",
       "  mentionType: \"NOMINAL\"\n",
       "  number: \"SINGULAR\"\n",
       "  gender: \"NEUTRAL\"\n",
       "  animacy: \"INANIMATE\"\n",
       "  beginIndex: 20\n",
       "  endIndex: 22\n",
       "  headIndex: 21\n",
       "  sentenceIndex: 10\n",
       "  position: 5\n",
       "}\n",
       "mention {\n",
       "  mentionID: 38\n",
       "  mentionType: \"NOMINAL\"\n",
       "  number: \"SINGULAR\"\n",
       "  gender: \"NEUTRAL\"\n",
       "  animacy: \"INANIMATE\"\n",
       "  beginIndex: 13\n",
       "  endIndex: 15\n",
       "  headIndex: 14\n",
       "  sentenceIndex: 7\n",
       "  position: 5\n",
       "}\n",
       "mention {\n",
       "  mentionID: 24\n",
       "  mentionType: \"NOMINAL\"\n",
       "  number: \"SINGULAR\"\n",
       "  gender: \"NEUTRAL\"\n",
       "  animacy: \"INANIMATE\"\n",
       "  beginIndex: 17\n",
       "  endIndex: 19\n",
       "  headIndex: 18\n",
       "  sentenceIndex: 4\n",
       "  position: 6\n",
       "}\n",
       "mention {\n",
       "  mentionID: 18\n",
       "  mentionType: \"NOMINAL\"\n",
       "  number: \"SINGULAR\"\n",
       "  gender: \"NEUTRAL\"\n",
       "  animacy: \"INANIMATE\"\n",
       "  beginIndex: 6\n",
       "  endIndex: 11\n",
       "  headIndex: 8\n",
       "  sentenceIndex: 3\n",
       "  position: 2\n",
       "}\n",
       "mention {\n",
       "  mentionID: 40\n",
       "  mentionType: \"NOMINAL\"\n",
       "  number: \"SINGULAR\"\n",
       "  gender: \"NEUTRAL\"\n",
       "  animacy: \"INANIMATE\"\n",
       "  beginIndex: 4\n",
       "  endIndex: 6\n",
       "  headIndex: 5\n",
       "  sentenceIndex: 8\n",
       "  position: 2\n",
       "}\n",
       "representative: 3\n",
       ", chainID: 56\n",
       "mention {\n",
       "  mentionID: 56\n",
       "  mentionType: \"PRONOMINAL\"\n",
       "  number: \"SINGULAR\"\n",
       "  gender: \"MALE\"\n",
       "  animacy: \"ANIMATE\"\n",
       "  beginIndex: 5\n",
       "  endIndex: 6\n",
       "  headIndex: 5\n",
       "  sentenceIndex: 11\n",
       "  position: 3\n",
       "}\n",
       "mention {\n",
       "  mentionID: 41\n",
       "  mentionType: \"PRONOMINAL\"\n",
       "  number: \"SINGULAR\"\n",
       "  gender: \"MALE\"\n",
       "  animacy: \"ANIMATE\"\n",
       "  beginIndex: 10\n",
       "  endIndex: 11\n",
       "  headIndex: 10\n",
       "  sentenceIndex: 8\n",
       "  position: 3\n",
       "}\n",
       "mention {\n",
       "  mentionID: 51\n",
       "  mentionType: \"NOMINAL\"\n",
       "  number: \"SINGULAR\"\n",
       "  gender: \"UNKNOWN\"\n",
       "  animacy: \"ANIMATE\"\n",
       "  beginIndex: 12\n",
       "  endIndex: 14\n",
       "  headIndex: 13\n",
       "  sentenceIndex: 10\n",
       "  position: 3\n",
       "}\n",
       "mention {\n",
       "  mentionID: 39\n",
       "  mentionType: \"PRONOMINAL\"\n",
       "  number: \"SINGULAR\"\n",
       "  gender: \"MALE\"\n",
       "  animacy: \"ANIMATE\"\n",
       "  beginIndex: 0\n",
       "  endIndex: 1\n",
       "  headIndex: 0\n",
       "  sentenceIndex: 8\n",
       "  position: 1\n",
       "}\n",
       "mention {\n",
       "  mentionID: 35\n",
       "  mentionType: \"NOMINAL\"\n",
       "  number: \"SINGULAR\"\n",
       "  gender: \"UNKNOWN\"\n",
       "  animacy: \"ANIMATE\"\n",
       "  beginIndex: 2\n",
       "  endIndex: 15\n",
       "  headIndex: 3\n",
       "  sentenceIndex: 7\n",
       "  position: 2\n",
       "}\n",
       "mention {\n",
       "  mentionID: 55\n",
       "  mentionType: \"PRONOMINAL\"\n",
       "  number: \"SINGULAR\"\n",
       "  gender: \"MALE\"\n",
       "  animacy: \"ANIMATE\"\n",
       "  beginIndex: 2\n",
       "  endIndex: 3\n",
       "  headIndex: 2\n",
       "  sentenceIndex: 11\n",
       "  position: 2\n",
       "}\n",
       "representative: 4\n",
       ", chainID: 28\n",
       "mention {\n",
       "  mentionID: 28\n",
       "  mentionType: \"PRONOMINAL\"\n",
       "  number: \"SINGULAR\"\n",
       "  gender: \"MALE\"\n",
       "  animacy: \"ANIMATE\"\n",
       "  beginIndex: 10\n",
       "  endIndex: 11\n",
       "  headIndex: 10\n",
       "  sentenceIndex: 5\n",
       "  position: 4\n",
       "}\n",
       "mention {\n",
       "  mentionID: 17\n",
       "  mentionType: \"PROPER\"\n",
       "  number: \"SINGULAR\"\n",
       "  gender: \"UNKNOWN\"\n",
       "  animacy: \"INANIMATE\"\n",
       "  beginIndex: 0\n",
       "  endIndex: 4\n",
       "  headIndex: 0\n",
       "  sentenceIndex: 3\n",
       "  position: 1\n",
       "}\n",
       "mention {\n",
       "  mentionID: 25\n",
       "  mentionType: \"PRONOMINAL\"\n",
       "  number: \"SINGULAR\"\n",
       "  gender: \"MALE\"\n",
       "  animacy: \"ANIMATE\"\n",
       "  beginIndex: 0\n",
       "  endIndex: 1\n",
       "  headIndex: 0\n",
       "  sentenceIndex: 5\n",
       "  position: 1\n",
       "}\n",
       "mention {\n",
       "  mentionID: 19\n",
       "  mentionType: \"PRONOMINAL\"\n",
       "  number: \"SINGULAR\"\n",
       "  gender: \"NEUTRAL\"\n",
       "  animacy: \"INANIMATE\"\n",
       "  beginIndex: 2\n",
       "  endIndex: 3\n",
       "  headIndex: 2\n",
       "  sentenceIndex: 4\n",
       "  position: 1\n",
       "}\n",
       "mention {\n",
       "  mentionID: 21\n",
       "  mentionType: \"PRONOMINAL\"\n",
       "  number: \"SINGULAR\"\n",
       "  gender: \"MALE\"\n",
       "  animacy: \"ANIMATE\"\n",
       "  beginIndex: 9\n",
       "  endIndex: 10\n",
       "  headIndex: 9\n",
       "  sentenceIndex: 4\n",
       "  position: 3\n",
       "}\n",
       "representative: 1\n",
       ", chainID: 29\n",
       "mention {\n",
       "  mentionID: 14\n",
       "  mentionType: \"NOMINAL\"\n",
       "  number: \"PLURAL\"\n",
       "  gender: \"UNKNOWN\"\n",
       "  animacy: \"ANIMATE\"\n",
       "  beginIndex: 16\n",
       "  endIndex: 18\n",
       "  headIndex: 17\n",
       "  sentenceIndex: 2\n",
       "  position: 5\n",
       "}\n",
       "mention {\n",
       "  mentionID: 16\n",
       "  mentionType: \"PRONOMINAL\"\n",
       "  number: \"PLURAL\"\n",
       "  gender: \"UNKNOWN\"\n",
       "  animacy: \"ANIMATE\"\n",
       "  beginIndex: 20\n",
       "  endIndex: 21\n",
       "  headIndex: 20\n",
       "  sentenceIndex: 2\n",
       "  position: 7\n",
       "}\n",
       "mention {\n",
       "  mentionID: 29\n",
       "  mentionType: \"NOMINAL\"\n",
       "  number: \"PLURAL\"\n",
       "  gender: \"UNKNOWN\"\n",
       "  animacy: \"ANIMATE\"\n",
       "  beginIndex: 1\n",
       "  endIndex: 4\n",
       "  headIndex: 3\n",
       "  sentenceIndex: 6\n",
       "  position: 1\n",
       "}\n",
       "representative: 2\n",
       ", chainID: 30\n",
       "mention {\n",
       "  mentionID: 30\n",
       "  mentionType: \"NOMINAL\"\n",
       "  number: \"PLURAL\"\n",
       "  gender: \"UNKNOWN\"\n",
       "  animacy: \"ANIMATE\"\n",
       "  beginIndex: 7\n",
       "  endIndex: 9\n",
       "  headIndex: 8\n",
       "  sentenceIndex: 6\n",
       "  position: 2\n",
       "}\n",
       "mention {\n",
       "  mentionID: 11\n",
       "  mentionType: \"NOMINAL\"\n",
       "  number: \"SINGULAR\"\n",
       "  gender: \"NEUTRAL\"\n",
       "  animacy: \"INANIMATE\"\n",
       "  beginIndex: 3\n",
       "  endIndex: 7\n",
       "  headIndex: 4\n",
       "  sentenceIndex: 2\n",
       "  position: 2\n",
       "}\n",
       "representative: 1\n",
       "]"
      ]
     },
     "execution_count": 56,
     "metadata": {},
     "output_type": "execute_result"
    }
   ],
   "source": [
    "ann.corefChain"
   ]
  },
  {
   "cell_type": "code",
   "execution_count": 58,
   "metadata": {},
   "outputs": [
    {
     "name": "stdout",
     "output_type": "stream",
     "text": [
      "{'merchant': {'gender': 'UNKNOWN', 'number': 3, 'sentences': {0, 1}}, 'monkey': {'gender': 'MALE', 'number': 6, 'sentences': {8, 10, 11, 7}}, 'workers': {'gender': 'UNKNOWN', 'number': 3, 'sentences': {2, 6}}}\n"
     ]
    }
   ],
   "source": [
    "print(grps)"
   ]
  },
  {
   "cell_type": "code",
   "execution_count": 53,
   "metadata": {},
   "outputs": [],
   "source": [
    "#metrics\n",
    "def metrics(obv, data):\n",
    "    stp = sprec_den = sfn = 0\n",
    "    gtp = 0\n",
    "    keys = set(obv.keys()).intersection(set(data.keys()))\n",
    "    for char in keys:\n",
    "        stp += len(obv[char][\"sentences\"].intersection(data[char][\"sentences\"]))\n",
    "        gtp += 1 if (obv[char][\"gender\"]==data[char][\"gender\"]) else 0\n",
    "        sprec_den += len(obv[char][\"sentences\"])\n",
    "        sfn += len(data[char][\"sentences\"]) - len(obv[char][\"sentences\"].intersection(data[char][\"sentences\"]))\n",
    "    sprecision = stp/sprec_den\n",
    "    srecall = stp/(stp+sfn)\n",
    "    sF1_score = 2*sprecision*srecall/(sprecision+srecall)\n",
    "    gaccuracy = gtp/len(keys)\n",
    "    caccuracy = len(keys)/len(data.keys())\n",
    "    return (caccuracy, gaccuracy, sprecision, srecall, sF1_score)"
   ]
  },
  {
   "cell_type": "code",
   "execution_count": 43,
   "metadata": {},
   "outputs": [
    {
     "name": "stdout",
     "output_type": "stream",
     "text": [
      "{'merchant': {'gender': 'MALE', 'sentences': [0]}, 'carpenters': {'gender': 'UNKNOWN', 'sentences': [0, 1]}, 'masons': {'gender': 'UNKNOWN', 'sentences': [0, 1]}, 'workers': {'gender': 'UNKNOWN', 'sentences': [2, 6]}, 'carpenter': {'gender': 'MALE', 'sentences': [3, 4, 5]}, 'monkeys': {'gender': 'UNKNOWN', 'sentences': [2, 6]}, 'monkey': {'gender': 'MALE', 'sentences': [7, 8, 10, 11]}}\n"
     ]
    }
   ],
   "source": [
    "import pickle\n",
    "file = open(r'C:\\Users\\Sourav\\BTP Code\\Panchatantra\\the_monkey_the_wedge.gpickle', 'rb')\n",
    "data = pickle.load(file)\n",
    "file.close()\n",
    "print(data)"
   ]
  },
  {
   "cell_type": "code",
   "execution_count": 27,
   "metadata": {},
   "outputs": [
    {
     "data": {
      "text/plain": [
       "(0.3333333333333333,\n",
       " 0.14285714285714285,\n",
       " 1.0,\n",
       " 0.5333333333333333,\n",
       " 0.6956521739130436)"
      ]
     },
     "execution_count": 27,
     "metadata": {},
     "output_type": "execute_result"
    }
   ],
   "source": [
    "#the elephant and the sparrow\n",
    "metrics(grps, data)"
   ]
  },
  {
   "cell_type": "code",
   "execution_count": 12,
   "metadata": {},
   "outputs": [
    {
     "data": {
      "text/plain": [
       "(1.0, 0.1, 0.9836065573770492, 0.5405405405405406, 0.6976744186046512)"
      ]
     },
     "execution_count": 12,
     "metadata": {},
     "output_type": "execute_result"
    }
   ],
   "source": [
    "#the monkey and the crocodile\n",
    "metrics(grps, data)"
   ]
  },
  {
   "cell_type": "code",
   "execution_count": 19,
   "metadata": {},
   "outputs": [
    {
     "data": {
      "text/plain": [
       "(0.9090909090909091,\n",
       " 0.3888888888888889,\n",
       " 0.7317073170731707,\n",
       " 0.5504587155963303,\n",
       " 0.6282722513089005)"
      ]
     },
     "execution_count": 19,
     "metadata": {},
     "output_type": "execute_result"
    }
   ],
   "source": [
    "#the_story_of_the_merchant_son\n",
    "metrics(grps, data)"
   ]
  },
  {
   "cell_type": "code",
   "execution_count": 31,
   "metadata": {},
   "outputs": [
    {
     "data": {
      "text/plain": [
       "(0.8333333333333334,\n",
       " 0.8333333333333334,\n",
       " 0.9047619047619048,\n",
       " 0.7808219178082192,\n",
       " 0.8382352941176471)"
      ]
     },
     "execution_count": 31,
     "metadata": {},
     "output_type": "execute_result"
    }
   ],
   "source": [
    "#the_thief_and_the_brahmins\n",
    "metrics(grps, data)"
   ]
  },
  {
   "cell_type": "code",
   "execution_count": 47,
   "metadata": {},
   "outputs": [
    {
     "data": {
      "text/plain": [
       "(0.42857142857142855, 0.6666666666666666, 0.875, 1.0, 0.9333333333333333)"
      ]
     },
     "execution_count": 47,
     "metadata": {},
     "output_type": "execute_result"
    }
   ],
   "source": [
    "#the_monkey_the_wedge\n",
    "metrics(grps, data)"
   ]
  },
  {
   "cell_type": "code",
   "execution_count": 50,
   "metadata": {},
   "outputs": [
    {
     "name": "stdout",
     "output_type": "stream",
     "text": [
      "Collecting jupyterthemes\n",
      "  Downloading jupyterthemes-0.20.0-py2.py3-none-any.whl (7.0 MB)\n",
      "Requirement already satisfied: jupyter-core in c:\\users\\sourav\\anaconda3\\envs\\btp\\lib\\site-packages (from jupyterthemes) (4.6.3)\n",
      "Collecting lesscpy>=0.11.2\n",
      "  Downloading lesscpy-0.14.0-py2.py3-none-any.whl (46 kB)\n",
      "Requirement already satisfied: notebook>=5.6.0 in c:\\users\\sourav\\anaconda3\\envs\\btp\\lib\\site-packages (from jupyterthemes) (6.1.4)\n",
      "Requirement already satisfied: matplotlib>=1.4.3 in c:\\users\\sourav\\anaconda3\\envs\\btp\\lib\\site-packages (from jupyterthemes) (3.3.3)\n",
      "Requirement already satisfied: ipython>=5.4.1 in c:\\users\\sourav\\anaconda3\\envs\\btp\\lib\\site-packages (from jupyterthemes) (7.18.1)\n",
      "Requirement already satisfied: traitlets in c:\\users\\sourav\\anaconda3\\envs\\btp\\lib\\site-packages (from jupyter-core->jupyterthemes) (5.0.5)\n",
      "Requirement already satisfied: pywin32>=1.0; sys_platform == \"win32\" in c:\\users\\sourav\\anaconda3\\envs\\btp\\lib\\site-packages (from jupyter-core->jupyterthemes) (227)\n",
      "Collecting ply\n",
      "  Downloading ply-3.11-py2.py3-none-any.whl (49 kB)\n",
      "Requirement already satisfied: six in c:\\users\\sourav\\anaconda3\\envs\\btp\\lib\\site-packages (from lesscpy>=0.11.2->jupyterthemes) (1.15.0)\n",
      "Requirement already satisfied: jupyter-client>=5.3.4 in c:\\users\\sourav\\anaconda3\\envs\\btp\\lib\\site-packages (from notebook>=5.6.0->jupyterthemes) (6.1.7)\n",
      "Requirement already satisfied: nbconvert in c:\\users\\sourav\\anaconda3\\envs\\btp\\lib\\site-packages (from notebook>=5.6.0->jupyterthemes) (6.0.7)\n",
      "Requirement already satisfied: nbformat in c:\\users\\sourav\\anaconda3\\envs\\btp\\lib\\site-packages (from notebook>=5.6.0->jupyterthemes) (5.0.8)\n",
      "Requirement already satisfied: terminado>=0.8.3 in c:\\users\\sourav\\anaconda3\\envs\\btp\\lib\\site-packages (from notebook>=5.6.0->jupyterthemes) (0.9.1)\n",
      "Requirement already satisfied: pyzmq>=17 in c:\\users\\sourav\\anaconda3\\envs\\btp\\lib\\site-packages (from notebook>=5.6.0->jupyterthemes) (19.0.2)\n",
      "Requirement already satisfied: ipykernel in c:\\users\\sourav\\anaconda3\\envs\\btp\\lib\\site-packages (from notebook>=5.6.0->jupyterthemes) (5.3.4)\n",
      "Requirement already satisfied: Send2Trash in c:\\users\\sourav\\anaconda3\\envs\\btp\\lib\\site-packages (from notebook>=5.6.0->jupyterthemes) (1.5.0)\n",
      "Requirement already satisfied: tornado>=5.0 in c:\\users\\sourav\\anaconda3\\envs\\btp\\lib\\site-packages (from notebook>=5.6.0->jupyterthemes) (6.0.4)\n",
      "Requirement already satisfied: ipython-genutils in c:\\users\\sourav\\anaconda3\\envs\\btp\\lib\\site-packages (from notebook>=5.6.0->jupyterthemes) (0.2.0)\n",
      "Requirement already satisfied: argon2-cffi in c:\\users\\sourav\\anaconda3\\envs\\btp\\lib\\site-packages (from notebook>=5.6.0->jupyterthemes) (20.1.0)\n",
      "Requirement already satisfied: prometheus-client in c:\\users\\sourav\\anaconda3\\envs\\btp\\lib\\site-packages (from notebook>=5.6.0->jupyterthemes) (0.8.0)\n",
      "Requirement already satisfied: jinja2 in c:\\users\\sourav\\anaconda3\\envs\\btp\\lib\\site-packages (from notebook>=5.6.0->jupyterthemes) (2.11.2)\n",
      "Requirement already satisfied: pillow>=6.2.0 in c:\\users\\sourav\\anaconda3\\envs\\btp\\lib\\site-packages (from matplotlib>=1.4.3->jupyterthemes) (8.0.1)\n",
      "Requirement already satisfied: cycler>=0.10 in c:\\users\\sourav\\anaconda3\\envs\\btp\\lib\\site-packages (from matplotlib>=1.4.3->jupyterthemes) (0.10.0)\n",
      "Requirement already satisfied: python-dateutil>=2.1 in c:\\users\\sourav\\anaconda3\\envs\\btp\\lib\\site-packages (from matplotlib>=1.4.3->jupyterthemes) (2.8.1)\n",
      "Requirement already satisfied: kiwisolver>=1.0.1 in c:\\users\\sourav\\anaconda3\\envs\\btp\\lib\\site-packages (from matplotlib>=1.4.3->jupyterthemes) (1.3.1)\n",
      "Requirement already satisfied: numpy>=1.15 in c:\\users\\sourav\\anaconda3\\envs\\btp\\lib\\site-packages (from matplotlib>=1.4.3->jupyterthemes) (1.19.3)\n",
      "Requirement already satisfied: pyparsing!=2.0.4,!=2.1.2,!=2.1.6,>=2.0.3 in c:\\users\\sourav\\anaconda3\\envs\\btp\\lib\\site-packages (from matplotlib>=1.4.3->jupyterthemes) (2.4.7)\n",
      "Requirement already satisfied: jedi>=0.10 in c:\\users\\sourav\\anaconda3\\envs\\btp\\lib\\site-packages (from ipython>=5.4.1->jupyterthemes) (0.17.2)\n",
      "Requirement already satisfied: pickleshare in c:\\users\\sourav\\anaconda3\\envs\\btp\\lib\\site-packages (from ipython>=5.4.1->jupyterthemes) (0.7.5)\n",
      "Requirement already satisfied: backcall in c:\\users\\sourav\\anaconda3\\envs\\btp\\lib\\site-packages (from ipython>=5.4.1->jupyterthemes) (0.2.0)\n",
      "Requirement already satisfied: decorator in c:\\users\\sourav\\anaconda3\\envs\\btp\\lib\\site-packages (from ipython>=5.4.1->jupyterthemes) (4.4.2)\n",
      "Requirement already satisfied: pygments in c:\\users\\sourav\\anaconda3\\envs\\btp\\lib\\site-packages (from ipython>=5.4.1->jupyterthemes) (2.7.2)\n",
      "Requirement already satisfied: colorama; sys_platform == \"win32\" in c:\\users\\sourav\\anaconda3\\envs\\btp\\lib\\site-packages (from ipython>=5.4.1->jupyterthemes) (0.4.4)\n",
      "Requirement already satisfied: setuptools>=18.5 in c:\\users\\sourav\\anaconda3\\envs\\btp\\lib\\site-packages (from ipython>=5.4.1->jupyterthemes) (50.3.0.post20201006)\n",
      "Requirement already satisfied: prompt-toolkit!=3.0.0,!=3.0.1,<3.1.0,>=2.0.0 in c:\\users\\sourav\\anaconda3\\envs\\btp\\lib\\site-packages (from ipython>=5.4.1->jupyterthemes) (3.0.8)\n",
      "Requirement already satisfied: testpath in c:\\users\\sourav\\anaconda3\\envs\\btp\\lib\\site-packages (from nbconvert->notebook>=5.6.0->jupyterthemes) (0.4.4)\n",
      "Requirement already satisfied: bleach in c:\\users\\sourav\\anaconda3\\envs\\btp\\lib\\site-packages (from nbconvert->notebook>=5.6.0->jupyterthemes) (3.2.1)\n",
      "Requirement already satisfied: mistune<2,>=0.8.1 in c:\\users\\sourav\\anaconda3\\envs\\btp\\lib\\site-packages (from nbconvert->notebook>=5.6.0->jupyterthemes) (0.8.4)\n",
      "Requirement already satisfied: jupyterlab-pygments in c:\\users\\sourav\\anaconda3\\envs\\btp\\lib\\site-packages (from nbconvert->notebook>=5.6.0->jupyterthemes) (0.1.2)\n",
      "Requirement already satisfied: nbclient<0.6.0,>=0.5.0 in c:\\users\\sourav\\anaconda3\\envs\\btp\\lib\\site-packages (from nbconvert->notebook>=5.6.0->jupyterthemes) (0.5.1)\n",
      "Requirement already satisfied: entrypoints>=0.2.2 in c:\\users\\sourav\\anaconda3\\envs\\btp\\lib\\site-packages (from nbconvert->notebook>=5.6.0->jupyterthemes) (0.3)\n",
      "Requirement already satisfied: defusedxml in c:\\users\\sourav\\anaconda3\\envs\\btp\\lib\\site-packages (from nbconvert->notebook>=5.6.0->jupyterthemes) (0.6.0)\n",
      "Requirement already satisfied: pandocfilters>=1.4.1 in c:\\users\\sourav\\anaconda3\\envs\\btp\\lib\\site-packages (from nbconvert->notebook>=5.6.0->jupyterthemes) (1.4.2)\n",
      "Requirement already satisfied: jsonschema!=2.5.0,>=2.4 in c:\\users\\sourav\\anaconda3\\envs\\btp\\lib\\site-packages (from nbformat->notebook>=5.6.0->jupyterthemes) (3.2.0)\n",
      "Requirement already satisfied: pywinpty>=0.5 in c:\\users\\sourav\\anaconda3\\envs\\btp\\lib\\site-packages (from terminado>=0.8.3->notebook>=5.6.0->jupyterthemes) (0.5.7)\n",
      "Requirement already satisfied: cffi>=1.0.0 in c:\\users\\sourav\\anaconda3\\envs\\btp\\lib\\site-packages (from argon2-cffi->notebook>=5.6.0->jupyterthemes) (1.14.3)\n",
      "Requirement already satisfied: MarkupSafe>=0.23 in c:\\users\\sourav\\anaconda3\\envs\\btp\\lib\\site-packages (from jinja2->notebook>=5.6.0->jupyterthemes) (1.1.1)\n",
      "Requirement already satisfied: parso<0.8.0,>=0.7.0 in c:\\users\\sourav\\anaconda3\\envs\\btp\\lib\\site-packages (from jedi>=0.10->ipython>=5.4.1->jupyterthemes) (0.7.0)\n",
      "Requirement already satisfied: wcwidth in c:\\users\\sourav\\anaconda3\\envs\\btp\\lib\\site-packages (from prompt-toolkit!=3.0.0,!=3.0.1,<3.1.0,>=2.0.0->ipython>=5.4.1->jupyterthemes) (0.2.5)\n",
      "Requirement already satisfied: packaging in c:\\users\\sourav\\anaconda3\\envs\\btp\\lib\\site-packages (from bleach->nbconvert->notebook>=5.6.0->jupyterthemes) (20.4)\n",
      "Requirement already satisfied: webencodings in c:\\users\\sourav\\anaconda3\\envs\\btp\\lib\\site-packages (from bleach->nbconvert->notebook>=5.6.0->jupyterthemes) (0.5.1)\n",
      "Requirement already satisfied: nest-asyncio in c:\\users\\sourav\\anaconda3\\envs\\btp\\lib\\site-packages (from nbclient<0.6.0,>=0.5.0->nbconvert->notebook>=5.6.0->jupyterthemes) (1.4.1)\n",
      "Requirement already satisfied: async-generator in c:\\users\\sourav\\anaconda3\\envs\\btp\\lib\\site-packages (from nbclient<0.6.0,>=0.5.0->nbconvert->notebook>=5.6.0->jupyterthemes) (1.10)\n",
      "Requirement already satisfied: attrs>=17.4.0 in c:\\users\\sourav\\anaconda3\\envs\\btp\\lib\\site-packages (from jsonschema!=2.5.0,>=2.4->nbformat->notebook>=5.6.0->jupyterthemes) (20.2.0)\n",
      "Requirement already satisfied: pyrsistent>=0.14.0 in c:\\users\\sourav\\anaconda3\\envs\\btp\\lib\\site-packages (from jsonschema!=2.5.0,>=2.4->nbformat->notebook>=5.6.0->jupyterthemes) (0.17.3)\n",
      "Requirement already satisfied: pycparser in c:\\users\\sourav\\anaconda3\\envs\\btp\\lib\\site-packages (from cffi>=1.0.0->argon2-cffi->notebook>=5.6.0->jupyterthemes) (2.20)\n",
      "Installing collected packages: ply, lesscpy, jupyterthemes\n",
      "Successfully installed jupyterthemes-0.20.0 lesscpy-0.14.0 ply-3.11\n"
     ]
    }
   ],
   "source": [
    "!pip install jupyterthemes"
   ]
  },
  {
   "cell_type": "code",
   "execution_count": 5,
   "metadata": {},
   "outputs": [],
   "source": [
    "!jt -t onedork -fs 115 -tfs 115 -ofs 10 -nfs 130 -cellw 88% -T"
   ]
  },
  {
   "cell_type": "code",
   "execution_count": null,
   "metadata": {},
   "outputs": [],
   "source": []
  }
 ],
 "metadata": {
  "kernelspec": {
   "display_name": "Python 3",
   "language": "python",
   "name": "python3"
  },
  "language_info": {
   "codemirror_mode": {
    "name": "ipython",
    "version": 3
   },
   "file_extension": ".py",
   "mimetype": "text/x-python",
   "name": "python",
   "nbconvert_exporter": "python",
   "pygments_lexer": "ipython3",
   "version": "3.8.5"
  }
 },
 "nbformat": 4,
 "nbformat_minor": 4
}
