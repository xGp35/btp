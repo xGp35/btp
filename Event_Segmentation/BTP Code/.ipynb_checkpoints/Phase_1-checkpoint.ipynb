{
 "cells": [
  {
   "cell_type": "code",
   "execution_count": 1,
   "metadata": {},
   "outputs": [],
   "source": [
    "from stanza.server import CoreNLPClient"
   ]
  },
  {
   "cell_type": "code",
   "execution_count": 2,
   "metadata": {},
   "outputs": [],
   "source": [
    "def gender_processing(sentence_groups):\n",
    "    def gender(tag):\n",
    "        gender_sum = sentence_groups[tag]['gender']\n",
    "        number = sentence_groups[tag]['number']\n",
    "        if number == 0:\n",
    "            return \"UNKNOWN\"\n",
    "        print(tag, gender_sum, number)\n",
    "        gender = gender_sum/number\n",
    "        if gender<-(1/3):\n",
    "            return \"FEMALE\"\n",
    "        elif gender>(1/3):\n",
    "            return \"MALE\"\n",
    "        else:\n",
    "            return \"UNKNOWN\"\n",
    "    for tag in sentence_groups.keys():\n",
    "        sentence_groups[tag]['gender'] = gender(tag)"
   ]
  },
  {
   "cell_type": "code",
   "execution_count": 3,
   "metadata": {},
   "outputs": [],
   "source": [
    "def sentence_selection_mod(text, annotations):\n",
    "    \"\"\"Groups the sentences based on animate entities\n",
    "    \n",
    "    Input:\n",
    "        text : the story\n",
    "        annotations : annotators of text\n",
    "        \n",
    "    Output:\n",
    "        sentence_groups : dictionary containing sentences belonging to different animate entities    \n",
    "    \"\"\"    \n",
    "    \n",
    "    sentence_groups = dict()\n",
    "    tag_dict = dict()\n",
    "                \n",
    "    for chain in ann.corefChain:\n",
    "        sentences = set()\n",
    "        rep_mention = chain.mention[chain.representative]\n",
    "        if rep_mention.animacy == \"INANIMATE\" or rep_mention.mentionType == \"PRONOMINAL\":\n",
    "            continue\n",
    "        sI = rep_mention.sentenceIndex\n",
    "        hI = rep_mention.headIndex\n",
    "        if (sI, hI) not in tag_dict:\n",
    "            tag_dict[(sI, hI)] = ann.sentence[sI].token[hI].word\n",
    "        tag = tag_dict[(sI, hI)].lower()\n",
    "        print(tag, rep_mention.mentionType, chain.chainID)\n",
    "        if tag not in sentence_groups:\n",
    "            sentence_groups[tag] = dict()\n",
    "            sentence_groups[tag]['gender'] = 0\n",
    "            sentence_groups[tag]['number'] = 0\n",
    "            sentence_groups[tag]['sentences'] = set()\n",
    "        for mention in chain.mention:\n",
    "            if (mention.mentionType == \"PRONOMINAL\" and mention.number == \"SINGULAR\") or not (mention.gender == \"UNKNOWN\"):\n",
    "                sentence_groups[tag]['gender'] += (0 if mention.gender == \"UNKNOWN\" else (1 if mention.gender == \"MALE\" else -1))\n",
    "                sentence_groups[tag]['number'] +=1\n",
    "            sentence_groups[tag]['sentences'].add(mention.sentenceIndex)\n",
    "#         sentence_groups[tag]['sentences'] = sentence_groups[tag]['sentences'].union(sentences.copy())\n",
    "    gender_processing(sentence_groups)\n",
    "    return sentence_groups"
   ]
  },
  {
   "cell_type": "code",
   "execution_count": 8,
   "metadata": {},
   "outputs": [],
   "source": [
    "file = open(r'C:\\Users\\Sourav\\Desktop\\BTP\\btp-1\\Event_Segmentation\\BTP Code\\Red_Riding_Hood.txt', errors='ignore')\n",
    "text = file.read()\n",
    "file.close()"
   ]
  },
  {
   "cell_type": "code",
   "execution_count": 9,
   "metadata": {},
   "outputs": [
    {
     "name": "stderr",
     "output_type": "stream",
     "text": [
      "2021-02-16 11:04:26 INFO: Writing properties to tmp file: corenlp_server-979966754df14732.props\n",
      "2021-02-16 11:04:26 INFO: Starting server with command: java -Xmx5G -cp C:\\Users\\Sourav\\stanza_corenlp\\* edu.stanford.nlp.pipeline.StanfordCoreNLPServer -port 9000 -timeout 36000000 -threads 5 -maxCharLength 500000 -quiet True -serverProperties corenlp_server-979966754df14732.props -annotators tokenize,ssplit,pos,lemma,ner,parse,depparse,coref -preload -outputFormat serialized\n"
     ]
    },
    {
     "name": "stdout",
     "output_type": "stream",
     "text": [
      "112.24005460739136\n"
     ]
    }
   ],
   "source": [
    "import time\n",
    "t1 = time.time()\n",
    "with CoreNLPClient(annotators = ['tokenize','ssplit','pos','lemma','ner', 'parse', 'depparse','coref'],\n",
    "    properties={'annotators': 'coref', 'coref.algorithm' : 'neural'},\n",
    "    memory='5G', be_quiet=True, outputFormat = 'json', max_char_length=500000, timeout=36000000) as client:\n",
    "    ann = client.annotate(text)\n",
    "t2 = time.time()\n",
    "print(t2-t1)"
   ]
  },
  {
   "cell_type": "code",
   "execution_count": 10,
   "metadata": {},
   "outputs": [
    {
     "name": "stdout",
     "output_type": "stream",
     "text": [
      "girl NOMINAL 194\n",
      "grandma PROPER 104\n",
      "wolf NOMINAL 233\n",
      "wolf PROPER 204\n",
      "woodsman NOMINAL 236\n",
      "grandmother PROPER 240\n",
      "mother NOMINAL 53\n",
      "granny PROPER 123\n",
      "girl -8 8\n",
      "grandma -6 6\n",
      "wolf 27 37\n",
      "woodsman 5 7\n",
      "grandmother -10 10\n",
      "mother -4 4\n",
      "granny -4 4\n"
     ]
    }
   ],
   "source": [
    "grps = sentence_selection_mod(text, ann)"
   ]
  },
  {
   "cell_type": "code",
   "execution_count": 17,
   "metadata": {},
   "outputs": [
    {
     "data": {
      "text/plain": [
       "60"
      ]
     },
     "execution_count": 17,
     "metadata": {},
     "output_type": "execute_result"
    }
   ],
   "source": [
    "len(ann.sentence)"
   ]
  },
  {
   "cell_type": "code",
   "execution_count": 12,
   "metadata": {},
   "outputs": [
    {
     "name": "stdout",
     "output_type": "stream",
     "text": [
      "{'girl': {'gender': 'FEMALE', 'number': 8, 'sentences': {0, 1, 5, 46}}, 'grandma': {'gender': 'FEMALE', 'number': 6, 'sentences': {16, 17, 20, 6}}, 'wolf': {'gender': 'MALE', 'number': 37, 'sentences': {12, 14, 15, 17, 20, 21, 22, 23, 24, 26, 28, 29, 31, 37, 40, 43, 46, 47, 49, 52, 58}}, 'woodsman': {'gender': 'MALE', 'number': 7, 'sentences': {51, 52, 53, 54, 57, 58}}, 'grandmother': {'gender': 'FEMALE', 'number': 10, 'sentences': {32, 2, 4, 38, 41, 44, 45, 47, 52, 59}}, 'mother': {'gender': 'FEMALE', 'number': 4, 'sentences': {3, 10, 2, 6}}, 'granny': {'gender': 'FEMALE', 'number': 4, 'sentences': {24, 22, 23}}}\n"
     ]
    }
   ],
   "source": [
    "print(grps)"
   ]
  },
  {
   "cell_type": "code",
   "execution_count": 13,
   "metadata": {},
   "outputs": [],
   "source": [
    "import pickle\n",
    "file = open(r'C:\\Users\\Sourav\\Desktop\\BTP\\btp-1\\Event_Segmentation\\BTP Code\\Red_Riding_Hood_ann.gpickle', 'wb')\n",
    "pickle.dump(grps, file)\n",
    "file.close()"
   ]
  },
  {
   "cell_type": "code",
   "execution_count": 134,
   "metadata": {},
   "outputs": [],
   "source": [
    "#metrics\n",
    "def metrics(obv, data):\n",
    "    stp = sprec_den = sfn = 0\n",
    "    gtp = 0\n",
    "    keys = set(obv.keys()).intersection(set(data.keys()))\n",
    "    for char in keys:\n",
    "        stp += len(obv[char][\"sentences\"].intersection(data[char][\"sentences\"]))\n",
    "        gtp += 1 if (obv[char][\"gender\"]==data[char][\"gender\"]) else 0\n",
    "        sprec_den += len(obv[char][\"sentences\"])\n",
    "        sfn += len(data[char][\"sentences\"]) - len(obv[char][\"sentences\"].intersection(data[char][\"sentences\"]))\n",
    "#     sprecision = stp/sprec_den\n",
    "#     srecall = stp/(stp+sfn)\n",
    "#     sF1_score = 2*sprecision*srecall/(sprecision+srecall)\n",
    "    gaccuracy = gtp/len(keys)\n",
    "    caccuracy = len(keys)/len(data.keys())\n",
    "    return (caccuracy, gaccuracy)"
   ]
  },
  {
   "cell_type": "code",
   "execution_count": 135,
   "metadata": {},
   "outputs": [
    {
     "name": "stdout",
     "output_type": "stream",
     "text": [
      "{'weaver': {'gender': 'MALE', 'sentences': [1]}, 'wife': {'gender': 'FEMALE', 'sentences': [3, 4]}}\n"
     ]
    }
   ],
   "source": [
    "import pickle\n",
    "file = open(r'C:\\Users\\Sourav\\BTP Code\\Panchatantra\\foolish_weaver.gpickle', 'rb')\n",
    "data = pickle.load(file)\n",
    "file.close()\n",
    "print(data)"
   ]
  },
  {
   "cell_type": "code",
   "execution_count": 136,
   "metadata": {},
   "outputs": [
    {
     "data": {
      "text/plain": [
       "(1.0, 0.5)"
      ]
     },
     "execution_count": 136,
     "metadata": {},
     "output_type": "execute_result"
    }
   ],
   "source": [
    "metrics(grps, data)"
   ]
  },
  {
   "cell_type": "code",
   "execution_count": null,
   "metadata": {},
   "outputs": [],
   "source": []
  },
  {
   "cell_type": "code",
   "execution_count": 80,
   "metadata": {},
   "outputs": [
    {
     "data": {
      "text/plain": [
       "(1.0, 1.0, 0.9836065573770492, 0.5405405405405406, 0.6976744186046512)"
      ]
     },
     "execution_count": 80,
     "metadata": {},
     "output_type": "execute_result"
    }
   ],
   "source": [
    "#the monkey and the crocodile\n",
    "metrics(grps, data)"
   ]
  },
  {
   "cell_type": "code",
   "execution_count": 88,
   "metadata": {},
   "outputs": [
    {
     "data": {
      "text/plain": [
       "(0.9090909090909091,\n",
       " 0.7,\n",
       " 0.7317073170731707,\n",
       " 0.5504587155963303,\n",
       " 0.6282722513089005)"
      ]
     },
     "execution_count": 88,
     "metadata": {},
     "output_type": "execute_result"
    }
   ],
   "source": [
    "#the_story_of_the_merchant_son\n",
    "metrics(grps, data)"
   ]
  },
  {
   "cell_type": "code",
   "execution_count": 31,
   "metadata": {},
   "outputs": [
    {
     "data": {
      "text/plain": [
       "(0.8333333333333334,\n",
       " 0.8333333333333334,\n",
       " 0.9047619047619048,\n",
       " 0.7808219178082192,\n",
       " 0.8382352941176471)"
      ]
     },
     "execution_count": 31,
     "metadata": {},
     "output_type": "execute_result"
    }
   ],
   "source": [
    "#the_thief_and_the_brahmins\n",
    "metrics(grps, data)"
   ]
  },
  {
   "cell_type": "code",
   "execution_count": 66,
   "metadata": {},
   "outputs": [
    {
     "data": {
      "text/plain": [
       "(0.42857142857142855, 1.0, 0.875, 1.0, 0.9333333333333333)"
      ]
     },
     "execution_count": 66,
     "metadata": {},
     "output_type": "execute_result"
    }
   ],
   "source": [
    "#the_monkey_the_wedge\n",
    "metrics(grps, data)"
   ]
  },
  {
   "cell_type": "code",
   "execution_count": null,
   "metadata": {},
   "outputs": [],
   "source": []
  }
 ],
 "metadata": {
  "kernelspec": {
   "display_name": "Python 3",
   "language": "python",
   "name": "python3"
  },
  "language_info": {
   "codemirror_mode": {
    "name": "ipython",
    "version": 3
   },
   "file_extension": ".py",
   "mimetype": "text/x-python",
   "name": "python",
   "nbconvert_exporter": "python",
   "pygments_lexer": "ipython3",
   "version": "3.8.5"
  }
 },
 "nbformat": 4,
 "nbformat_minor": 4
}
