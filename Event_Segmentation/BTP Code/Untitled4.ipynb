{
 "cells": [
  {
   "cell_type": "code",
   "execution_count": 1,
   "metadata": {},
   "outputs": [],
   "source": [
    "from nltk.corpus import wordnet as wn"
   ]
  },
  {
   "cell_type": "code",
   "execution_count": 21,
   "metadata": {},
   "outputs": [
    {
     "name": "stdout",
     "output_type": "stream",
     "text": [
      "{'idea'}\n"
     ]
    }
   ],
   "source": [
    "def get_word_synonyms_from_sent(words, sent):\n",
    "    word_synonyms = []\n",
    "    for word in words:\n",
    "        for synset in wn.synsets(word):\n",
    "            for lemma in synset.lemma_names():\n",
    "                if lemma in sent:\n",
    "                    word_synonyms.append(lemma)\n",
    "    return set(word_synonyms)\n",
    "\n",
    "words = ['idea','curious', 'fantasy', 'imaginative', 'artistic', 'actions', 'feelings', 'excitable', 'values', 'unconventional']\n",
    "sent = ['idea']\n",
    "word_synonyms = get_word_synonyms_from_sent(words, sent)\n",
    "print(word_synonyms)"
   ]
  },
  {
   "cell_type": "code",
   "execution_count": 3,
   "metadata": {},
   "outputs": [
    {
     "name": "stdout",
     "output_type": "stream",
     "text": [
      "1330\n"
     ]
    }
   ],
   "source": [
    "s = 0\n",
    "for i in range(1,20,2):\n",
    "    s+= i*i\n",
    "print(s)"
   ]
  },
  {
   "cell_type": "code",
   "execution_count": null,
   "metadata": {},
   "outputs": [],
   "source": []
  }
 ],
 "metadata": {
  "kernelspec": {
   "display_name": "Python 3",
   "language": "python",
   "name": "python3"
  },
  "language_info": {
   "codemirror_mode": {
    "name": "ipython",
    "version": 3
   },
   "file_extension": ".py",
   "mimetype": "text/x-python",
   "name": "python",
   "nbconvert_exporter": "python",
   "pygments_lexer": "ipython3",
   "version": "3.8.5"
  }
 },
 "nbformat": 4,
 "nbformat_minor": 4
}
