{
 "cells": [
  {
   "cell_type": "code",
   "execution_count": 2,
   "metadata": {},
   "outputs": [],
   "source": [
    "from empath import Empath\n",
    "lexicon = Empath()"
   ]
  },
  {
   "cell_type": "code",
   "execution_count": 108,
   "metadata": {},
   "outputs": [],
   "source": [
    "from stanza.server import CoreNLPClient"
   ]
  },
  {
   "cell_type": "code",
   "execution_count": 9,
   "metadata": {
    "collapsed": true
   },
   "outputs": [
    {
     "data": {
      "text/plain": [
       "{'help': 0.0,\n",
       " 'office': 0.0,\n",
       " 'dance': 0.0,\n",
       " 'money': 0.0,\n",
       " 'wedding': 0.25,\n",
       " 'domestic_work': 0.0,\n",
       " 'sleep': 0.0,\n",
       " 'medical_emergency': 0.0,\n",
       " 'cold': 0.0,\n",
       " 'hate': 0.0,\n",
       " 'cheerfulness': 0.0,\n",
       " 'aggression': 0.0,\n",
       " 'occupation': 0.0,\n",
       " 'envy': 0.0,\n",
       " 'anticipation': 0.0,\n",
       " 'family': 0.0,\n",
       " 'vacation': 0.0,\n",
       " 'crime': 0.0,\n",
       " 'attractive': 0.0,\n",
       " 'masculine': 0.0,\n",
       " 'prison': 0.0,\n",
       " 'health': 0.0,\n",
       " 'pride': 0.0,\n",
       " 'dispute': 0.0,\n",
       " 'nervousness': 0.0,\n",
       " 'government': 0.0,\n",
       " 'weakness': 0.0,\n",
       " 'horror': 0.0,\n",
       " 'swearing_terms': 0.0,\n",
       " 'leisure': 0.0,\n",
       " 'suffering': 0.0,\n",
       " 'royalty': 0.0,\n",
       " 'wealthy': 0.0,\n",
       " 'tourism': 0.0,\n",
       " 'furniture': 0.0,\n",
       " 'school': 0.0,\n",
       " 'magic': 0.0,\n",
       " 'beach': 0.0,\n",
       " 'journalism': 0.0,\n",
       " 'morning': 0.0,\n",
       " 'banking': 0.0,\n",
       " 'social_media': 0.0,\n",
       " 'exercise': 0.0,\n",
       " 'night': 0.0,\n",
       " 'kill': 0.0,\n",
       " 'blue_collar_job': 0.0,\n",
       " 'art': 0.0,\n",
       " 'ridicule': 0.0,\n",
       " 'play': 0.0,\n",
       " 'computer': 0.0,\n",
       " 'college': 0.0,\n",
       " 'optimism': 0.0,\n",
       " 'stealing': 0.0,\n",
       " 'real_estate': 0.0,\n",
       " 'home': 0.0,\n",
       " 'divine': 0.0,\n",
       " 'sexual': 0.0,\n",
       " 'fear': 0.0,\n",
       " 'irritability': 0.0,\n",
       " 'superhero': 0.0,\n",
       " 'business': 0.0,\n",
       " 'driving': 0.0,\n",
       " 'pet': 0.0,\n",
       " 'childish': 0.0,\n",
       " 'cooking': 0.0,\n",
       " 'exasperation': 0.0,\n",
       " 'religion': 0.25,\n",
       " 'hipster': 0.0,\n",
       " 'internet': 0.0,\n",
       " 'surprise': 0.0,\n",
       " 'reading': 0.0,\n",
       " 'worship': 0.25,\n",
       " 'leader': 0.0,\n",
       " 'independence': 0.0,\n",
       " 'movement': 0.0,\n",
       " 'body': 0.0,\n",
       " 'noise': 0.0,\n",
       " 'eating': 0.0,\n",
       " 'medieval': 0.0,\n",
       " 'zest': 0.0,\n",
       " 'confusion': 0.0,\n",
       " 'water': 0.0,\n",
       " 'sports': 0.0,\n",
       " 'death': 0.0,\n",
       " 'healing': 0.0,\n",
       " 'legend': 0.0,\n",
       " 'heroic': 0.0,\n",
       " 'celebration': 0.0,\n",
       " 'restaurant': 0.0,\n",
       " 'violence': 0.0,\n",
       " 'programming': 0.0,\n",
       " 'dominant_heirarchical': 0.0,\n",
       " 'military': 0.0,\n",
       " 'neglect': 0.0,\n",
       " 'swimming': 0.0,\n",
       " 'exotic': 0.0,\n",
       " 'love': 0.0,\n",
       " 'hiking': 0.0,\n",
       " 'communication': 0.0,\n",
       " 'hearing': 0.0,\n",
       " 'order': 0.0,\n",
       " 'sympathy': 0.0,\n",
       " 'hygiene': 0.0,\n",
       " 'weather': 0.0,\n",
       " 'anonymity': 0.0,\n",
       " 'trust': 0.0,\n",
       " 'ancient': 0.0,\n",
       " 'deception': 0.0,\n",
       " 'fabric': 0.0,\n",
       " 'air_travel': 0.0,\n",
       " 'fight': 0.0,\n",
       " 'dominant_personality': 0.0,\n",
       " 'music': 0.0,\n",
       " 'vehicle': 0.0,\n",
       " 'politeness': 0.0,\n",
       " 'toy': 0.0,\n",
       " 'farming': 0.0,\n",
       " 'meeting': 0.0,\n",
       " 'war': 0.0,\n",
       " 'speaking': 0.0,\n",
       " 'listen': 0.0,\n",
       " 'urban': 0.0,\n",
       " 'shopping': 0.0,\n",
       " 'disgust': 0.0,\n",
       " 'fire': 0.0,\n",
       " 'tool': 0.0,\n",
       " 'phone': 0.0,\n",
       " 'gain': 0.0,\n",
       " 'sound': 0.0,\n",
       " 'injury': 0.0,\n",
       " 'sailing': 0.0,\n",
       " 'rage': 0.0,\n",
       " 'science': 0.0,\n",
       " 'work': 0.0,\n",
       " 'appearance': 0.0,\n",
       " 'valuable': 0.0,\n",
       " 'warmth': 0.0,\n",
       " 'youth': 0.0,\n",
       " 'sadness': 0.0,\n",
       " 'fun': 0.0,\n",
       " 'emotional': 0.0,\n",
       " 'joy': 0.0,\n",
       " 'affection': 0.0,\n",
       " 'traveling': 0.0,\n",
       " 'fashion': 0.0,\n",
       " 'ugliness': 0.0,\n",
       " 'lust': 0.0,\n",
       " 'shame': 0.0,\n",
       " 'torment': 0.0,\n",
       " 'economics': 0.0,\n",
       " 'anger': 0.0,\n",
       " 'politics': 0.0,\n",
       " 'ship': 0.0,\n",
       " 'clothing': 0.0,\n",
       " 'car': 0.0,\n",
       " 'strength': 0.0,\n",
       " 'technology': 0.0,\n",
       " 'breaking': 0.0,\n",
       " 'shape_and_size': 0.0,\n",
       " 'power': 0.0,\n",
       " 'white_collar_job': 0.0,\n",
       " 'animal': 0.0,\n",
       " 'party': 0.0,\n",
       " 'terrorism': 0.0,\n",
       " 'smell': 0.0,\n",
       " 'disappointment': 0.0,\n",
       " 'poor': 0.0,\n",
       " 'plant': 0.0,\n",
       " 'pain': 0.0,\n",
       " 'beauty': 0.0,\n",
       " 'timidity': 0.0,\n",
       " 'philosophy': 0.0,\n",
       " 'negotiate': 0.0,\n",
       " 'negative_emotion': 0.0,\n",
       " 'cleaning': 0.0,\n",
       " 'messaging': 0.0,\n",
       " 'competing': 0.0,\n",
       " 'law': 0.0,\n",
       " 'friends': 0.0,\n",
       " 'payment': 0.0,\n",
       " 'achievement': 0.0,\n",
       " 'alcohol': 0.0,\n",
       " 'liquid': 0.0,\n",
       " 'feminine': 0.0,\n",
       " 'weapon': 0.0,\n",
       " 'children': 0.0,\n",
       " 'monster': 0.0,\n",
       " 'ocean': 0.0,\n",
       " 'giving': 0.0,\n",
       " 'contentment': 0.0,\n",
       " 'writing': 0.0,\n",
       " 'rural': 0.0,\n",
       " 'positive_emotion': 0.0,\n",
       " 'musical': 0.0}"
      ]
     },
     "execution_count": 9,
     "metadata": {},
     "output_type": "execute_result"
    }
   ],
   "source": [
    "lexicon.analyze(\"I go to church\", normalize = True)"
   ]
  },
  {
   "cell_type": "code",
   "execution_count": 10,
   "metadata": {},
   "outputs": [
    {
     "name": "stdout",
     "output_type": "stream",
     "text": [
      "[\"cold_war\", \"the_cold_war\", \"the_Cold_War\", \"war\", \"Soviet_threat\", \"the_end_of_the_cold_war\", \"Communism\", \"world_war\", \"Soviet_empire\", \"Soviet_power\", \"Communism\", \"gulf_war\", \"Soviet_bloc\", \"the_Soviet_Union\", \"communism\", \"superpowers\", \"nuclear_age\", \"nuclear_war\", \"Soviet_system\", \"evil_empire\", \"Soviets\", \"wars\", \"arms_race\", \"Indochina\", \"detente\", \"Iran-Iraq_war\", \"Persian_Gulf_war\", \"American_power\", \"new_world_order\", \"American_involvement\", \"wartime\", \"American_foreign_policy\", \"American_occupation\", \"the_Soviet_Union's\", \"Soviet_Communism\", \"nuclear_arms_race\", \"the_Korean_War\", \"military_power\", \"Persian_Gulf_war\", \"great_powers\", \"Marshall_Plan\", \"the_Second_World_War\", \"Communist_rule\", \"the_Warsaw_Pact\", \"Soviet_military\", \"Reagan_years\", \"Reagan_era\", \"Cuban_missile_crisis\", \"world_wars\", \"postwar_period\", \"Communist_world\", \"military-industrial_complex\", \"perestroika\", \"superpower\", \"new_war\", \"Desert_Storm\", \"space_race\", \"Mikhail_Gorbachev\", \"Communist_system\", \"World_War_II\", \"nation-building\", \"the_Vietnam_War\", \"dictatorship\", \"South_Vietnam\", \"Iron_Curtain\", \"diplomacy\", \"old_Soviet_Union\", \"military_buildup\", \"containment\", \"German_unification\", \"Balkans\", \"gulf_crisis\", \"revolution\", \"last_war\", \"Soviet_era\", \"dictatorships\", \"warfare\", \"glasnost\", \"Soviet_state\", \"Communist_regimes\", \"domestic_politics\", \"Khrushchev\", \"American_diplomacy\", \"postwar_era\", \"Soviet_economy\", \"peacetime\", \"Korean_peninsula\", \"Allies\", \"Soviet-American_relations\", \"cold_war_era\", \"space_program\", \"Soviet_occupation\", \"arms_control\", \"Soviet_leaders\", \"World_War_I\", \"Western_alliance\", \"military_strategy\", \"quagmire\", \"regime\", \"fascism\"]\n"
     ]
    }
   ],
   "source": [
    "lexicon.create_category(\"cold_war\", [\"cold_war\"], model=\"nytimes\")"
   ]
  },
  {
   "cell_type": "code",
   "execution_count": 3,
   "metadata": {},
   "outputs": [
    {
     "name": "stdout",
     "output_type": "stream",
     "text": [
      "[\"buildings\", \"other_buildings\", \"apartment_buildings\", \"older_buildings\", \"new_buildings\", \"building\", \"many_buildings\", \"high-rise_buildings\", \"structures\", \"office_buildings\", \"apartments\", \"old_buildings\", \"facades\", \"brownstones\", \"commercial_buildings\", \"large_buildings\", \"new_houses\", \"residential_buildings\", \"town_houses\", \"dwellings\", \"apartment_houses\", \"office_towers\", \"upper_floors\", \"towers\", \"existing_buildings\", \"residences\", \"complexes\", \"piers\", \"spaces\", \"vacant_buildings\", \"such_buildings\", \"historic_districts\", \"abandoned_buildings\", \"neighboring_buildings\", \"vacant_lots\", \"houses\", \"lower_floors\", \"historic_buildings\", \"commercial_space\", \"other_structures\", \"high-rises\", \"lofts\", \"more_buildings\", \"condominiums\", \"garages\", \"public_spaces\", \"several_buildings\", \"rental_apartments\", \"properties\", \"roofs\", \"new_structures\", \"industrial_buildings\", \"smaller_buildings\", \"parcels\", \"storefronts\", \"plazas\", \"other_apartments\", \"empty_lots\", \"row_houses\", \"school_buildings\", \"public_buildings\", \"tenants\", \"new_construction\", \"small_buildings\", \"new_apartments\", \"more_apartments\", \"builders\", \"new_building\", \"more_houses\", \"tenements\", \"old_houses\", \"entire_building\", \"residential_use\", \"office_space\", \"single-family_houses\", \"parking_garages\", \"vacant_land\", \"streetscape\", \"complex\", \"other_houses\", \"subdivisions\", \"tower\", \"single-family_homes\", \"apartment_towers\", \"private_houses\", \"common_areas\", \"existing_structures\", \"entire_area\", \"top_floors\", \"most_buildings\", \"many_houses\", \"downtown_buildings\", \"residential_units\", \"elevators\", \"neighborhoods\", \"parking_spaces\", \"retail_space\", \"private_developers\", \"rental_units\", \"developers\"]\n"
     ]
    }
   ],
   "source": [
    "lexicon.create_category(\"buildings\", [\"buildings\"], model=\"nytimes\")"
   ]
  },
  {
   "cell_type": "code",
   "execution_count": 4,
   "metadata": {},
   "outputs": [
    {
     "name": "stdout",
     "output_type": "stream",
     "text": [
      "[\"buildings\", \"other_buildings\", \"skyscrapers\", \"roofs\", \"most_buildings\", \"many_buildings\", \"small_buildings\", \"huge_buildings\", \"surrounding_buildings\", \"building\", \"nearby_buildings\", \"few_buildings\", \"large_buildings\", \"big_buildings\", \"entire_buildings\", \"small_building\", \"certain_buildings\", \"Buildings\", \"several_buildings\", \"multiple_buildings\", \"large_structures\", \"single_building\", \"more_buildings\", \"office_buildings\", \"shacks\", \"bunkers\", \"large_building\", \"apartment_buildings\", \"smaller_buildings\", \"only_buildings\", \"walls\", \"other_building\", \"various_buildings\", \"residential_buildings\", \"barricades\", \"tunnels\", \"city_blocks\", \"houses\", \"empty_buildings\", \"stone_walls\", \"new_buildings\", \"fortresses\", \"actual_buildings\", \"taller_buildings\", \"high_rises\", \"random_buildings\", \"small_houses\", \"so_many_buildings\", \"industrial_buildings\", \"fortifications\", \"other_structures\", \"underground_tunnels\", \"walkways\", \"old_buildings\", \"multiple_floors\", \"highrises\", \"different_buildings\", \"outer_walls\", \"structures\", \"stairways\", \"top_floors\", \"specific_buildings\", \"tall_buildings\", \"cities\", \"high-rises\", \"towns\", \"bridges\", \"industrial_areas\", \"abandoned_buildings\", \"story_buildings\", \"subway_tunnels\", \"garages\", \"glass_windows\", \"wooden_walls\", \"guard_towers\", \"existing_buildings\", \"apartment_blocks\", \"larger_buildings\", \"huge_building\", \"city_block\", \"town_centers\", \"huts\", \"military_buildings\", \"staircases\", \"entire_area\", \"upper_floors\", \"little_houses\", \"balconies\", \"concrete_buildings\"]\n"
     ]
    }
   ],
   "source": [
    "lexicon.create_category(\"buildings\", [\"buildings\"], model=\"reddit\")"
   ]
  },
  {
   "cell_type": "code",
   "execution_count": 5,
   "metadata": {},
   "outputs": [
    {
     "name": "stdout",
     "output_type": "stream",
     "text": [
      "[\"buildings\", \"skyscrapers\", \"other_buildings\", \"tall_buildings\", \"roofs\", \"houses\", \"warehouses\", \"huts\", \"structures\", \"roads\", \"pathways\", \"fences\", \"trees\", \"landscape\", \"other_houses\", \"Buildings\", \"vehicles\", \"sidewalks\", \"hills\", \"greenery\", \"cottages\", \"stone_walls\", \"cities\", \"tall_trees\", \"Trees\", \"towers\", \"mountains\", \"alleyways\", \"turrets\", \"pillars\", \"old_buildings\", \"small_houses\", \"doorways\", \"boulders\", \"statues\", \"banks\", \"city\", \"bridges\", \"palm_trees\", \"columns\", \"hedges\", \"rooftops\", \"walkways\", \"tombstones\", \"farms\", \"thick_trees\", \"shrubs\", \"plains\", \"tunnels\", \"domes\", \"brick_walls\", \"forests\", \"entrances\", \"hillside\", \"large_area\", \"farmland\", \"other_trees\", \"mansions\", \"canyon\", \"vegetation\", \"windows\", \"shrubbery\", \"areas\", \"ruins\", \"cliffs\", \"terrain\", \"entire_city\", \"factories\", \"cathedral\", \"cars\", \"large_trees\", \"broken_windows\", \"entire_area\", \"balconies\", \"tourists\", \"many_trees\", \"rolling_hills\", \"alleys\", \"tress\", \"towns\", \"surrounding_area\", \"fields\", \"building\", \"Houses\", \"large_buildings\", \"canals\", \"tombs\", \"dome\", \"cluster\", \"outer_walls\", \"skyline\", \"acres\", \"perimeter\", \"apartment_buildings\", \"pedestrians\", \"lawns\", \"entire_place\", \"huge_trees\"]\n"
     ]
    }
   ],
   "source": [
    "lexicon.create_category(\"fictional_buildings\", [\"buildings\"], model=\"fiction\")"
   ]
  },
  {
   "cell_type": "code",
   "execution_count": 37,
   "metadata": {},
   "outputs": [],
   "source": [
    "#lexicon.create_category(\"singular_building\", [\"building\"], model=\"fiction\")"
   ]
  },
  {
   "cell_type": "markdown",
   "metadata": {},
   "source": [
    "### Fiction model looks like the best for us for now "
   ]
  },
  {
   "cell_type": "code",
   "execution_count": 6,
   "metadata": {},
   "outputs": [
    {
     "name": "stdout",
     "output_type": "stream",
     "text": [
      "[\"places\", \"areas\", \"different_places\", \"other_places\", \"place\", \"many_places\", \"locations\", \"cities\", \"different_parts\", \"other_parts\", \"towns\", \"parts\", \"different_areas\", \"spots\", \"certain_places\", \"few_places\", \"houses\", \"area\", \"businesses\", \"ones\", \"photographs\", \"spaces\", \"churches\", \"other_areas\", \"objects\", \"islands\", \"routes\", \"sections\", \"grid\", \"regions\", \"dimensions\", \"hotels\", \"cases\", \"markets\", \"landmarks\", \"continents\", \"countries\", \"maps\", \"farms\", \"museums\", \"records\", \"restaurants\", \"occasions\", \"homes\", \"villages\", \"artifacts\", \"structures\", \"things\", \"factories\", \"planes\", \"buildings\", \"city\", \"vehicles\", \"planets\", \"banks\", \"globe\", \"facilities\", \"caves\", \"people\", \"designs\", \"roads\", \"bases\", \"various_places\", \"different_countries\", \"properties\", \"types\", \"region\", \"trains\", \"tombs\", \"locals\", \"stores\", \"different_houses\", \"mansions\", \"big_ones\", \"devices\", \"products\", \"residents\", \"wherever\", \"warehouses\", \"body_parts\", \"sites\", \"others\", \"centers\", \"pods\", \"malls\", \"trips\", \"tapes\", \"companies\", \"stations\", \"certain_parts\", \"tourists\", \"destinations\", \"zones\", \"paintings\"]\n"
     ]
    }
   ],
   "source": [
    "lexicon.create_category(\"fictional_places\", [\"places\"], model =\"fiction\")"
   ]
  },
  {
   "cell_type": "code",
   "execution_count": 7,
   "metadata": {},
   "outputs": [
    {
     "name": "stdout",
     "output_type": "stream",
     "text": [
      "[\"locations\", \"other_locations\", \"several_locations\", \"multiple_locations\", \"different_locations\", \"various_locations\", \"specific_locations\", \"few_locations\", \"certain_locations\", \"specific_places\", \"landmarks\", \"exact_locations\", \"various_places\", \"many_locations\", \"single_location\", \"location\", \"possible_locations\", \"new_locations\", \"places\", \"other_location\", \"zip_codes\", \"general_area\", \"various_cities\", \"immediate_area\", \"area\", \"different_areas\", \"major_areas\", \"different_places\", \"actual_location\", \"towns/cities\", \"actual_locations\", \"multiple_cities\", \"same_locations\", \"destinations\", \"good_locations\", \"nearby_towns\", \"towns\", \"different_buildings\", \"general_areas\", \"same_area\", \"areas\", \"other_towns\", \"general_location\", \"known_locations\", \"central_location\", \"different_cities\", \"same_general_area\", \"POIs\", \"different_towns\", \"specific_location\", \"possible_routes\", \"specific_cities\", \"cities\", \"various_areas\", \"local_area\", \"stations\", \"various_towns\", \"current_location\", \"neighboring_cities\", \"different_shops\", \"random_locations\", \"same_location\", \"shopping_areas\", \"actual_places\", \"various_buildings\", \"single_place\", \"nearby_cities\", \"potential_places\", \"great_locations\", \"exact_location\", \"specific_buildings\", \"major_cities\", \"residences\", \"interesting_places\", \"certain_buildings\", \"timetables\", \"little_places\", \"few_places\", \"particular_location\", \"detailed_maps\", \"more_locations\", \"city/town\", \"possible_places\", \"Locations\", \"Google_map\", \"safehouses\", \"most_locations\", \"nearby_areas\", \"physical_locations\"]\n"
     ]
    }
   ],
   "source": [
    "lexicon.create_category(\"locations\", [\"locations\"], model =\"reddit\")"
   ]
  },
  {
   "cell_type": "code",
   "execution_count": 8,
   "metadata": {},
   "outputs": [
    {
     "name": "stdout",
     "output_type": "stream",
     "text": [
      "[\"church\", \"temple\", \"chapel\", \"altar\", \"palace\", \"base\", \"manor\", \"castle\", \"cathedral\", \"graveyard\", \"cemetery\", \"chamber\", \"chambers\", \"gardens\", \"tower\", \"estate\", \"garden\", \"greenhouse\", \"tomb\", \"building\", \"valley\", \"Church\", \"shrine\", \"forge\", \"caravan\", \"alter\", \"city\", \"fortress\", \"keep\", \"place\", \"throne_room\", \"town_square\", \"compound\", \"longhouse\", \"tavern\", \"cottage\", \"priest\", \"rear\", \"coffin\", \"ballroom\", \"bedchamber\", \"village\", \"arch\", \"barracks\", \"square\", \"workshop\", \"ward\", \"monument\", \"sanctuary\", \"monastery\", \"citadel\", \"grave\", \"graves\", \"column\", \"grounds\", \"staff\", \"carriage\", \"museum\", \"dome\", \"hut\", \"Church\", \"procession\", \"courtyard\", \"north\", \"casket\", \"orchard\", \"Rivendell\", \"memorial\", \"warehouse\", \"marketplace\"]\n"
     ]
    }
   ],
   "source": [
    "lexicon.create_category(\"religious_buildings\", [\"church\", \"mosque\", \"temple\"], model=\"fiction\")"
   ]
  },
  {
   "cell_type": "code",
   "execution_count": 9,
   "metadata": {},
   "outputs": [
    {
     "name": "stdout",
     "output_type": "stream",
     "text": [
      "[\"arriving\", \"return\", \"departed\", \"left\", \"visiting\", \"arrived\", \"travelling\", \"traveling\", \"arrive\", \"visit\", \"returned\", \"heading\", \"visited\", \"departing\", \"depart\", \"travel\", \"staying\", \"leaving\", \"ventured\", \"returning\", \"coming\", \"accompanying\", \"short_walk\", \"trip\", \"passed\", \"home\", \"exited\", \"escorting\", \"retired\", \"meeting_place\", \"gone\", \"head\", \"travel\", \"transported\", \"retiring\", \"migrated\", \"leave\", \"flown\", \"wandering\", \"relocated\", \"stationed\", \"strolling\", \"walking\", \"venturing\", \"walk\", \"booked\", \"long_journey\", \"entered\", \"scouted\", \"scouting\", \"Richmond\", \"main_house\", \"whisked\", \"headed\", \"London\", \"caravan\", \"journey\", \"stayed\", \"toured\", \"accompany\", \"precinct\", \"outside\", \"wandered\", \"scout\", \"stroll\", \"home\", \"entering\", \"brought\", \"passing\", \"train_station\", \"next_town\", \"meeting\", \"settled\", \"escorted\", \"travelled\", \"after\", \"visit\", \"stroll\", \"trek\", \"attending\", \"drove\", \"long_walk\", \"boarded\", \"conference\", \"gathering\", \"journeyed\", \"moved\", \"residence\", \"relocate\", \"next_destination\"]\n"
     ]
    }
   ],
   "source": [
    "lexicon.create_category(\"loc_verbs\", [\"arriving\", \"walk\", \"visit\", \"travelling\", \"returned\"], model= \"fiction\")"
   ]
  },
  {
   "cell_type": "code",
   "execution_count": 103,
   "metadata": {},
   "outputs": [
    {
     "name": "stdout",
     "output_type": "stream",
     "text": [
      "[\"church\", \"temple\", \"chapel\", \"altar\", \"palace\", \"base\", \"manor\", \"castle\", \"cathedral\", \"graveyard\", \"cemetery\", \"chamber\", \"chambers\", \"gardens\", \"tower\", \"estate\", \"garden\", \"greenhouse\", \"tomb\", \"building\", \"valley\", \"Church\", \"shrine\", \"forge\", \"caravan\", \"alter\", \"city\", \"fortress\", \"keep\"]\n",
      "[\"return\", \"visit\", \"travel\", \"arrive\", \"depart\", \"leave\", \"relocate\", \"visiting\", \"accompany\", \"retire\", \"travel\", \"arriving\"]\n",
      "[\"buildings\", \"city\", \"houses\", \"other_buildings\", \"place\", \"tall_buildings\", \"huts\", \"structures\", \"cities\", \"other_houses\", \"ruins\", \"warehouses\", \"roads\", \"area\", \"vehicles\", \"skyscrapers\", \"tunnels\", \"mountains\", \"landscape\", \"areas\", \"pathways\", \"fences\", \"roofs\", \"towns\", \"building\", \"entire_place\", \"banks\", \"caves\", \"farms\", \"forests\", \"cottages\", \"countryside\", \"entire_city\", \"mansions\", \"factories\", \"tombs\", \"hills\", \"statues\", \"grid\", \"surrounding_area\", \"dome\", \"whole_city\", \"small_area\", \"whole_area\", \"alleyways\", \"cathedral\", \"homes\", \"trees\", \"plains\", \"greenery\", \"fields\", \"towers\", \"grounds\", \"residents\", \"entrances\", \"marketplace\", \"sidewalks\", \"borders\", \"places\", \"tourists\", \"perimeter\", \"gardens\", \"civilization\", \"entire_area\", \"doorways\", \"globe\", \"bridges\", \"factory\", \"terrain\", \"villages\", \"large_area\", \"few_places\", \"compound\", \"markets\", \"canyon\", \"shack\", \"farmland\", \"pillars\", \"Buildings\", \"palm_trees\", \"stone_walls\", \"pods\", \"rooftops\", \"structure\", \"alleys\", \"tower\", \"neighborhoods\", \"hillside\", \"cars\", \"cliffs\", \"columns\", \"small_village\", \"town\", \"wasteland\", \"warehouse\", \"vegetation\", \"windows\", \"white_house\", \"streets\", \"cavern\", \"open_space\", \"fortress\", \"tombstones\", \"Houses\", \"marsh\", \"whole_building\", \"hedges\", \"rubble\", \"sewers\", \"old_buildings\", \"boats\", \"turrets\", \"swamp\", \"small_houses\", \"landmarks\", \"grove\", \"farmhouse\", \"wreckage\", \"boulders\", \"tall_trees\", \"shrubbery\", \"apartments\", \"complex\", \"museum\", \"inhabitants\", \"underground\", \"enclosure\", \"domes\", \"harbor\", \"orchard\", \"ships\", \"acres\", \"wildlife\", \"underground\", \"brick_walls\", \"tents\", \"apartment_buildings\", \"jungle\", \"thick_trees\", \"many_places\", \"aircraft\", \"Trees\", \"graveyard\", \"outskirts\", \"wagons\", \"interior\", \"locals\", \"cluster\", \"plaza\", \"slopes\", \"slums\", \"city_streets\", \"walkways\", \"sights\", \"old_building\", \"dense_forest\", \"moat\", \"caravan\", \"shrubs\", \"shelters\", \"islands\", \"quarry\", \"small_building\", \"occupants\", \"trains\", \"constructed\", \"small_cabin\", \"walls\", \"mountain_range\", \"mountain\", \"valley\", \"masses\", \"corpses\", \"whole_place\", \"shacks\", \"civilisation\", \"maze\", \"different_parts\", \"different_areas\", \"rolling_hills\", \"castles\", \"many_trees\", \"torches\", \"land\", \"objects\", \"broken_windows\", \"fountains\", \"canals\", \"town_hall\", \"roof\", \"many_buildings\", \"castle\", \"wilderness\", \"entire_town\", \"caverns\", \"east\", \"large_city\", \"trucks\", \"small_shops\", \"exterior\", \"monument\", \"town_square\", \"village\", \"fenced\", \"lawns\", \"openings\", \"different_places\", \"balconies\", \"lighthouse\", \"bases\", \"neighbourhood\", \"facility\", \"small_cottage\", \"north\", \"castle_walls\", \"skyline\", \"other_areas\", \"tunnel\", \"glass_windows\", \"foothills\", \"shops\", \"planes\", \"outer_walls\", \"spaces\", \"docks\", \"woodland\", \"cottage\", \"small_island\", \"large_house\", \"routes\", \"lower_levels\", \"region\", \"boundary\", \"forest\", \"spaceship\", \"high_walls\", \"mirrors\", \"south\", \"businesses\", \"Manhattan\", \"distances\", \"glass_walls\", \"large_building\", \"other_trees\", \"neighborhood\", \"clusters\", \"coastline\", \"city_walls\", \"branching\", \"cabins\", \"planets\", \"port\", \"citadel\", \"settlement\", \"path\", \"mansion\", \"passageways\", \"debris\", \"other_building\", \"helicopters\", \"decks\", \"small_house\", \"dirt_roads\", \"large_field\", \"small_place\", \"expanse\", \"labyrinth\", \"churches\", \"graves\", \"craft\", \"footprints\", \"pines\", \"dead_bodies\", \"foliage\", \"air_vents\", \"ponds\", \"greenhouse\", \"restaurants\", \"sanctuary\", \"mainland\", \"layout\", \"gravestones\", \"bunker\", \"carriages\", \"lakes\", \"continent\", \"huge_wall\", \"abandoned_building\", \"stores\", \"caravans\", \"barns\", \"highways\", \"canopy\", \"railroad_tracks\", \"safe_zone\", \"ceilings\", \"bars\"]\n"
     ]
    }
   ],
   "source": [
    "#Lemmatization of this is heavily required\n",
    "lexicon.create_category(\"religious_buildings\", [\"church\",\"mosque\", \"temple\"], model=\"fiction\", size = 30)\n",
    "lexicon.create_category(\"loc_verbs\", [\"arrive\", \"visit\", \"travel\", \"return\"], model = \"fiction\", size= 14)\n",
    "lexicon.create_category(\"fictional_places\", [\"place\",\"buildings\"], model =\"fiction\", size =300)"
   ]
  },
  {
   "cell_type": "code",
   "execution_count": 40,
   "metadata": {},
   "outputs": [
    {
     "name": "stdout",
     "output_type": "stream",
     "text": [
      "showing info https://raw.githubusercontent.com/nltk/nltk_data/gh-pages/index.xml\n"
     ]
    }
   ],
   "source": [
    "import nltk\n",
    "nltk.download()\n",
    "from nltk.corpus import wordnet"
   ]
  },
  {
   "cell_type": "code",
   "execution_count": 49,
   "metadata": {},
   "outputs": [],
   "source": [
    "from nltk.stem import WordNetLemmatizer\n",
    "lemmatizer = WordNetLemmatizer()"
   ]
  },
  {
   "cell_type": "code",
   "execution_count": 50,
   "metadata": {},
   "outputs": [
    {
     "data": {
      "text/plain": [
       "'loving'"
      ]
     },
     "execution_count": 50,
     "metadata": {},
     "output_type": "execute_result"
    }
   ],
   "source": [
    "lemmatizer.lemmatize(\"loving\")"
   ]
  },
  {
   "cell_type": "code",
   "execution_count": 51,
   "metadata": {},
   "outputs": [],
   "source": [
    "def nltk_tag_to_wordnet_tag(nltk_tag):\n",
    "    if nltk_tag.startswith('J'):\n",
    "        return wordnet.ADJ\n",
    "    elif nltk_tag.startswith('V'):\n",
    "        return wordnet.VERB\n",
    "    elif nltk_tag.startswith('N'):\n",
    "        return wordnet.NOUN\n",
    "    elif nltk_tag.startswith('R'):\n",
    "        return wordnet.ADV\n",
    "    else:          \n",
    "        return None"
   ]
  },
  {
   "cell_type": "code",
   "execution_count": 52,
   "metadata": {},
   "outputs": [],
   "source": [
    "def lemmatize_sentence(sentence):\n",
    "    #tokenize the sentence and find the POS tag for each token\n",
    "    nltk_tagged = nltk.pos_tag(nltk.word_tokenize(sentence))  \n",
    "    #tuple of (token, wordnet_tag)\n",
    "    wordnet_tagged = map(lambda x: (x[0], nltk_tag_to_wordnet_tag(x[1])), nltk_tagged)\n",
    "    lemmatized_sentence = []\n",
    "    for word, tag in wordnet_tagged:\n",
    "        if tag is None:\n",
    "            #if there is no available tag, append the token as is\n",
    "            lemmatized_sentence.append(word)\n",
    "        else:        \n",
    "            #else use the tag to lemmatize the token\n",
    "            lemmatized_sentence.append(lemmatizer.lemmatize(word, tag))\n",
    "    return \" \".join(lemmatized_sentence)"
   ]
  },
  {
   "cell_type": "code",
   "execution_count": 34,
   "metadata": {},
   "outputs": [
    {
     "data": {
      "text/plain": [
       "'I be go to the temple . I will be in the temple till the morning.Please do not disturb me .'"
      ]
     },
     "execution_count": 34,
     "metadata": {},
     "output_type": "execute_result"
    }
   ],
   "source": [
    "lemmatize_sentence(\"I am going to the temple. I will be in the temple till the morning.Please don't disturb me.\")"
   ]
  },
  {
   "cell_type": "code",
   "execution_count": 16,
   "metadata": {},
   "outputs": [
    {
     "name": "stdout",
     "output_type": "stream",
     "text": [
      "<class 'str'>\n",
      "<class 'str'>\n",
      "<class 'str'>\n"
     ]
    }
   ],
   "source": [
    "for i, word in enumerate(ann.sentence):\n",
    "    print(type(text[word.characterOffsetBegin:word.characterOffsetEnd]))\n",
    "    if i >=2:\n",
    "        break"
   ]
  },
  {
   "cell_type": "code",
   "execution_count": 41,
   "metadata": {},
   "outputs": [
    {
     "data": {
      "text/plain": [
       "{'fictional_places': 0.0,\n",
       " 'fictional_buildings': 0.0,\n",
       " 'religious_buildings': 2.0,\n",
       " 'loc_verbs': 2.0}"
      ]
     },
     "execution_count": 41,
     "metadata": {},
     "output_type": "execute_result"
    }
   ],
   "source": [
    "lexicon.analyze(lemmatize_sentence(\"\"\"I am going to the temple . I returned from the temple . Then I arrived at my hotel .\n",
    "                Then I sat beside the tree to observe something\"\"\"),\n",
    "                categories = [\"fictional_places\", \"fictional_buildings\",\"religious_buildings\", \"loc_verbs\"])"
   ]
  },
  {
   "cell_type": "code",
   "execution_count": 115,
   "metadata": {},
   "outputs": [],
   "source": [
    "def open_story(Storyname):\n",
    "    file = open(\"D:\\Jupyter\\BTP\\Panchatantra\\\\\"+Storyname+'.txt')\n",
    "    text = file.read()\n",
    "    file.close()\n",
    "    return text\n",
    "def annotate_story(text):\n",
    "    with CoreNLPClient(annotators = ['tokenize','ssplit'],\n",
    "        memory='5G', be_quiet=True, outputFormat = 'json', max_char_length=500000, timeout=36000000) as client:\n",
    "        annotated_story = client.annotate(text)\n",
    "    return annotated_story\n",
    "def open_and_annotate(Storyname):\n",
    "    text = open_story(Storyname)\n",
    "    annotated_story = annotate_story(text)\n",
    "    return text, annotated_story"
   ]
  },
  {
   "cell_type": "code",
   "execution_count": 116,
   "metadata": {},
   "outputs": [
    {
     "name": "stderr",
     "output_type": "stream",
     "text": [
      "2021-03-14 13:45:11 INFO: Writing properties to tmp file: corenlp_server-a0c8ec563fe64a6e.props\n",
      "2021-03-14 13:45:11 INFO: Starting server with command: java -Xmx5G -cp C:\\Users\\Giri\\stanza_corenlp\\* edu.stanford.nlp.pipeline.StanfordCoreNLPServer -port 9000 -timeout 36000000 -threads 5 -maxCharLength 500000 -quiet True -serverProperties corenlp_server-a0c8ec563fe64a6e.props -annotators tokenize,ssplit -preload -outputFormat serialized\n"
     ]
    }
   ],
   "source": [
    "text , annotated_story = open_and_annotate('the_story_of_the_merchant_son')"
   ]
  },
  {
   "cell_type": "code",
   "execution_count": 119,
   "metadata": {},
   "outputs": [],
   "source": [
    "def events_by_location_2(text, ann):\n",
    "    \"\"\"\n",
    "    Non-hierarchy model\n",
    "    \"\"\"\n",
    "    #This function finds sum of dictionary returned by lexicon.analyze i.e., it finds the presence of location words.\n",
    "    def sum_of_locs_dict(dictionary):\n",
    "        sum_ = 0\n",
    "        for key in dictionary.keys():\n",
    "            sum_ = sum_ + dictionary[key]\n",
    "        return sum_\n",
    "       \n",
    "    lexicon = Empath()   #Part of code used to bring Empath in\n",
    "    locations_dict = dict()     #Dictionary that holds\n",
    "    location = \"Unknown\"    #The variable place will hold latest location word.\n",
    "                            #It is initilized to \"unknown\" beacuse till now we haven't encountered any location word.\n",
    "    loaction_by_sentence = []\n",
    "    location_to_number = dict() # Convert location words to numbers for better representation\n",
    "    loc_num = 0 # Will be used to put location words as numbers in the location_to_number dict\n",
    "    total_sentences = 0\n",
    "    \n",
    "    #Take each sentence of the story one by one (ann.sentence returns individual sentences of the story as objects)\n",
    "    for i, sentence in enumerate(ann.sentence):\n",
    "        # Remove comma and fullstop beacuse lexicon.analyze cannot identify words if they are followd by a fullstop or comma.\n",
    "        # text[characterOffsetBegin:characterOffserEnd] is the actual sentence (as a string) of the sentence object returned\n",
    "        sentence_for_empath = text[sentence.characterOffsetBegin:sentence.characterOffsetEnd].replace(\", \",\" \").replace(\".\",\"\").replace(\"-\",\" \").replace(\"?\",\"\").replace(\"!\",\"\").replace(\":\",\" \")\n",
    "        #Lemmatize the words you encounter for better identification when being analysed by lexicon.analyze\n",
    "        #May be commented out because lexicon.create_category does not give good words when singular words are used\n",
    "        sentence_for_empath = lemmatize_sentence(sentence_for_empath) # Sentences are all lemmatized now\n",
    "        # Analyze the things\n",
    "        lexicon_locations_dict = lexicon.analyze(sentence_for_empath, categories=[\"religious_buildings\", \"loc_verbs\", \"fictional_places\"])\n",
    "        \n",
    "        s = sum_of_locs_dict(lexicon_locations_dict)\n",
    "        if s>0:\n",
    "            words = sentence_for_empath.split(\" \")\n",
    "            # Find if place is same as previous\n",
    "            for word in words:\n",
    "                # If the word is a location word\n",
    "                if sum_of_locs_dict(lexicon.analyze(word, categories=[\"religious_buildings\", \"loc_verbs\", \"fictional_places\"]))>0:\n",
    "                    #if new location word encountered is the same as the last location word encountered\n",
    "                    if word == location:\n",
    "                        break\n",
    "                    else:\n",
    "                        location = word\n",
    "                        if location in locations_dict:\n",
    "                            location+=\"1\"\n",
    "                        locations_dict[location]=[i]\n",
    "                        location_to_number[location] = loc_num\n",
    "                        loc_num += 1\n",
    "        else: \n",
    "            if location not in locations_dict:\n",
    "                locations_dict[location] = list()\n",
    "            locations_dict[location].append(i)\n",
    "        total_sentences = i\n",
    "    return locations_dict, location_to_number, total_sentences"
   ]
  },
  {
   "cell_type": "code",
   "execution_count": 120,
   "metadata": {},
   "outputs": [
    {
     "data": {
      "text/plain": [
       "{'Unknown': [0, 1, 2, 3, 4, 5],\n",
       " 'travel': [6],\n",
       " 'keep': [7],\n",
       " 'arrive': [8],\n",
       " 'village': [8, 9],\n",
       " 'visit': [10, 11, 12, 13, 14],\n",
       " 'castle': [15, 16, 17, 18, 19, 20, 21, 22, 23, 24, 25, 26],\n",
       " 'temple': [27, 28],\n",
       " 'leave': [30],\n",
       " 'temple1': [30, 31, 32],\n",
       " 'arrive1': [33, 34, 35, 36, 37, 38, 39, 40, 41, 42, 43, 44, 45],\n",
       " 'return': [46, 47, 48, 49, 50],\n",
       " 'place': [51, 52, 53, 54, 55, 56, 57, 58, 59, 60, 61],\n",
       " 'village1': [62, 63, 64],\n",
       " 'castle1': [65],\n",
       " 'place1': [65]}"
      ]
     },
     "execution_count": 120,
     "metadata": {},
     "output_type": "execute_result"
    }
   ],
   "source": [
    "locations_dict, location_number_map, total_sentences = events_by_location_2(text, annotated_story)\n",
    "locations_dict"
   ]
  },
  {
   "cell_type": "code",
   "execution_count": 121,
   "metadata": {},
   "outputs": [
    {
     "data": {
      "text/plain": [
       "65"
      ]
     },
     "execution_count": 121,
     "metadata": {},
     "output_type": "execute_result"
    }
   ],
   "source": [
    "total_sentences"
   ]
  },
  {
   "cell_type": "code",
   "execution_count": 122,
   "metadata": {},
   "outputs": [
    {
     "data": {
      "text/plain": [
       "{6, 7, 8, 10, 15, 27, 30, 33, 46, 51, 62, 65}"
      ]
     },
     "execution_count": 122,
     "metadata": {},
     "output_type": "execute_result"
    }
   ],
   "source": [
    "def construct_event_list(locations_dict):\n",
    "    events= []\n",
    "    for location in locations_dict:\n",
    "        events.append(locations_dict[location][0])\n",
    "    events.sort()\n",
    "    events.append(total_sentences)\n",
    "    while events[0] == 0:\n",
    "        del events[0]\n",
    "    return set(events)\n",
    "construct_event_list(locations_dict)"
   ]
  },
  {
   "cell_type": "code",
   "execution_count": null,
   "metadata": {},
   "outputs": [],
   "source": []
  }
 ],
 "metadata": {
  "kernelspec": {
   "display_name": "Python 3",
   "language": "python",
   "name": "python3"
  },
  "language_info": {
   "codemirror_mode": {
    "name": "ipython",
    "version": 3
   },
   "file_extension": ".py",
   "mimetype": "text/x-python",
   "name": "python",
   "nbconvert_exporter": "python",
   "pygments_lexer": "ipython3",
   "version": "3.6.12"
  }
 },
 "nbformat": 4,
 "nbformat_minor": 4
}
