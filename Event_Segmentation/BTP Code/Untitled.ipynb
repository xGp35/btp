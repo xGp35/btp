{
 "cells": [
  {
   "cell_type": "code",
   "execution_count": 1,
   "metadata": {},
   "outputs": [],
   "source": [
    "import pickle\n",
    "from stanza.server import CoreNLPClient"
   ]
  },
  {
   "cell_type": "code",
   "execution_count": 5,
   "metadata": {},
   "outputs": [],
   "source": [
    "f = open(r'C:\\Users\\Sourav\\BTP Code\\Harry_Potter_C3.txt', encoding='utf8', errors='ignore')\n",
    "txt = f.read()\n",
    "c_arr = txt.split(\"CHAPTER\")"
   ]
  },
  {
   "cell_type": "code",
   "execution_count": 3,
   "metadata": {},
   "outputs": [],
   "source": [
    "def sentence_selection(text, annotations):\n",
    "    \n",
    "    sentence_groups = dict()\n",
    "    for chain in ann.corefChain:\n",
    "        sentences = set()\n",
    "        idx = None\n",
    "        if chain.mention[0].animacy == \"INANIMATE\":\n",
    "            continue\n",
    "        for mention in chain.mention:\n",
    "            sentence = ann.sentence[mention.sentenceIndex]\n",
    "            sentence_string = text[sentence.characterOffsetBegin : sentence.characterOffsetEnd] \n",
    "            sentences.add(sentence_string)\n",
    "            if idx is None:\n",
    "                if mention.mentionType == \"PROPER\":\n",
    "                    for i in range(mention.beginIndex, mention.endIndex):\n",
    "                        idx = sentence.token[i].word\n",
    "        if idx is not None:\n",
    "            sentence_groups[idx] = list(sentences).copy()\n",
    "    return sentence_groups"
   ]
  },
  {
   "cell_type": "code",
   "execution_count": null,
   "metadata": {},
   "outputs": [
    {
     "name": "stderr",
     "output_type": "stream",
     "text": [
      "2020-12-19 15:54:27 INFO: Writing properties to tmp file: corenlp_server-930ae942a0cd4b24.props\n",
      "2020-12-19 15:54:27 INFO: Starting server with command: java -Xmx5G -cp C:\\Users\\Sourav\\stanza_corenlp\\* edu.stanford.nlp.pipeline.StanfordCoreNLPServer -port 9000 -timeout 36000000 -threads 5 -maxCharLength 500000 -quiet True -serverProperties corenlp_server-930ae942a0cd4b24.props -annotators tokenize,ssplit,pos,lemma,ner,parse,depparse,dcoref -preload -outputFormat serialized\n",
      "2020-12-19 15:54:49 INFO: Writing properties to tmp file: corenlp_server-760b729e6e784a48.props\n",
      "2020-12-19 15:54:49 INFO: Starting server with command: java -Xmx5G -cp C:\\Users\\Sourav\\stanza_corenlp\\* edu.stanford.nlp.pipeline.StanfordCoreNLPServer -port 9000 -timeout 36000000 -threads 5 -maxCharLength 500000 -quiet True -serverProperties corenlp_server-760b729e6e784a48.props -annotators tokenize,ssplit,pos,lemma,ner,parse,depparse,dcoref -preload -outputFormat serialized\n"
     ]
    },
    {
     "name": "stdout",
     "output_type": "stream",
     "text": [
      "0\n"
     ]
    },
    {
     "name": "stderr",
     "output_type": "stream",
     "text": [
      "2020-12-19 15:56:20 INFO: Writing properties to tmp file: corenlp_server-1fee5c2530e746a6.props\n",
      "2020-12-19 15:56:20 INFO: Starting server with command: java -Xmx5G -cp C:\\Users\\Sourav\\stanza_corenlp\\* edu.stanford.nlp.pipeline.StanfordCoreNLPServer -port 9000 -timeout 36000000 -threads 5 -maxCharLength 500000 -quiet True -serverProperties corenlp_server-1fee5c2530e746a6.props -annotators tokenize,ssplit,pos,lemma,ner,parse,depparse,dcoref -preload -outputFormat serialized\n"
     ]
    },
    {
     "name": "stdout",
     "output_type": "stream",
     "text": [
      "1\n"
     ]
    },
    {
     "name": "stderr",
     "output_type": "stream",
     "text": [
      "2020-12-19 15:57:49 INFO: Writing properties to tmp file: corenlp_server-48602100946d4f32.props\n",
      "2020-12-19 15:57:49 INFO: Starting server with command: java -Xmx5G -cp C:\\Users\\Sourav\\stanza_corenlp\\* edu.stanford.nlp.pipeline.StanfordCoreNLPServer -port 9000 -timeout 36000000 -threads 5 -maxCharLength 500000 -quiet True -serverProperties corenlp_server-48602100946d4f32.props -annotators tokenize,ssplit,pos,lemma,ner,parse,depparse,dcoref -preload -outputFormat serialized\n"
     ]
    },
    {
     "name": "stdout",
     "output_type": "stream",
     "text": [
      "2\n"
     ]
    },
    {
     "name": "stderr",
     "output_type": "stream",
     "text": [
      "2020-12-19 15:59:35 INFO: Writing properties to tmp file: corenlp_server-abb9ad2a7d2641f1.props\n",
      "2020-12-19 15:59:35 INFO: Starting server with command: java -Xmx5G -cp C:\\Users\\Sourav\\stanza_corenlp\\* edu.stanford.nlp.pipeline.StanfordCoreNLPServer -port 9000 -timeout 36000000 -threads 5 -maxCharLength 500000 -quiet True -serverProperties corenlp_server-abb9ad2a7d2641f1.props -annotators tokenize,ssplit,pos,lemma,ner,parse,depparse,dcoref -preload -outputFormat serialized\n"
     ]
    },
    {
     "name": "stdout",
     "output_type": "stream",
     "text": [
      "3\n"
     ]
    },
    {
     "name": "stderr",
     "output_type": "stream",
     "text": [
      "2020-12-19 16:01:47 INFO: Writing properties to tmp file: corenlp_server-f99b521be3564ec9.props\n",
      "2020-12-19 16:01:47 INFO: Starting server with command: java -Xmx5G -cp C:\\Users\\Sourav\\stanza_corenlp\\* edu.stanford.nlp.pipeline.StanfordCoreNLPServer -port 9000 -timeout 36000000 -threads 5 -maxCharLength 500000 -quiet True -serverProperties corenlp_server-f99b521be3564ec9.props -annotators tokenize,ssplit,pos,lemma,ner,parse,depparse,dcoref -preload -outputFormat serialized\n"
     ]
    },
    {
     "name": "stdout",
     "output_type": "stream",
     "text": [
      "4\n"
     ]
    },
    {
     "name": "stderr",
     "output_type": "stream",
     "text": [
      "2020-12-19 16:04:12 INFO: Writing properties to tmp file: corenlp_server-382c4ecd09694c64.props\n",
      "2020-12-19 16:04:12 INFO: Starting server with command: java -Xmx5G -cp C:\\Users\\Sourav\\stanza_corenlp\\* edu.stanford.nlp.pipeline.StanfordCoreNLPServer -port 9000 -timeout 36000000 -threads 5 -maxCharLength 500000 -quiet True -serverProperties corenlp_server-382c4ecd09694c64.props -annotators tokenize,ssplit,pos,lemma,ner,parse,depparse,dcoref -preload -outputFormat serialized\n"
     ]
    },
    {
     "name": "stdout",
     "output_type": "stream",
     "text": [
      "5\n"
     ]
    },
    {
     "name": "stderr",
     "output_type": "stream",
     "text": [
      "2020-12-19 16:06:42 INFO: Writing properties to tmp file: corenlp_server-bebc34e4e7c049fc.props\n",
      "2020-12-19 16:06:42 INFO: Starting server with command: java -Xmx5G -cp C:\\Users\\Sourav\\stanza_corenlp\\* edu.stanford.nlp.pipeline.StanfordCoreNLPServer -port 9000 -timeout 36000000 -threads 5 -maxCharLength 500000 -quiet True -serverProperties corenlp_server-bebc34e4e7c049fc.props -annotators tokenize,ssplit,pos,lemma,ner,parse,depparse,dcoref -preload -outputFormat serialized\n"
     ]
    },
    {
     "name": "stdout",
     "output_type": "stream",
     "text": [
      "6\n"
     ]
    },
    {
     "name": "stderr",
     "output_type": "stream",
     "text": [
      "2020-12-19 16:08:11 INFO: Writing properties to tmp file: corenlp_server-b57459fea79e4b67.props\n",
      "2020-12-19 16:08:11 INFO: Starting server with command: java -Xmx5G -cp C:\\Users\\Sourav\\stanza_corenlp\\* edu.stanford.nlp.pipeline.StanfordCoreNLPServer -port 9000 -timeout 36000000 -threads 5 -maxCharLength 500000 -quiet True -serverProperties corenlp_server-b57459fea79e4b67.props -annotators tokenize,ssplit,pos,lemma,ner,parse,depparse,dcoref -preload -outputFormat serialized\n"
     ]
    },
    {
     "name": "stdout",
     "output_type": "stream",
     "text": [
      "7\n"
     ]
    },
    {
     "name": "stderr",
     "output_type": "stream",
     "text": [
      "2020-12-19 16:10:17 INFO: Writing properties to tmp file: corenlp_server-f394f90bcb5c407a.props\n",
      "2020-12-19 16:10:17 INFO: Starting server with command: java -Xmx5G -cp C:\\Users\\Sourav\\stanza_corenlp\\* edu.stanford.nlp.pipeline.StanfordCoreNLPServer -port 9000 -timeout 36000000 -threads 5 -maxCharLength 500000 -quiet True -serverProperties corenlp_server-f394f90bcb5c407a.props -annotators tokenize,ssplit,pos,lemma,ner,parse,depparse,dcoref -preload -outputFormat serialized\n"
     ]
    },
    {
     "name": "stdout",
     "output_type": "stream",
     "text": [
      "8\n"
     ]
    },
    {
     "name": "stderr",
     "output_type": "stream",
     "text": [
      "2020-12-19 16:12:18 INFO: Writing properties to tmp file: corenlp_server-f4f785c085654c70.props\n",
      "2020-12-19 16:12:18 INFO: Starting server with command: java -Xmx5G -cp C:\\Users\\Sourav\\stanza_corenlp\\* edu.stanford.nlp.pipeline.StanfordCoreNLPServer -port 9000 -timeout 36000000 -threads 5 -maxCharLength 500000 -quiet True -serverProperties corenlp_server-f4f785c085654c70.props -annotators tokenize,ssplit,pos,lemma,ner,parse,depparse,dcoref -preload -outputFormat serialized\n"
     ]
    },
    {
     "name": "stdout",
     "output_type": "stream",
     "text": [
      "9\n"
     ]
    },
    {
     "name": "stderr",
     "output_type": "stream",
     "text": [
      "2020-12-19 16:15:26 INFO: Writing properties to tmp file: corenlp_server-388bd3843308412d.props\n",
      "2020-12-19 16:15:26 INFO: Starting server with command: java -Xmx5G -cp C:\\Users\\Sourav\\stanza_corenlp\\* edu.stanford.nlp.pipeline.StanfordCoreNLPServer -port 9000 -timeout 36000000 -threads 5 -maxCharLength 500000 -quiet True -serverProperties corenlp_server-388bd3843308412d.props -annotators tokenize,ssplit,pos,lemma,ner,parse,depparse,dcoref -preload -outputFormat serialized\n"
     ]
    },
    {
     "name": "stdout",
     "output_type": "stream",
     "text": [
      "10\n"
     ]
    },
    {
     "name": "stderr",
     "output_type": "stream",
     "text": [
      "2020-12-19 16:17:29 INFO: Writing properties to tmp file: corenlp_server-a2363007819f4742.props\n",
      "2020-12-19 16:17:29 INFO: Starting server with command: java -Xmx5G -cp C:\\Users\\Sourav\\stanza_corenlp\\* edu.stanford.nlp.pipeline.StanfordCoreNLPServer -port 9000 -timeout 36000000 -threads 5 -maxCharLength 500000 -quiet True -serverProperties corenlp_server-a2363007819f4742.props -annotators tokenize,ssplit,pos,lemma,ner,parse,depparse,dcoref -preload -outputFormat serialized\n"
     ]
    },
    {
     "name": "stdout",
     "output_type": "stream",
     "text": [
      "11\n"
     ]
    }
   ],
   "source": [
    "i = 0\n",
    "for chap in c_arr:\n",
    "    with CoreNLPClient(annotators = ['tokenize','ssplit','pos','lemma','ner', 'parse', 'depparse','dcoref'],\n",
    "        memory='5G', be_quiet=True, outputFormat = 'json', max_char_length=500000, timeout=36000000) as client:\n",
    "        ann = client.annotate(chap)\n",
    "    grp = sentence_selection(chap, ann)\n",
    "    file = open(r'C:\\Users\\Sourav\\BTP Code\\Harry_Potter\\v3c'+str(i)+'grp', 'wb')\n",
    "    pickle.dump(grp,file)\n",
    "    print(i)\n",
    "    file.close()\n",
    "    i+=1"
   ]
  },
  {
   "cell_type": "code",
   "execution_count": null,
   "metadata": {},
   "outputs": [],
   "source": []
  }
 ],
 "metadata": {
  "kernelspec": {
   "display_name": "Python 3",
   "language": "python",
   "name": "python3"
  },
  "language_info": {
   "codemirror_mode": {
    "name": "ipython",
    "version": 3
   },
   "file_extension": ".py",
   "mimetype": "text/x-python",
   "name": "python",
   "nbconvert_exporter": "python",
   "pygments_lexer": "ipython3",
   "version": "3.8.5"
  }
 },
 "nbformat": 4,
 "nbformat_minor": 4
}
