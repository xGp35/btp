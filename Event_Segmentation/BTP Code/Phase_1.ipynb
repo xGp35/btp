{
 "cells": [
  {
   "cell_type": "code",
   "execution_count": 1,
   "metadata": {},
   "outputs": [],
   "source": [
    "from stanza.server import CoreNLPClient"
   ]
  },
  {
   "cell_type": "code",
   "execution_count": 2,
   "metadata": {},
   "outputs": [],
   "source": [
    "def gender_processing(sentence_groups):\n",
    "    def gender(tag):\n",
    "        gender_sum = sentence_groups[tag]['gender']\n",
    "        number = sentence_groups[tag]['number']\n",
    "        if number == 0:\n",
    "            return \"UNKNOWN\"\n",
    "        print(tag, gender_sum, number)\n",
    "        gender = gender_sum/number\n",
    "        if gender<-(1/3):\n",
    "            return \"FEMALE\"\n",
    "        elif gender>(1/3):\n",
    "            return \"MALE\"\n",
    "        else:\n",
    "            return \"UNKNOWN\"\n",
    "    for tag in sentence_groups.keys():\n",
    "        sentence_groups[tag]['gender'] = gender(tag)"
   ]
  },
  {
   "cell_type": "code",
   "execution_count": 3,
   "metadata": {},
   "outputs": [],
   "source": [
    "def sentence_selection_mod(text, annotations):\n",
    "    \"\"\"Groups the sentences based on animate entities\n",
    "    \n",
    "    Input:\n",
    "        text : the story\n",
    "        annotations : annotators of text\n",
    "        \n",
    "    Output:\n",
    "        sentence_groups : dictionary containing sentences belonging to different animate entities    \n",
    "    \"\"\"    \n",
    "    \n",
    "    sentence_groups = dict()\n",
    "    tag_dict = dict()\n",
    "                \n",
    "    for chain in ann.corefChain:\n",
    "        sentences = set()\n",
    "        rep_mention = chain.mention[chain.representative]\n",
    "        if rep_mention.animacy == \"INANIMATE\" or rep_mention.mentionType == \"PRONOMINAL\":\n",
    "            continue\n",
    "        sI = rep_mention.sentenceIndex\n",
    "        hI = rep_mention.headIndex\n",
    "        if (sI, hI) not in tag_dict:\n",
    "            tag_dict[(sI, hI)] = ann.sentence[sI].token[hI].word\n",
    "        tag = tag_dict[(sI, hI)].lower()\n",
    "        print(tag, rep_mention.mentionType, chain.chainID)\n",
    "        if tag not in sentence_groups:\n",
    "            sentence_groups[tag] = dict()\n",
    "            sentence_groups[tag]['gender'] = 0\n",
    "            sentence_groups[tag]['number'] = 0\n",
    "            sentence_groups[tag]['sentences'] = set()\n",
    "        for mention in chain.mention:\n",
    "            if (mention.mentionType == \"PRONOMINAL\" and mention.number == \"SINGULAR\") or not (mention.gender == \"UNKNOWN\"):\n",
    "                sentence_groups[tag]['gender'] += (0 if mention.gender == \"UNKNOWN\" else (1 if mention.gender == \"MALE\" else -1))\n",
    "                sentence_groups[tag]['number'] +=1\n",
    "            sentence_groups[tag]['sentences'].add(mention.sentenceIndex)\n",
    "#         sentence_groups[tag]['sentences'] = sentence_groups[tag]['sentences'].union(sentences.copy())\n",
    "    gender_processing(sentence_groups)\n",
    "    return sentence_groups"
   ]
  },
  {
   "cell_type": "code",
   "execution_count": 20,
   "metadata": {},
   "outputs": [],
   "source": [
    "file = open(r'C:\\Users\\Sourav\\Desktop\\BTP\\btp-1\\Event_Segmentation\\BTP Code\\Panchatantra\\the_story_of_the_merchant_son.txt', errors='ignore')\n",
    "text = file.read()\n",
    "file.close()"
   ]
  },
  {
   "cell_type": "code",
   "execution_count": 21,
   "metadata": {},
   "outputs": [
    {
     "name": "stderr",
     "output_type": "stream",
     "text": [
      "2021-02-16 13:35:50 INFO: Writing properties to tmp file: corenlp_server-4c94d95d3edf468b.props\n",
      "2021-02-16 13:35:50 INFO: Starting server with command: java -Xmx5G -cp C:\\Users\\Sourav\\stanza_corenlp\\* edu.stanford.nlp.pipeline.StanfordCoreNLPServer -port 9000 -timeout 36000000 -threads 5 -maxCharLength 500000 -quiet True -serverProperties corenlp_server-4c94d95d3edf468b.props -annotators tokenize,ssplit,pos,lemma,ner,parse,depparse,coref -preload -outputFormat serialized\n"
     ]
    },
    {
     "name": "stdout",
     "output_type": "stream",
     "text": [
      "78.06968951225281\n"
     ]
    }
   ],
   "source": [
    "import time\n",
    "t1 = time.time()\n",
    "with CoreNLPClient(annotators = ['tokenize','ssplit','pos','lemma','ner', 'parse', 'depparse','coref'],\n",
    "    properties={'annotators': 'coref', 'coref.algorithm' : 'neural'},\n",
    "    memory='5G', be_quiet=True, outputFormat = 'json', max_char_length=500000, timeout=36000000) as client:\n",
    "    ann = client.annotate(text)\n",
    "t2 = time.time()\n",
    "print(t2-t1)"
   ]
  },
  {
   "cell_type": "code",
   "execution_count": 22,
   "metadata": {},
   "outputs": [
    {
     "name": "stdout",
     "output_type": "stream",
     "text": [
      "merchant NOMINAL 320\n",
      "king PROPER 323\n",
      "son NOMINAL 133\n",
      "princess NOMINAL 325\n",
      "sagardatta PROPER 6\n",
      "man NOMINAL 329\n",
      "daughter NOMINAL 333\n",
      "attendant NOMINAL 81\n",
      "bride LIST 337\n",
      "watchman NOMINAL 346\n",
      "son NOMINAL 31\n",
      "nail NOMINAL 230\n",
      "father NOMINAL 176\n",
      "stranger NOMINAL 243\n",
      "princess LIST 307\n",
      "prince NOMINAL 182\n",
      "lover NOMINAL 183\n",
      "friends LIST 247\n",
      "groom NOMINAL 248\n",
      "merchant 1 1\n",
      "king 9 29\n",
      "son 14 23\n",
      "princess -23 32\n",
      "sagardatta 2 2\n",
      "man 31 31\n",
      "daughter -14 14\n",
      "attendant 3 3\n",
      "watchman 14 14\n",
      "nail 0 2\n",
      "father 2 2\n",
      "stranger 2 2\n",
      "prince 8 8\n",
      "groom 2 2\n"
     ]
    }
   ],
   "source": [
    "grps = sentence_selection_mod(text, ann)"
   ]
  },
  {
   "cell_type": "code",
   "execution_count": 23,
   "metadata": {},
   "outputs": [
    {
     "data": {
      "text/plain": [
       "66"
      ]
     },
     "execution_count": 23,
     "metadata": {},
     "output_type": "execute_result"
    }
   ],
   "source": [
    "len(ann.sentence)"
   ]
  },
  {
   "cell_type": "code",
   "execution_count": 24,
   "metadata": {},
   "outputs": [
    {
     "name": "stdout",
     "output_type": "stream",
     "text": [
      "{'merchant': {'gender': 'MALE', 'number': 1, 'sentences': {0, 3, 13, 24, 62}}, 'king': {'gender': 'UNKNOWN', 'number': 29, 'sentences': {41, 43, 44, 46, 47, 48, 50, 52, 53, 54, 57, 58, 59, 60, 61, 62, 63}}, 'son': {'gender': 'MALE', 'number': 23, 'sentences': {0, 1, 3, 4, 5, 13, 14, 15, 16, 17, 18, 19, 20, 24}}, 'princess': {'gender': 'FEMALE', 'number': 32, 'sentences': {10, 11, 12, 14, 17, 18, 19, 20, 21, 22, 23, 25, 26, 31, 51, 56, 57, 59, 60, 63}}, 'sagardatta': {'gender': 'MALE', 'number': 2, 'sentences': {0, 1}}, 'man': {'gender': 'MALE', 'number': 31, 'sentences': {6, 7, 8, 9, 27, 28, 30, 31, 32, 33, 36, 38, 39, 41, 44, 52, 53, 54, 55, 63}}, 'daughter': {'gender': 'FEMALE', 'number': 14, 'sentences': {64, 33, 34, 37, 38, 51, 56, 57, 58}}, 'attendant': {'gender': 'MALE', 'number': 3, 'sentences': {11, 12, 13}}, 'bride': {'gender': 'UNKNOWN', 'number': 0, 'sentences': {64}}, 'watchman': {'gender': 'MALE', 'number': 14, 'sentences': {64, 65, 33, 34, 51, 56, 57, 58, 29}}, 'nail': {'gender': 'UNKNOWN', 'number': 2, 'sentences': {44}}, 'father': {'gender': 'MALE', 'number': 2, 'sentences': {33, 6}}, 'stranger': {'gender': 'MALE', 'number': 2, 'sentences': {46, 47}}, 'prince': {'gender': 'MALE', 'number': 8, 'sentences': {34, 10, 11, 25, 26}}, 'lover': {'gender': 'UNKNOWN', 'number': 0, 'sentences': {33, 34}}, 'friends': {'gender': 'UNKNOWN', 'number': 0, 'sentences': {49, 46}}, 'groom': {'gender': 'MALE', 'number': 2, 'sentences': {49, 41}}}\n"
     ]
    }
   ],
   "source": [
    "print(grps)"
   ]
  },
  {
   "cell_type": "code",
   "execution_count": 25,
   "metadata": {},
   "outputs": [],
   "source": [
    "import pickle\n",
    "file = open(r'C:\\Users\\Sourav\\Desktop\\BTP\\btp-1\\Event_Segmentation\\BTP Code\\Panchatantra\\the_story_of_the_merchant_son_ann.gpickle', 'wb')\n",
    "pickle.dump(grps, file)\n",
    "file.close()"
   ]
  },
  {
   "cell_type": "code",
   "execution_count": 134,
   "metadata": {},
   "outputs": [],
   "source": [
    "#metrics\n",
    "def metrics(obv, data):\n",
    "    stp = sprec_den = sfn = 0\n",
    "    gtp = 0\n",
    "    keys = set(obv.keys()).intersection(set(data.keys()))\n",
    "    for char in keys:\n",
    "        stp += len(obv[char][\"sentences\"].intersection(data[char][\"sentences\"]))\n",
    "        gtp += 1 if (obv[char][\"gender\"]==data[char][\"gender\"]) else 0\n",
    "        sprec_den += len(obv[char][\"sentences\"])\n",
    "        sfn += len(data[char][\"sentences\"]) - len(obv[char][\"sentences\"].intersection(data[char][\"sentences\"]))\n",
    "#     sprecision = stp/sprec_den\n",
    "#     srecall = stp/(stp+sfn)\n",
    "#     sF1_score = 2*sprecision*srecall/(sprecision+srecall)\n",
    "    gaccuracy = gtp/len(keys)\n",
    "    caccuracy = len(keys)/len(data.keys())\n",
    "    return (caccuracy, gaccuracy)"
   ]
  },
  {
   "cell_type": "code",
   "execution_count": 135,
   "metadata": {},
   "outputs": [
    {
     "name": "stdout",
     "output_type": "stream",
     "text": [
      "{'weaver': {'gender': 'MALE', 'sentences': [1]}, 'wife': {'gender': 'FEMALE', 'sentences': [3, 4]}}\n"
     ]
    }
   ],
   "source": [
    "import pickle\n",
    "file = open(r'C:\\Users\\Sourav\\BTP Code\\Panchatantra\\foolish_weaver.gpickle', 'rb')\n",
    "data = pickle.load(file)\n",
    "file.close()\n",
    "print(data)"
   ]
  },
  {
   "cell_type": "code",
   "execution_count": 136,
   "metadata": {},
   "outputs": [
    {
     "data": {
      "text/plain": [
       "(1.0, 0.5)"
      ]
     },
     "execution_count": 136,
     "metadata": {},
     "output_type": "execute_result"
    }
   ],
   "source": [
    "metrics(grps, data)"
   ]
  },
  {
   "cell_type": "code",
   "execution_count": null,
   "metadata": {},
   "outputs": [],
   "source": []
  },
  {
   "cell_type": "code",
   "execution_count": 80,
   "metadata": {},
   "outputs": [
    {
     "data": {
      "text/plain": [
       "(1.0, 1.0, 0.9836065573770492, 0.5405405405405406, 0.6976744186046512)"
      ]
     },
     "execution_count": 80,
     "metadata": {},
     "output_type": "execute_result"
    }
   ],
   "source": [
    "#the monkey and the crocodile\n",
    "metrics(grps, data)"
   ]
  },
  {
   "cell_type": "code",
   "execution_count": 88,
   "metadata": {},
   "outputs": [
    {
     "data": {
      "text/plain": [
       "(0.9090909090909091,\n",
       " 0.7,\n",
       " 0.7317073170731707,\n",
       " 0.5504587155963303,\n",
       " 0.6282722513089005)"
      ]
     },
     "execution_count": 88,
     "metadata": {},
     "output_type": "execute_result"
    }
   ],
   "source": [
    "#the_story_of_the_merchant_son\n",
    "metrics(grps, data)"
   ]
  },
  {
   "cell_type": "code",
   "execution_count": 31,
   "metadata": {},
   "outputs": [
    {
     "data": {
      "text/plain": [
       "(0.8333333333333334,\n",
       " 0.8333333333333334,\n",
       " 0.9047619047619048,\n",
       " 0.7808219178082192,\n",
       " 0.8382352941176471)"
      ]
     },
     "execution_count": 31,
     "metadata": {},
     "output_type": "execute_result"
    }
   ],
   "source": [
    "#the_thief_and_the_brahmins\n",
    "metrics(grps, data)"
   ]
  },
  {
   "cell_type": "code",
   "execution_count": 66,
   "metadata": {},
   "outputs": [
    {
     "data": {
      "text/plain": [
       "(0.42857142857142855, 1.0, 0.875, 1.0, 0.9333333333333333)"
      ]
     },
     "execution_count": 66,
     "metadata": {},
     "output_type": "execute_result"
    }
   ],
   "source": [
    "#the_monkey_the_wedge\n",
    "metrics(grps, data)"
   ]
  },
  {
   "cell_type": "code",
   "execution_count": 27,
   "metadata": {},
   "outputs": [
    {
     "name": "stdout",
     "output_type": "stream",
     "text": [
      "0: Sagardatta was a merchant who had a handsome young son.\n",
      "1: One day, he observed that his young son had bought a costly book.\n",
      "2: But the book contained only one verse: \"You get what is destined for you!\"\n",
      "3: When the merchant realized that his son was a fool to buy a book with so much cost, but only one verse, he grew very angry.\n",
      "4: He said, \"How can you do well in business, when you can buy a book which contains only one verse!\n",
      "5: Get out of my house, and never show me your face again!\n",
      "6: \"\n",
      " \n",
      "The young man was utterly dejected for being driven out by his father; he started travelling with only his book along with him.\n",
      "7: He learnt the verse well, and kept repeating it, all the way.\n",
      "8: On his way, he arrived in a village.\n",
      "9: The villagers asked him his name and he replied from the book, \"You get what is destined for you\"\n",
      " \n",
      "Thus, the young man became known as 'You-get-what-is-destined-for-you'.\n",
      "10: One day, the princess of the country visited a festival and saw a handsome prince, who was also attending the festival.\n",
      "11: She fell in love immediately and asked her attendant to find a way to send a message to the handsome prince.\n",
      "12: She wrote a note, and gave it to her attendant.\n",
      "13: The attendant gave the note to the young merchant's son by mistake.\n",
      "14: He read that she wrote, \"I have fallen in love with you, the very moment I have set my eyes on you.\n",
      "15: Please meet me in the castle.\n",
      "16: You will find a rope hanging from one of the windows, which will lead you to my room.\n",
      "17: \"\n",
      " \n",
      "He thought, \"I will honour the wishes of the princess to meet me in person.\n",
      "18: \"\n",
      " \n",
      "When he climbed up the rope, and entered the princess's room, it was very dark.\n",
      "19: The princess thought he was the prince at the festival, and received him warmly.\n",
      "20: She served him food and drink, and entertained him in every manner.\n",
      "21: She said, \"I have deeply fallen in love with you.\n",
      "22: I shall have no other man as my husband, except for you.\n",
      "23: Please tell me what you have in your mind.\n",
      "24: \"\n",
      " \n",
      "The merchant's son replied, \"You get what is destined for you\".\n",
      "25: She was surprised to hear the prince speak so, and immediately enlightened her room.\n",
      "26: She got furious when she realized he was not the handsome prince, she thought him to be, and ordered him out of her room.\n",
      "27: The young man was sad on being treated in such manner without being at fault, and walked to a nearby temple.\n",
      "28: He decided to spend the night there, and fell asleep.\n",
      "29: The temple remained un-inhabitated and the night watchman carried out tasks of ill-repute during the night.\n",
      "30: He wanted the young man to leave and said, \"This temple is old and broken.\n",
      "31: You may sleep in my home.\n",
      "32: \"\n",
      " \n",
      "Thus, the young man went to his house.\n",
      "33: But he made a mistake and got into the wrong room, where the watchman's daughter was waiting for her lover to arrive during her father's absence.\n",
      "34: In the darkness of the night, the watchman's daughter mistook him for her lover and exchanged garlands in front of the picture of God.\n",
      "35: Thus, according to traditions they got married.\n",
      "36: The young man said, \"You get what is destined for you\".\n",
      "37: When she heard this, she realized she had done a mistake, and thought, \"Such mistake is bound to happen, when you rush into doing something without thinking sufficiently about it!\"\n",
      "38: She cursed him and threw him out of the house.\n",
      "39: Saddened for being treated in such manner without being at fault, he was walking slowly, when he saw a marriage procession approaching.\n",
      "40: They had magnificent clothes, and wore precious jewels.\n",
      "41: He followed the groom's procession, which was going to the bride's home, where a lavish ceremony was arranged.\n",
      "42: All of a sudden, a mad elephant rushed towards the procession, and everybody ran helter-skelter.\n",
      "43: The bride stood there in the middle of the turmoil, too afraid to run.\n",
      "44: When he saw this, the young man got hold of a huge nail, and jabbed it into the elephant.\n",
      "45: The elephant got frightened and ran away.\n",
      "46: After a while, when the bride's friends and relatives returned, she said, \"At the moment when my life was in danger, there was none to help me except for this courageous stranger.\n",
      "47: I will marry none other than him.\n",
      "48: This is my firm resolution.\n",
      "49: \"\n",
      " \n",
      "The groom's friends and relatives were offended by these words, and there was a heated argument.\n",
      "50: When the words reached around, the king had to come himself to pacify everybody and stop the argument.\n",
      "51: Everyone including the princess and the watchman's daughter came to the place.\n",
      "52: The king asked the young man, \"You were present in the ceremony.\n",
      "53: You saved the would-be bride and everybody from the elephant, it is said.\n",
      "54: I ask you to explain the whole thing to me!\n",
      "55: \"\n",
      " \n",
      "All the young man said was, \"You get what is destined for you\".\n",
      "56: The princess and the watchman's daughter were embarrassed to hear the words.\n",
      "57: When the king heard this and saw the princess and the watchman's daughter blushing, he demanded to know the truth.\n",
      "58: The night watchman's daughter confessed of marrying him by mistake, and said, \"It was my destiny, and I do not repent it!\"\n",
      "59: The princess explained to the king that she had spent time with him by mistake, and said, \"It was my destiny, and I do not regret it!\"\n",
      "60: On hearing them, the bride confronted the king and said, \"O King, what destiny has given to me, none can take away from me!\"\n",
      "61: After hearing everybody and consulting his ministers, the king arranged for a ceremony.\n",
      "62: He gifted the young merchant's son with a thousand villages, apart from ornaments and golds.\n",
      "63: He married the young man with his young princess, and made him his heir to the throne.\n",
      "64: The bride-in-waiting, and the watchman's daughter were also married to him, by their respective parents, in the same ceremony.\n",
      "65: When he built his own castle, he arranged for his parents and relatives to be brought to his place, and they all lived happily ever after.\n"
     ]
    }
   ],
   "source": [
    "for i, s in enumerate(ann.sentence):\n",
    "    print(str(i)+\": \"+text[s.characterOffsetBegin:s.characterOffsetEnd])"
   ]
  },
  {
   "cell_type": "code",
   "execution_count": null,
   "metadata": {},
   "outputs": [],
   "source": []
  }
 ],
 "metadata": {
  "kernelspec": {
   "display_name": "Python 3",
   "language": "python",
   "name": "python3"
  },
  "language_info": {
   "codemirror_mode": {
    "name": "ipython",
    "version": 3
   },
   "file_extension": ".py",
   "mimetype": "text/x-python",
   "name": "python",
   "nbconvert_exporter": "python",
   "pygments_lexer": "ipython3",
   "version": "3.8.5"
  }
 },
 "nbformat": 4,
 "nbformat_minor": 4
}
